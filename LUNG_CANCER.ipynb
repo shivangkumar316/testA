{
 "cells": [
  {
   "cell_type": "code",
   "execution_count": 1,
   "id": "6d6de9e6",
   "metadata": {},
   "outputs": [],
   "source": [
    "import pandas as pd\n",
    "import numpy as np\n",
    "import seaborn as sns"
   ]
  },
  {
   "cell_type": "code",
   "execution_count": 2,
   "id": "8732d7e2",
   "metadata": {},
   "outputs": [],
   "source": [
    "df = pd.read_csv(r'C:\\Users\\LENOVO\\Downloads\\survey_lung_cancer.csv',header=0)"
   ]
  },
  {
   "cell_type": "code",
   "execution_count": 3,
   "id": "c839c8a9",
   "metadata": {},
   "outputs": [
    {
     "data": {
      "text/html": [
       "<div>\n",
       "<style scoped>\n",
       "    .dataframe tbody tr th:only-of-type {\n",
       "        vertical-align: middle;\n",
       "    }\n",
       "\n",
       "    .dataframe tbody tr th {\n",
       "        vertical-align: top;\n",
       "    }\n",
       "\n",
       "    .dataframe thead th {\n",
       "        text-align: right;\n",
       "    }\n",
       "</style>\n",
       "<table border=\"1\" class=\"dataframe\">\n",
       "  <thead>\n",
       "    <tr style=\"text-align: right;\">\n",
       "      <th></th>\n",
       "      <th>GENDER</th>\n",
       "      <th>AGE</th>\n",
       "      <th>SMOKING</th>\n",
       "      <th>YELLOW_FINGERS</th>\n",
       "      <th>ANXIETY</th>\n",
       "      <th>PEER_PRESSURE</th>\n",
       "      <th>CHRONIC DISEASE</th>\n",
       "      <th>FATIGUE</th>\n",
       "      <th>ALLERGY</th>\n",
       "      <th>WHEEZING</th>\n",
       "      <th>ALCOHOL CONSUMING</th>\n",
       "      <th>COUGHING</th>\n",
       "      <th>SHORTNESS OF BREATH</th>\n",
       "      <th>SWALLOWING DIFFICULTY</th>\n",
       "      <th>CHEST PAIN</th>\n",
       "      <th>LUNG_CANCER</th>\n",
       "    </tr>\n",
       "  </thead>\n",
       "  <tbody>\n",
       "    <tr>\n",
       "      <th>0</th>\n",
       "      <td>M</td>\n",
       "      <td>69</td>\n",
       "      <td>1</td>\n",
       "      <td>2</td>\n",
       "      <td>2</td>\n",
       "      <td>1</td>\n",
       "      <td>1</td>\n",
       "      <td>2</td>\n",
       "      <td>1</td>\n",
       "      <td>2</td>\n",
       "      <td>2</td>\n",
       "      <td>2</td>\n",
       "      <td>2</td>\n",
       "      <td>2</td>\n",
       "      <td>2</td>\n",
       "      <td>1</td>\n",
       "    </tr>\n",
       "    <tr>\n",
       "      <th>1</th>\n",
       "      <td>M</td>\n",
       "      <td>74</td>\n",
       "      <td>2</td>\n",
       "      <td>1</td>\n",
       "      <td>1</td>\n",
       "      <td>1</td>\n",
       "      <td>2</td>\n",
       "      <td>2</td>\n",
       "      <td>2</td>\n",
       "      <td>1</td>\n",
       "      <td>1</td>\n",
       "      <td>1</td>\n",
       "      <td>2</td>\n",
       "      <td>2</td>\n",
       "      <td>2</td>\n",
       "      <td>1</td>\n",
       "    </tr>\n",
       "    <tr>\n",
       "      <th>2</th>\n",
       "      <td>F</td>\n",
       "      <td>59</td>\n",
       "      <td>1</td>\n",
       "      <td>1</td>\n",
       "      <td>1</td>\n",
       "      <td>2</td>\n",
       "      <td>1</td>\n",
       "      <td>2</td>\n",
       "      <td>1</td>\n",
       "      <td>2</td>\n",
       "      <td>1</td>\n",
       "      <td>2</td>\n",
       "      <td>2</td>\n",
       "      <td>1</td>\n",
       "      <td>2</td>\n",
       "      <td>0</td>\n",
       "    </tr>\n",
       "    <tr>\n",
       "      <th>3</th>\n",
       "      <td>M</td>\n",
       "      <td>63</td>\n",
       "      <td>2</td>\n",
       "      <td>2</td>\n",
       "      <td>2</td>\n",
       "      <td>1</td>\n",
       "      <td>1</td>\n",
       "      <td>1</td>\n",
       "      <td>1</td>\n",
       "      <td>1</td>\n",
       "      <td>2</td>\n",
       "      <td>1</td>\n",
       "      <td>1</td>\n",
       "      <td>2</td>\n",
       "      <td>2</td>\n",
       "      <td>0</td>\n",
       "    </tr>\n",
       "    <tr>\n",
       "      <th>4</th>\n",
       "      <td>F</td>\n",
       "      <td>63</td>\n",
       "      <td>1</td>\n",
       "      <td>2</td>\n",
       "      <td>1</td>\n",
       "      <td>1</td>\n",
       "      <td>1</td>\n",
       "      <td>1</td>\n",
       "      <td>1</td>\n",
       "      <td>2</td>\n",
       "      <td>1</td>\n",
       "      <td>2</td>\n",
       "      <td>2</td>\n",
       "      <td>1</td>\n",
       "      <td>1</td>\n",
       "      <td>0</td>\n",
       "    </tr>\n",
       "  </tbody>\n",
       "</table>\n",
       "</div>"
      ],
      "text/plain": [
       "  GENDER  AGE  SMOKING  YELLOW_FINGERS  ANXIETY  PEER_PRESSURE  \\\n",
       "0      M   69        1               2        2              1   \n",
       "1      M   74        2               1        1              1   \n",
       "2      F   59        1               1        1              2   \n",
       "3      M   63        2               2        2              1   \n",
       "4      F   63        1               2        1              1   \n",
       "\n",
       "   CHRONIC DISEASE  FATIGUE   ALLERGY   WHEEZING  ALCOHOL CONSUMING  COUGHING  \\\n",
       "0                1         2         1         2                  2         2   \n",
       "1                2         2         2         1                  1         1   \n",
       "2                1         2         1         2                  1         2   \n",
       "3                1         1         1         1                  2         1   \n",
       "4                1         1         1         2                  1         2   \n",
       "\n",
       "   SHORTNESS OF BREATH  SWALLOWING DIFFICULTY  CHEST PAIN  LUNG_CANCER  \n",
       "0                    2                      2           2            1  \n",
       "1                    2                      2           2            1  \n",
       "2                    2                      1           2            0  \n",
       "3                    1                      2           2            0  \n",
       "4                    2                      1           1            0  "
      ]
     },
     "execution_count": 3,
     "metadata": {},
     "output_type": "execute_result"
    }
   ],
   "source": [
    "df.head()"
   ]
  },
  {
   "cell_type": "code",
   "execution_count": 4,
   "id": "68068f4e",
   "metadata": {},
   "outputs": [],
   "source": [
    "df=pd.get_dummies(df)"
   ]
  },
  {
   "cell_type": "code",
   "execution_count": 5,
   "id": "7b5cebbe",
   "metadata": {},
   "outputs": [
    {
     "data": {
      "text/html": [
       "<div>\n",
       "<style scoped>\n",
       "    .dataframe tbody tr th:only-of-type {\n",
       "        vertical-align: middle;\n",
       "    }\n",
       "\n",
       "    .dataframe tbody tr th {\n",
       "        vertical-align: top;\n",
       "    }\n",
       "\n",
       "    .dataframe thead th {\n",
       "        text-align: right;\n",
       "    }\n",
       "</style>\n",
       "<table border=\"1\" class=\"dataframe\">\n",
       "  <thead>\n",
       "    <tr style=\"text-align: right;\">\n",
       "      <th></th>\n",
       "      <th>AGE</th>\n",
       "      <th>SMOKING</th>\n",
       "      <th>YELLOW_FINGERS</th>\n",
       "      <th>ANXIETY</th>\n",
       "      <th>PEER_PRESSURE</th>\n",
       "      <th>CHRONIC DISEASE</th>\n",
       "      <th>FATIGUE</th>\n",
       "      <th>ALLERGY</th>\n",
       "      <th>WHEEZING</th>\n",
       "      <th>ALCOHOL CONSUMING</th>\n",
       "      <th>COUGHING</th>\n",
       "      <th>SHORTNESS OF BREATH</th>\n",
       "      <th>SWALLOWING DIFFICULTY</th>\n",
       "      <th>CHEST PAIN</th>\n",
       "      <th>LUNG_CANCER</th>\n",
       "      <th>GENDER_F</th>\n",
       "      <th>GENDER_M</th>\n",
       "    </tr>\n",
       "  </thead>\n",
       "  <tbody>\n",
       "    <tr>\n",
       "      <th>0</th>\n",
       "      <td>69</td>\n",
       "      <td>1</td>\n",
       "      <td>2</td>\n",
       "      <td>2</td>\n",
       "      <td>1</td>\n",
       "      <td>1</td>\n",
       "      <td>2</td>\n",
       "      <td>1</td>\n",
       "      <td>2</td>\n",
       "      <td>2</td>\n",
       "      <td>2</td>\n",
       "      <td>2</td>\n",
       "      <td>2</td>\n",
       "      <td>2</td>\n",
       "      <td>1</td>\n",
       "      <td>0</td>\n",
       "      <td>1</td>\n",
       "    </tr>\n",
       "    <tr>\n",
       "      <th>1</th>\n",
       "      <td>74</td>\n",
       "      <td>2</td>\n",
       "      <td>1</td>\n",
       "      <td>1</td>\n",
       "      <td>1</td>\n",
       "      <td>2</td>\n",
       "      <td>2</td>\n",
       "      <td>2</td>\n",
       "      <td>1</td>\n",
       "      <td>1</td>\n",
       "      <td>1</td>\n",
       "      <td>2</td>\n",
       "      <td>2</td>\n",
       "      <td>2</td>\n",
       "      <td>1</td>\n",
       "      <td>0</td>\n",
       "      <td>1</td>\n",
       "    </tr>\n",
       "    <tr>\n",
       "      <th>2</th>\n",
       "      <td>59</td>\n",
       "      <td>1</td>\n",
       "      <td>1</td>\n",
       "      <td>1</td>\n",
       "      <td>2</td>\n",
       "      <td>1</td>\n",
       "      <td>2</td>\n",
       "      <td>1</td>\n",
       "      <td>2</td>\n",
       "      <td>1</td>\n",
       "      <td>2</td>\n",
       "      <td>2</td>\n",
       "      <td>1</td>\n",
       "      <td>2</td>\n",
       "      <td>0</td>\n",
       "      <td>1</td>\n",
       "      <td>0</td>\n",
       "    </tr>\n",
       "    <tr>\n",
       "      <th>3</th>\n",
       "      <td>63</td>\n",
       "      <td>2</td>\n",
       "      <td>2</td>\n",
       "      <td>2</td>\n",
       "      <td>1</td>\n",
       "      <td>1</td>\n",
       "      <td>1</td>\n",
       "      <td>1</td>\n",
       "      <td>1</td>\n",
       "      <td>2</td>\n",
       "      <td>1</td>\n",
       "      <td>1</td>\n",
       "      <td>2</td>\n",
       "      <td>2</td>\n",
       "      <td>0</td>\n",
       "      <td>0</td>\n",
       "      <td>1</td>\n",
       "    </tr>\n",
       "    <tr>\n",
       "      <th>4</th>\n",
       "      <td>63</td>\n",
       "      <td>1</td>\n",
       "      <td>2</td>\n",
       "      <td>1</td>\n",
       "      <td>1</td>\n",
       "      <td>1</td>\n",
       "      <td>1</td>\n",
       "      <td>1</td>\n",
       "      <td>2</td>\n",
       "      <td>1</td>\n",
       "      <td>2</td>\n",
       "      <td>2</td>\n",
       "      <td>1</td>\n",
       "      <td>1</td>\n",
       "      <td>0</td>\n",
       "      <td>1</td>\n",
       "      <td>0</td>\n",
       "    </tr>\n",
       "  </tbody>\n",
       "</table>\n",
       "</div>"
      ],
      "text/plain": [
       "   AGE  SMOKING  YELLOW_FINGERS  ANXIETY  PEER_PRESSURE  CHRONIC DISEASE  \\\n",
       "0   69        1               2        2              1                1   \n",
       "1   74        2               1        1              1                2   \n",
       "2   59        1               1        1              2                1   \n",
       "3   63        2               2        2              1                1   \n",
       "4   63        1               2        1              1                1   \n",
       "\n",
       "   FATIGUE   ALLERGY   WHEEZING  ALCOHOL CONSUMING  COUGHING  \\\n",
       "0         2         1         2                  2         2   \n",
       "1         2         2         1                  1         1   \n",
       "2         2         1         2                  1         2   \n",
       "3         1         1         1                  2         1   \n",
       "4         1         1         2                  1         2   \n",
       "\n",
       "   SHORTNESS OF BREATH  SWALLOWING DIFFICULTY  CHEST PAIN  LUNG_CANCER  \\\n",
       "0                    2                      2           2            1   \n",
       "1                    2                      2           2            1   \n",
       "2                    2                      1           2            0   \n",
       "3                    1                      2           2            0   \n",
       "4                    2                      1           1            0   \n",
       "\n",
       "   GENDER_F  GENDER_M  \n",
       "0         0         1  \n",
       "1         0         1  \n",
       "2         1         0  \n",
       "3         0         1  \n",
       "4         1         0  "
      ]
     },
     "execution_count": 5,
     "metadata": {},
     "output_type": "execute_result"
    }
   ],
   "source": [
    "df.head()"
   ]
  },
  {
   "cell_type": "code",
   "execution_count": 6,
   "id": "92b1a157",
   "metadata": {},
   "outputs": [
    {
     "name": "stdout",
     "output_type": "stream",
     "text": [
      "<class 'pandas.core.frame.DataFrame'>\n",
      "RangeIndex: 309 entries, 0 to 308\n",
      "Data columns (total 17 columns):\n",
      " #   Column                 Non-Null Count  Dtype\n",
      "---  ------                 --------------  -----\n",
      " 0   AGE                    309 non-null    int64\n",
      " 1   SMOKING                309 non-null    int64\n",
      " 2   YELLOW_FINGERS         309 non-null    int64\n",
      " 3   ANXIETY                309 non-null    int64\n",
      " 4   PEER_PRESSURE          309 non-null    int64\n",
      " 5   CHRONIC DISEASE        309 non-null    int64\n",
      " 6   FATIGUE                309 non-null    int64\n",
      " 7   ALLERGY                309 non-null    int64\n",
      " 8   WHEEZING               309 non-null    int64\n",
      " 9   ALCOHOL CONSUMING      309 non-null    int64\n",
      " 10  COUGHING               309 non-null    int64\n",
      " 11  SHORTNESS OF BREATH    309 non-null    int64\n",
      " 12  SWALLOWING DIFFICULTY  309 non-null    int64\n",
      " 13  CHEST PAIN             309 non-null    int64\n",
      " 14  LUNG_CANCER            309 non-null    int64\n",
      " 15  GENDER_F               309 non-null    uint8\n",
      " 16  GENDER_M               309 non-null    uint8\n",
      "dtypes: int64(15), uint8(2)\n",
      "memory usage: 36.9 KB\n"
     ]
    }
   ],
   "source": [
    "df.info()"
   ]
  },
  {
   "cell_type": "code",
   "execution_count": 7,
   "id": "f9a22eb9",
   "metadata": {},
   "outputs": [],
   "source": [
    "del df['GENDER_F']"
   ]
  },
  {
   "cell_type": "code",
   "execution_count": 8,
   "id": "fd25ad46",
   "metadata": {},
   "outputs": [
    {
     "data": {
      "text/html": [
       "<div>\n",
       "<style scoped>\n",
       "    .dataframe tbody tr th:only-of-type {\n",
       "        vertical-align: middle;\n",
       "    }\n",
       "\n",
       "    .dataframe tbody tr th {\n",
       "        vertical-align: top;\n",
       "    }\n",
       "\n",
       "    .dataframe thead th {\n",
       "        text-align: right;\n",
       "    }\n",
       "</style>\n",
       "<table border=\"1\" class=\"dataframe\">\n",
       "  <thead>\n",
       "    <tr style=\"text-align: right;\">\n",
       "      <th></th>\n",
       "      <th>AGE</th>\n",
       "      <th>SMOKING</th>\n",
       "      <th>YELLOW_FINGERS</th>\n",
       "      <th>ANXIETY</th>\n",
       "      <th>PEER_PRESSURE</th>\n",
       "      <th>CHRONIC DISEASE</th>\n",
       "      <th>FATIGUE</th>\n",
       "      <th>ALLERGY</th>\n",
       "      <th>WHEEZING</th>\n",
       "      <th>ALCOHOL CONSUMING</th>\n",
       "      <th>COUGHING</th>\n",
       "      <th>SHORTNESS OF BREATH</th>\n",
       "      <th>SWALLOWING DIFFICULTY</th>\n",
       "      <th>CHEST PAIN</th>\n",
       "      <th>LUNG_CANCER</th>\n",
       "      <th>GENDER_M</th>\n",
       "    </tr>\n",
       "  </thead>\n",
       "  <tbody>\n",
       "    <tr>\n",
       "      <th>0</th>\n",
       "      <td>69</td>\n",
       "      <td>1</td>\n",
       "      <td>2</td>\n",
       "      <td>2</td>\n",
       "      <td>1</td>\n",
       "      <td>1</td>\n",
       "      <td>2</td>\n",
       "      <td>1</td>\n",
       "      <td>2</td>\n",
       "      <td>2</td>\n",
       "      <td>2</td>\n",
       "      <td>2</td>\n",
       "      <td>2</td>\n",
       "      <td>2</td>\n",
       "      <td>1</td>\n",
       "      <td>1</td>\n",
       "    </tr>\n",
       "    <tr>\n",
       "      <th>1</th>\n",
       "      <td>74</td>\n",
       "      <td>2</td>\n",
       "      <td>1</td>\n",
       "      <td>1</td>\n",
       "      <td>1</td>\n",
       "      <td>2</td>\n",
       "      <td>2</td>\n",
       "      <td>2</td>\n",
       "      <td>1</td>\n",
       "      <td>1</td>\n",
       "      <td>1</td>\n",
       "      <td>2</td>\n",
       "      <td>2</td>\n",
       "      <td>2</td>\n",
       "      <td>1</td>\n",
       "      <td>1</td>\n",
       "    </tr>\n",
       "    <tr>\n",
       "      <th>2</th>\n",
       "      <td>59</td>\n",
       "      <td>1</td>\n",
       "      <td>1</td>\n",
       "      <td>1</td>\n",
       "      <td>2</td>\n",
       "      <td>1</td>\n",
       "      <td>2</td>\n",
       "      <td>1</td>\n",
       "      <td>2</td>\n",
       "      <td>1</td>\n",
       "      <td>2</td>\n",
       "      <td>2</td>\n",
       "      <td>1</td>\n",
       "      <td>2</td>\n",
       "      <td>0</td>\n",
       "      <td>0</td>\n",
       "    </tr>\n",
       "    <tr>\n",
       "      <th>3</th>\n",
       "      <td>63</td>\n",
       "      <td>2</td>\n",
       "      <td>2</td>\n",
       "      <td>2</td>\n",
       "      <td>1</td>\n",
       "      <td>1</td>\n",
       "      <td>1</td>\n",
       "      <td>1</td>\n",
       "      <td>1</td>\n",
       "      <td>2</td>\n",
       "      <td>1</td>\n",
       "      <td>1</td>\n",
       "      <td>2</td>\n",
       "      <td>2</td>\n",
       "      <td>0</td>\n",
       "      <td>1</td>\n",
       "    </tr>\n",
       "    <tr>\n",
       "      <th>4</th>\n",
       "      <td>63</td>\n",
       "      <td>1</td>\n",
       "      <td>2</td>\n",
       "      <td>1</td>\n",
       "      <td>1</td>\n",
       "      <td>1</td>\n",
       "      <td>1</td>\n",
       "      <td>1</td>\n",
       "      <td>2</td>\n",
       "      <td>1</td>\n",
       "      <td>2</td>\n",
       "      <td>2</td>\n",
       "      <td>1</td>\n",
       "      <td>1</td>\n",
       "      <td>0</td>\n",
       "      <td>0</td>\n",
       "    </tr>\n",
       "  </tbody>\n",
       "</table>\n",
       "</div>"
      ],
      "text/plain": [
       "   AGE  SMOKING  YELLOW_FINGERS  ANXIETY  PEER_PRESSURE  CHRONIC DISEASE  \\\n",
       "0   69        1               2        2              1                1   \n",
       "1   74        2               1        1              1                2   \n",
       "2   59        1               1        1              2                1   \n",
       "3   63        2               2        2              1                1   \n",
       "4   63        1               2        1              1                1   \n",
       "\n",
       "   FATIGUE   ALLERGY   WHEEZING  ALCOHOL CONSUMING  COUGHING  \\\n",
       "0         2         1         2                  2         2   \n",
       "1         2         2         1                  1         1   \n",
       "2         2         1         2                  1         2   \n",
       "3         1         1         1                  2         1   \n",
       "4         1         1         2                  1         2   \n",
       "\n",
       "   SHORTNESS OF BREATH  SWALLOWING DIFFICULTY  CHEST PAIN  LUNG_CANCER  \\\n",
       "0                    2                      2           2            1   \n",
       "1                    2                      2           2            1   \n",
       "2                    2                      1           2            0   \n",
       "3                    1                      2           2            0   \n",
       "4                    2                      1           1            0   \n",
       "\n",
       "   GENDER_M  \n",
       "0         1  \n",
       "1         1  \n",
       "2         0  \n",
       "3         1  \n",
       "4         0  "
      ]
     },
     "execution_count": 8,
     "metadata": {},
     "output_type": "execute_result"
    }
   ],
   "source": [
    "df.head()"
   ]
  },
  {
   "cell_type": "code",
   "execution_count": 9,
   "id": "e5f35829",
   "metadata": {},
   "outputs": [],
   "source": [
    "import statsmodels.api as sn"
   ]
  },
  {
   "cell_type": "code",
   "execution_count": 10,
   "id": "93318c6c",
   "metadata": {},
   "outputs": [],
   "source": [
    "x =sn.add_constant(df['SMOKING'])"
   ]
  },
  {
   "cell_type": "code",
   "execution_count": 11,
   "id": "1575c3a9",
   "metadata": {},
   "outputs": [],
   "source": [
    "ln = sn.OLS(df['LUNG_CANCER'],x).fit()"
   ]
  },
  {
   "cell_type": "code",
   "execution_count": 12,
   "id": "4f204615",
   "metadata": {},
   "outputs": [
    {
     "data": {
      "text/html": [
       "<table class=\"simpletable\">\n",
       "<caption>OLS Regression Results</caption>\n",
       "<tr>\n",
       "  <th>Dep. Variable:</th>       <td>LUNG_CANCER</td>   <th>  R-squared:         </th> <td>   0.003</td>\n",
       "</tr>\n",
       "<tr>\n",
       "  <th>Model:</th>                   <td>OLS</td>       <th>  Adj. R-squared:    </th> <td>   0.000</td>\n",
       "</tr>\n",
       "<tr>\n",
       "  <th>Method:</th>             <td>Least Squares</td>  <th>  F-statistic:       </th> <td>   1.043</td>\n",
       "</tr>\n",
       "<tr>\n",
       "  <th>Date:</th>             <td>Fri, 02 Jun 2023</td> <th>  Prob (F-statistic):</th>  <td> 0.308</td> \n",
       "</tr>\n",
       "<tr>\n",
       "  <th>Time:</th>                 <td>12:43:29</td>     <th>  Log-Likelihood:    </th> <td> -97.302</td>\n",
       "</tr>\n",
       "<tr>\n",
       "  <th>No. Observations:</th>      <td>   309</td>      <th>  AIC:               </th> <td>   198.6</td>\n",
       "</tr>\n",
       "<tr>\n",
       "  <th>Df Residuals:</th>          <td>   307</td>      <th>  BIC:               </th> <td>   206.1</td>\n",
       "</tr>\n",
       "<tr>\n",
       "  <th>Df Model:</th>              <td>     1</td>      <th>                     </th>     <td> </td>   \n",
       "</tr>\n",
       "<tr>\n",
       "  <th>Covariance Type:</th>      <td>nonrobust</td>    <th>                     </th>     <td> </td>   \n",
       "</tr>\n",
       "</table>\n",
       "<table class=\"simpletable\">\n",
       "<tr>\n",
       "     <td></td>        <th>coef</th>     <th>std err</th>      <th>t</th>      <th>P>|t|</th>  <th>[0.025</th>    <th>0.975]</th>  \n",
       "</tr>\n",
       "<tr>\n",
       "  <th>const</th>   <td>    0.8129</td> <td>    0.063</td> <td>   12.994</td> <td> 0.000</td> <td>    0.690</td> <td>    0.936</td>\n",
       "</tr>\n",
       "<tr>\n",
       "  <th>SMOKING</th> <td>    0.0390</td> <td>    0.038</td> <td>    1.021</td> <td> 0.308</td> <td>   -0.036</td> <td>    0.114</td>\n",
       "</tr>\n",
       "</table>\n",
       "<table class=\"simpletable\">\n",
       "<tr>\n",
       "  <th>Omnibus:</th>       <td>138.874</td> <th>  Durbin-Watson:     </th> <td>   1.864</td>\n",
       "</tr>\n",
       "<tr>\n",
       "  <th>Prob(Omnibus):</th> <td> 0.000</td>  <th>  Jarque-Bera (JB):  </th> <td> 377.891</td>\n",
       "</tr>\n",
       "<tr>\n",
       "  <th>Skew:</th>          <td>-2.240</td>  <th>  Prob(JB):          </th> <td>8.75e-83</td>\n",
       "</tr>\n",
       "<tr>\n",
       "  <th>Kurtosis:</th>      <td> 6.047</td>  <th>  Cond. No.          </th> <td>    7.30</td>\n",
       "</tr>\n",
       "</table><br/><br/>Notes:<br/>[1] Standard Errors assume that the covariance matrix of the errors is correctly specified."
      ],
      "text/plain": [
       "<class 'statsmodels.iolib.summary.Summary'>\n",
       "\"\"\"\n",
       "                            OLS Regression Results                            \n",
       "==============================================================================\n",
       "Dep. Variable:            LUNG_CANCER   R-squared:                       0.003\n",
       "Model:                            OLS   Adj. R-squared:                  0.000\n",
       "Method:                 Least Squares   F-statistic:                     1.043\n",
       "Date:                Fri, 02 Jun 2023   Prob (F-statistic):              0.308\n",
       "Time:                        12:43:29   Log-Likelihood:                -97.302\n",
       "No. Observations:                 309   AIC:                             198.6\n",
       "Df Residuals:                     307   BIC:                             206.1\n",
       "Df Model:                           1                                         \n",
       "Covariance Type:            nonrobust                                         \n",
       "==============================================================================\n",
       "                 coef    std err          t      P>|t|      [0.025      0.975]\n",
       "------------------------------------------------------------------------------\n",
       "const          0.8129      0.063     12.994      0.000       0.690       0.936\n",
       "SMOKING        0.0390      0.038      1.021      0.308      -0.036       0.114\n",
       "==============================================================================\n",
       "Omnibus:                      138.874   Durbin-Watson:                   1.864\n",
       "Prob(Omnibus):                  0.000   Jarque-Bera (JB):              377.891\n",
       "Skew:                          -2.240   Prob(JB):                     8.75e-83\n",
       "Kurtosis:                       6.047   Cond. No.                         7.30\n",
       "==============================================================================\n",
       "\n",
       "Notes:\n",
       "[1] Standard Errors assume that the covariance matrix of the errors is correctly specified.\n",
       "\"\"\""
      ]
     },
     "execution_count": 12,
     "metadata": {},
     "output_type": "execute_result"
    }
   ],
   "source": [
    "ln.summary()"
   ]
  },
  {
   "cell_type": "code",
   "execution_count": 13,
   "id": "4424b84b",
   "metadata": {},
   "outputs": [],
   "source": [
    "from sklearn.linear_model import LinearRegression"
   ]
  },
  {
   "cell_type": "code",
   "execution_count": null,
   "id": "2e94d9c6",
   "metadata": {},
   "outputs": [],
   "source": []
  },
  {
   "cell_type": "code",
   "execution_count": 14,
   "id": "1df953b4",
   "metadata": {},
   "outputs": [],
   "source": [
    "y=df['LUNG_CANCER']"
   ]
  },
  {
   "cell_type": "code",
   "execution_count": 15,
   "id": "66f57ecf",
   "metadata": {},
   "outputs": [],
   "source": [
    "x=df[['SMOKING']]\n"
   ]
  },
  {
   "cell_type": "code",
   "execution_count": null,
   "id": "a54f0b10",
   "metadata": {},
   "outputs": [],
   "source": []
  },
  {
   "cell_type": "code",
   "execution_count": 16,
   "id": "b6636661",
   "metadata": {},
   "outputs": [],
   "source": [
    "ln2 = LinearRegression()"
   ]
  },
  {
   "cell_type": "code",
   "execution_count": 17,
   "id": "771a6377",
   "metadata": {},
   "outputs": [
    {
     "data": {
      "text/plain": [
       "LinearRegression()"
      ]
     },
     "execution_count": 17,
     "metadata": {},
     "output_type": "execute_result"
    }
   ],
   "source": [
    "ln2.fit(x,y)"
   ]
  },
  {
   "cell_type": "code",
   "execution_count": 18,
   "id": "6b56f3a8",
   "metadata": {},
   "outputs": [
    {
     "name": "stdout",
     "output_type": "stream",
     "text": [
      "0.8128991060025542 [0.03895275]\n"
     ]
    }
   ],
   "source": [
    "print(ln2.intercept_,ln2.coef_)"
   ]
  },
  {
   "cell_type": "code",
   "execution_count": 19,
   "id": "774f1376",
   "metadata": {
    "scrolled": true
   },
   "outputs": [
    {
     "data": {
      "text/plain": [
       "array([0.85185185, 0.8908046 , 0.85185185, 0.8908046 , 0.85185185,\n",
       "       0.85185185, 0.8908046 , 0.8908046 , 0.8908046 , 0.8908046 ,\n",
       "       0.8908046 , 0.85185185, 0.8908046 , 0.8908046 , 0.8908046 ,\n",
       "       0.85185185, 0.8908046 , 0.8908046 , 0.8908046 , 0.85185185,\n",
       "       0.8908046 , 0.85185185, 0.8908046 , 0.8908046 , 0.8908046 ,\n",
       "       0.85185185, 0.8908046 , 0.85185185, 0.8908046 , 0.85185185,\n",
       "       0.8908046 , 0.8908046 , 0.8908046 , 0.8908046 , 0.85185185,\n",
       "       0.8908046 , 0.85185185, 0.85185185, 0.8908046 , 0.8908046 ,\n",
       "       0.8908046 , 0.85185185, 0.85185185, 0.8908046 , 0.8908046 ,\n",
       "       0.8908046 , 0.8908046 , 0.8908046 , 0.85185185, 0.85185185,\n",
       "       0.85185185, 0.8908046 , 0.8908046 , 0.8908046 , 0.85185185,\n",
       "       0.85185185, 0.85185185, 0.85185185, 0.85185185, 0.8908046 ,\n",
       "       0.85185185, 0.85185185, 0.85185185, 0.85185185, 0.85185185,\n",
       "       0.8908046 , 0.85185185, 0.8908046 , 0.8908046 , 0.8908046 ,\n",
       "       0.8908046 , 0.8908046 , 0.85185185, 0.8908046 , 0.8908046 ,\n",
       "       0.8908046 , 0.85185185, 0.8908046 , 0.8908046 , 0.8908046 ,\n",
       "       0.85185185, 0.8908046 , 0.8908046 , 0.85185185, 0.85185185,\n",
       "       0.85185185, 0.85185185, 0.85185185, 0.8908046 , 0.8908046 ,\n",
       "       0.85185185, 0.85185185, 0.8908046 , 0.85185185, 0.8908046 ,\n",
       "       0.85185185, 0.8908046 , 0.8908046 , 0.85185185, 0.8908046 ,\n",
       "       0.8908046 , 0.85185185, 0.8908046 , 0.8908046 , 0.8908046 ,\n",
       "       0.85185185, 0.8908046 , 0.8908046 , 0.85185185, 0.85185185,\n",
       "       0.85185185, 0.8908046 , 0.85185185, 0.8908046 , 0.85185185,\n",
       "       0.85185185, 0.8908046 , 0.8908046 , 0.8908046 , 0.85185185,\n",
       "       0.8908046 , 0.85185185, 0.8908046 , 0.8908046 , 0.8908046 ,\n",
       "       0.85185185, 0.8908046 , 0.8908046 , 0.8908046 , 0.85185185,\n",
       "       0.8908046 , 0.85185185, 0.8908046 , 0.8908046 , 0.8908046 ,\n",
       "       0.85185185, 0.8908046 , 0.85185185, 0.8908046 , 0.85185185,\n",
       "       0.8908046 , 0.8908046 , 0.8908046 , 0.8908046 , 0.85185185,\n",
       "       0.8908046 , 0.85185185, 0.85185185, 0.8908046 , 0.8908046 ,\n",
       "       0.8908046 , 0.85185185, 0.85185185, 0.8908046 , 0.8908046 ,\n",
       "       0.8908046 , 0.8908046 , 0.8908046 , 0.85185185, 0.85185185,\n",
       "       0.85185185, 0.8908046 , 0.8908046 , 0.8908046 , 0.85185185,\n",
       "       0.85185185, 0.85185185, 0.85185185, 0.85185185, 0.8908046 ,\n",
       "       0.85185185, 0.85185185, 0.85185185, 0.85185185, 0.85185185,\n",
       "       0.8908046 , 0.85185185, 0.8908046 , 0.8908046 , 0.8908046 ,\n",
       "       0.8908046 , 0.8908046 , 0.85185185, 0.8908046 , 0.8908046 ,\n",
       "       0.8908046 , 0.85185185, 0.8908046 , 0.8908046 , 0.8908046 ,\n",
       "       0.85185185, 0.8908046 , 0.8908046 , 0.85185185, 0.85185185,\n",
       "       0.85185185, 0.85185185, 0.85185185, 0.8908046 , 0.8908046 ,\n",
       "       0.85185185, 0.85185185, 0.8908046 , 0.85185185, 0.8908046 ,\n",
       "       0.85185185, 0.8908046 , 0.8908046 , 0.85185185, 0.8908046 ,\n",
       "       0.8908046 , 0.85185185, 0.8908046 , 0.8908046 , 0.8908046 ,\n",
       "       0.85185185, 0.8908046 , 0.8908046 , 0.85185185, 0.85185185,\n",
       "       0.85185185, 0.85185185, 0.85185185, 0.8908046 , 0.8908046 ,\n",
       "       0.8908046 , 0.85185185, 0.85185185, 0.85185185, 0.85185185,\n",
       "       0.85185185, 0.8908046 , 0.85185185, 0.85185185, 0.85185185,\n",
       "       0.85185185, 0.85185185, 0.8908046 , 0.85185185, 0.85185185,\n",
       "       0.8908046 , 0.8908046 , 0.8908046 , 0.85185185, 0.8908046 ,\n",
       "       0.85185185, 0.8908046 , 0.85185185, 0.8908046 , 0.8908046 ,\n",
       "       0.8908046 , 0.8908046 , 0.85185185, 0.8908046 , 0.85185185,\n",
       "       0.85185185, 0.8908046 , 0.8908046 , 0.8908046 , 0.85185185,\n",
       "       0.85185185, 0.8908046 , 0.85185185, 0.85185185, 0.8908046 ,\n",
       "       0.8908046 , 0.8908046 , 0.8908046 , 0.8908046 , 0.85185185,\n",
       "       0.8908046 , 0.8908046 , 0.8908046 , 0.85185185, 0.8908046 ,\n",
       "       0.8908046 , 0.8908046 , 0.85185185, 0.8908046 , 0.85185185,\n",
       "       0.8908046 , 0.8908046 , 0.85185185, 0.85185185, 0.8908046 ,\n",
       "       0.8908046 , 0.85185185, 0.8908046 , 0.85185185, 0.8908046 ,\n",
       "       0.8908046 , 0.8908046 , 0.85185185, 0.8908046 , 0.85185185,\n",
       "       0.8908046 , 0.85185185, 0.8908046 , 0.8908046 , 0.8908046 ,\n",
       "       0.8908046 , 0.85185185, 0.8908046 , 0.85185185, 0.85185185,\n",
       "       0.8908046 , 0.8908046 , 0.8908046 , 0.85185185])"
      ]
     },
     "execution_count": 19,
     "metadata": {},
     "output_type": "execute_result"
    }
   ],
   "source": [
    "ln2.predict(x)"
   ]
  },
  {
   "cell_type": "code",
   "execution_count": 20,
   "id": "cf95985b",
   "metadata": {},
   "outputs": [
    {
     "data": {
      "text/plain": [
       "<seaborn.axisgrid.JointGrid at 0x121fcdd09d0>"
      ]
     },
     "execution_count": 20,
     "metadata": {},
     "output_type": "execute_result"
    },
    {
     "data": {
      "image/png": "[encoded data removed]",
      "text/plain": [
       "<Figure size 600x600 with 3 Axes>"
      ]
     },
     "metadata": {},
     "output_type": "display_data"
    }
   ],
   "source": [
    "sns.jointplot(x=df['SMOKING'],y=df['LUNG_CANCER'],data=df,kind='reg')"
   ]
  },
  {
   "cell_type": "code",
   "execution_count": 21,
   "id": "76bad054",
   "metadata": {},
   "outputs": [],
   "source": [
    "x_multi=df.drop(\"LUNG_CANCER\",axis=1)"
   ]
  },
  {
   "cell_type": "code",
   "execution_count": null,
   "id": "c13904b3",
   "metadata": {},
   "outputs": [],
   "source": []
  },
  {
   "cell_type": "code",
   "execution_count": 22,
   "id": "38ff64ab",
   "metadata": {},
   "outputs": [
    {
     "data": {
      "text/html": [
       "<div>\n",
       "<style scoped>\n",
       "    .dataframe tbody tr th:only-of-type {\n",
       "        vertical-align: middle;\n",
       "    }\n",
       "\n",
       "    .dataframe tbody tr th {\n",
       "        vertical-align: top;\n",
       "    }\n",
       "\n",
       "    .dataframe thead th {\n",
       "        text-align: right;\n",
       "    }\n",
       "</style>\n",
       "<table border=\"1\" class=\"dataframe\">\n",
       "  <thead>\n",
       "    <tr style=\"text-align: right;\">\n",
       "      <th></th>\n",
       "      <th>AGE</th>\n",
       "      <th>SMOKING</th>\n",
       "      <th>YELLOW_FINGERS</th>\n",
       "      <th>ANXIETY</th>\n",
       "      <th>PEER_PRESSURE</th>\n",
       "      <th>CHRONIC DISEASE</th>\n",
       "      <th>FATIGUE</th>\n",
       "      <th>ALLERGY</th>\n",
       "      <th>WHEEZING</th>\n",
       "      <th>ALCOHOL CONSUMING</th>\n",
       "      <th>COUGHING</th>\n",
       "      <th>SHORTNESS OF BREATH</th>\n",
       "      <th>SWALLOWING DIFFICULTY</th>\n",
       "      <th>CHEST PAIN</th>\n",
       "      <th>GENDER_M</th>\n",
       "    </tr>\n",
       "  </thead>\n",
       "  <tbody>\n",
       "    <tr>\n",
       "      <th>0</th>\n",
       "      <td>69</td>\n",
       "      <td>1</td>\n",
       "      <td>2</td>\n",
       "      <td>2</td>\n",
       "      <td>1</td>\n",
       "      <td>1</td>\n",
       "      <td>2</td>\n",
       "      <td>1</td>\n",
       "      <td>2</td>\n",
       "      <td>2</td>\n",
       "      <td>2</td>\n",
       "      <td>2</td>\n",
       "      <td>2</td>\n",
       "      <td>2</td>\n",
       "      <td>1</td>\n",
       "    </tr>\n",
       "    <tr>\n",
       "      <th>1</th>\n",
       "      <td>74</td>\n",
       "      <td>2</td>\n",
       "      <td>1</td>\n",
       "      <td>1</td>\n",
       "      <td>1</td>\n",
       "      <td>2</td>\n",
       "      <td>2</td>\n",
       "      <td>2</td>\n",
       "      <td>1</td>\n",
       "      <td>1</td>\n",
       "      <td>1</td>\n",
       "      <td>2</td>\n",
       "      <td>2</td>\n",
       "      <td>2</td>\n",
       "      <td>1</td>\n",
       "    </tr>\n",
       "    <tr>\n",
       "      <th>2</th>\n",
       "      <td>59</td>\n",
       "      <td>1</td>\n",
       "      <td>1</td>\n",
       "      <td>1</td>\n",
       "      <td>2</td>\n",
       "      <td>1</td>\n",
       "      <td>2</td>\n",
       "      <td>1</td>\n",
       "      <td>2</td>\n",
       "      <td>1</td>\n",
       "      <td>2</td>\n",
       "      <td>2</td>\n",
       "      <td>1</td>\n",
       "      <td>2</td>\n",
       "      <td>0</td>\n",
       "    </tr>\n",
       "    <tr>\n",
       "      <th>3</th>\n",
       "      <td>63</td>\n",
       "      <td>2</td>\n",
       "      <td>2</td>\n",
       "      <td>2</td>\n",
       "      <td>1</td>\n",
       "      <td>1</td>\n",
       "      <td>1</td>\n",
       "      <td>1</td>\n",
       "      <td>1</td>\n",
       "      <td>2</td>\n",
       "      <td>1</td>\n",
       "      <td>1</td>\n",
       "      <td>2</td>\n",
       "      <td>2</td>\n",
       "      <td>1</td>\n",
       "    </tr>\n",
       "    <tr>\n",
       "      <th>4</th>\n",
       "      <td>63</td>\n",
       "      <td>1</td>\n",
       "      <td>2</td>\n",
       "      <td>1</td>\n",
       "      <td>1</td>\n",
       "      <td>1</td>\n",
       "      <td>1</td>\n",
       "      <td>1</td>\n",
       "      <td>2</td>\n",
       "      <td>1</td>\n",
       "      <td>2</td>\n",
       "      <td>2</td>\n",
       "      <td>1</td>\n",
       "      <td>1</td>\n",
       "      <td>0</td>\n",
       "    </tr>\n",
       "  </tbody>\n",
       "</table>\n",
       "</div>"
      ],
      "text/plain": [
       "   AGE  SMOKING  YELLOW_FINGERS  ANXIETY  PEER_PRESSURE  CHRONIC DISEASE  \\\n",
       "0   69        1               2        2              1                1   \n",
       "1   74        2               1        1              1                2   \n",
       "2   59        1               1        1              2                1   \n",
       "3   63        2               2        2              1                1   \n",
       "4   63        1               2        1              1                1   \n",
       "\n",
       "   FATIGUE   ALLERGY   WHEEZING  ALCOHOL CONSUMING  COUGHING  \\\n",
       "0         2         1         2                  2         2   \n",
       "1         2         2         1                  1         1   \n",
       "2         2         1         2                  1         2   \n",
       "3         1         1         1                  2         1   \n",
       "4         1         1         2                  1         2   \n",
       "\n",
       "   SHORTNESS OF BREATH  SWALLOWING DIFFICULTY  CHEST PAIN  GENDER_M  \n",
       "0                    2                      2           2         1  \n",
       "1                    2                      2           2         1  \n",
       "2                    2                      1           2         0  \n",
       "3                    1                      2           2         1  \n",
       "4                    2                      1           1         0  "
      ]
     },
     "execution_count": 22,
     "metadata": {},
     "output_type": "execute_result"
    }
   ],
   "source": [
    "x_multi.head()"
   ]
  },
  {
   "cell_type": "code",
   "execution_count": 23,
   "id": "8a0c01a8",
   "metadata": {},
   "outputs": [],
   "source": [
    "y_multi=df['LUNG_CANCER']"
   ]
  },
  {
   "cell_type": "code",
   "execution_count": 24,
   "id": "5e853821",
   "metadata": {},
   "outputs": [
    {
     "data": {
      "text/plain": [
       "0    1\n",
       "1    1\n",
       "2    0\n",
       "3    0\n",
       "4    0\n",
       "Name: LUNG_CANCER, dtype: int64"
      ]
     },
     "execution_count": 24,
     "metadata": {},
     "output_type": "execute_result"
    }
   ],
   "source": [
    "y_multi.head()"
   ]
  },
  {
   "cell_type": "code",
   "execution_count": 25,
   "id": "e700e3b6",
   "metadata": {},
   "outputs": [],
   "source": [
    "x_multi_cons=sn.add_constant(x_multi)"
   ]
  },
  {
   "cell_type": "code",
   "execution_count": 26,
   "id": "77b60dc9",
   "metadata": {},
   "outputs": [
    {
     "data": {
      "text/html": [
       "<div>\n",
       "<style scoped>\n",
       "    .dataframe tbody tr th:only-of-type {\n",
       "        vertical-align: middle;\n",
       "    }\n",
       "\n",
       "    .dataframe tbody tr th {\n",
       "        vertical-align: top;\n",
       "    }\n",
       "\n",
       "    .dataframe thead th {\n",
       "        text-align: right;\n",
       "    }\n",
       "</style>\n",
       "<table border=\"1\" class=\"dataframe\">\n",
       "  <thead>\n",
       "    <tr style=\"text-align: right;\">\n",
       "      <th></th>\n",
       "      <th>const</th>\n",
       "      <th>AGE</th>\n",
       "      <th>SMOKING</th>\n",
       "      <th>YELLOW_FINGERS</th>\n",
       "      <th>ANXIETY</th>\n",
       "      <th>PEER_PRESSURE</th>\n",
       "      <th>CHRONIC DISEASE</th>\n",
       "      <th>FATIGUE</th>\n",
       "      <th>ALLERGY</th>\n",
       "      <th>WHEEZING</th>\n",
       "      <th>ALCOHOL CONSUMING</th>\n",
       "      <th>COUGHING</th>\n",
       "      <th>SHORTNESS OF BREATH</th>\n",
       "      <th>SWALLOWING DIFFICULTY</th>\n",
       "      <th>CHEST PAIN</th>\n",
       "      <th>GENDER_M</th>\n",
       "    </tr>\n",
       "  </thead>\n",
       "  <tbody>\n",
       "    <tr>\n",
       "      <th>0</th>\n",
       "      <td>1.0</td>\n",
       "      <td>69</td>\n",
       "      <td>1</td>\n",
       "      <td>2</td>\n",
       "      <td>2</td>\n",
       "      <td>1</td>\n",
       "      <td>1</td>\n",
       "      <td>2</td>\n",
       "      <td>1</td>\n",
       "      <td>2</td>\n",
       "      <td>2</td>\n",
       "      <td>2</td>\n",
       "      <td>2</td>\n",
       "      <td>2</td>\n",
       "      <td>2</td>\n",
       "      <td>1</td>\n",
       "    </tr>\n",
       "    <tr>\n",
       "      <th>1</th>\n",
       "      <td>1.0</td>\n",
       "      <td>74</td>\n",
       "      <td>2</td>\n",
       "      <td>1</td>\n",
       "      <td>1</td>\n",
       "      <td>1</td>\n",
       "      <td>2</td>\n",
       "      <td>2</td>\n",
       "      <td>2</td>\n",
       "      <td>1</td>\n",
       "      <td>1</td>\n",
       "      <td>1</td>\n",
       "      <td>2</td>\n",
       "      <td>2</td>\n",
       "      <td>2</td>\n",
       "      <td>1</td>\n",
       "    </tr>\n",
       "    <tr>\n",
       "      <th>2</th>\n",
       "      <td>1.0</td>\n",
       "      <td>59</td>\n",
       "      <td>1</td>\n",
       "      <td>1</td>\n",
       "      <td>1</td>\n",
       "      <td>2</td>\n",
       "      <td>1</td>\n",
       "      <td>2</td>\n",
       "      <td>1</td>\n",
       "      <td>2</td>\n",
       "      <td>1</td>\n",
       "      <td>2</td>\n",
       "      <td>2</td>\n",
       "      <td>1</td>\n",
       "      <td>2</td>\n",
       "      <td>0</td>\n",
       "    </tr>\n",
       "    <tr>\n",
       "      <th>3</th>\n",
       "      <td>1.0</td>\n",
       "      <td>63</td>\n",
       "      <td>2</td>\n",
       "      <td>2</td>\n",
       "      <td>2</td>\n",
       "      <td>1</td>\n",
       "      <td>1</td>\n",
       "      <td>1</td>\n",
       "      <td>1</td>\n",
       "      <td>1</td>\n",
       "      <td>2</td>\n",
       "      <td>1</td>\n",
       "      <td>1</td>\n",
       "      <td>2</td>\n",
       "      <td>2</td>\n",
       "      <td>1</td>\n",
       "    </tr>\n",
       "    <tr>\n",
       "      <th>4</th>\n",
       "      <td>1.0</td>\n",
       "      <td>63</td>\n",
       "      <td>1</td>\n",
       "      <td>2</td>\n",
       "      <td>1</td>\n",
       "      <td>1</td>\n",
       "      <td>1</td>\n",
       "      <td>1</td>\n",
       "      <td>1</td>\n",
       "      <td>2</td>\n",
       "      <td>1</td>\n",
       "      <td>2</td>\n",
       "      <td>2</td>\n",
       "      <td>1</td>\n",
       "      <td>1</td>\n",
       "      <td>0</td>\n",
       "    </tr>\n",
       "  </tbody>\n",
       "</table>\n",
       "</div>"
      ],
      "text/plain": [
       "   const  AGE  SMOKING  YELLOW_FINGERS  ANXIETY  PEER_PRESSURE  \\\n",
       "0    1.0   69        1               2        2              1   \n",
       "1    1.0   74        2               1        1              1   \n",
       "2    1.0   59        1               1        1              2   \n",
       "3    1.0   63        2               2        2              1   \n",
       "4    1.0   63        1               2        1              1   \n",
       "\n",
       "   CHRONIC DISEASE  FATIGUE   ALLERGY   WHEEZING  ALCOHOL CONSUMING  COUGHING  \\\n",
       "0                1         2         1         2                  2         2   \n",
       "1                2         2         2         1                  1         1   \n",
       "2                1         2         1         2                  1         2   \n",
       "3                1         1         1         1                  2         1   \n",
       "4                1         1         1         2                  1         2   \n",
       "\n",
       "   SHORTNESS OF BREATH  SWALLOWING DIFFICULTY  CHEST PAIN  GENDER_M  \n",
       "0                    2                      2           2         1  \n",
       "1                    2                      2           2         1  \n",
       "2                    2                      1           2         0  \n",
       "3                    1                      2           2         1  \n",
       "4                    2                      1           1         0  "
      ]
     },
     "execution_count": 26,
     "metadata": {},
     "output_type": "execute_result"
    }
   ],
   "source": [
    "x_multi_cons.head()"
   ]
  },
  {
   "cell_type": "code",
   "execution_count": 27,
   "id": "c7f31085",
   "metadata": {},
   "outputs": [],
   "source": [
    "ln_multi=sn.OLS(y_multi,x_multi_cons).fit()"
   ]
  },
  {
   "cell_type": "code",
   "execution_count": 28,
   "id": "b2e8fb68",
   "metadata": {},
   "outputs": [
    {
     "data": {
      "text/html": [
       "<table class=\"simpletable\">\n",
       "<caption>OLS Regression Results</caption>\n",
       "<tr>\n",
       "  <th>Dep. Variable:</th>       <td>LUNG_CANCER</td>   <th>  R-squared:         </th> <td>   0.400</td>\n",
       "</tr>\n",
       "<tr>\n",
       "  <th>Model:</th>                   <td>OLS</td>       <th>  Adj. R-squared:    </th> <td>   0.369</td>\n",
       "</tr>\n",
       "<tr>\n",
       "  <th>Method:</th>             <td>Least Squares</td>  <th>  F-statistic:       </th> <td>   13.01</td>\n",
       "</tr>\n",
       "<tr>\n",
       "  <th>Date:</th>             <td>Fri, 02 Jun 2023</td> <th>  Prob (F-statistic):</th> <td>7.00e-25</td>\n",
       "</tr>\n",
       "<tr>\n",
       "  <th>Time:</th>                 <td>12:43:30</td>     <th>  Log-Likelihood:    </th> <td> -18.971</td>\n",
       "</tr>\n",
       "<tr>\n",
       "  <th>No. Observations:</th>      <td>   309</td>      <th>  AIC:               </th> <td>   69.94</td>\n",
       "</tr>\n",
       "<tr>\n",
       "  <th>Df Residuals:</th>          <td>   293</td>      <th>  BIC:               </th> <td>   129.7</td>\n",
       "</tr>\n",
       "<tr>\n",
       "  <th>Df Model:</th>              <td>    15</td>      <th>                     </th>     <td> </td>   \n",
       "</tr>\n",
       "<tr>\n",
       "  <th>Covariance Type:</th>      <td>nonrobust</td>    <th>                     </th>     <td> </td>   \n",
       "</tr>\n",
       "</table>\n",
       "<table class=\"simpletable\">\n",
       "<tr>\n",
       "            <td></td>               <th>coef</th>     <th>std err</th>      <th>t</th>      <th>P>|t|</th>  <th>[0.025</th>    <th>0.975]</th>  \n",
       "</tr>\n",
       "<tr>\n",
       "  <th>const</th>                 <td>   -1.2123</td> <td>    0.195</td> <td>   -6.231</td> <td> 0.000</td> <td>   -1.595</td> <td>   -0.829</td>\n",
       "</tr>\n",
       "<tr>\n",
       "  <th>AGE</th>                   <td>    0.0014</td> <td>    0.002</td> <td>    0.756</td> <td> 0.450</td> <td>   -0.002</td> <td>    0.005</td>\n",
       "</tr>\n",
       "<tr>\n",
       "  <th>SMOKING</th>               <td>    0.0732</td> <td>    0.032</td> <td>    2.266</td> <td> 0.024</td> <td>    0.010</td> <td>    0.137</td>\n",
       "</tr>\n",
       "<tr>\n",
       "  <th>YELLOW_FINGERS</th>        <td>    0.1198</td> <td>    0.041</td> <td>    2.940</td> <td> 0.004</td> <td>    0.040</td> <td>    0.200</td>\n",
       "</tr>\n",
       "<tr>\n",
       "  <th>ANXIETY</th>               <td>    0.0769</td> <td>    0.043</td> <td>    1.797</td> <td> 0.073</td> <td>   -0.007</td> <td>    0.161</td>\n",
       "</tr>\n",
       "<tr>\n",
       "  <th>PEER_PRESSURE</th>         <td>    0.0882</td> <td>    0.036</td> <td>    2.434</td> <td> 0.016</td> <td>    0.017</td> <td>    0.160</td>\n",
       "</tr>\n",
       "<tr>\n",
       "  <th>CHRONIC DISEASE</th>       <td>    0.0914</td> <td>    0.033</td> <td>    2.803</td> <td> 0.005</td> <td>    0.027</td> <td>    0.156</td>\n",
       "</tr>\n",
       "<tr>\n",
       "  <th>FATIGUE </th>              <td>    0.1503</td> <td>    0.039</td> <td>    3.885</td> <td> 0.000</td> <td>    0.074</td> <td>    0.226</td>\n",
       "</tr>\n",
       "<tr>\n",
       "  <th>ALLERGY </th>              <td>    0.1488</td> <td>    0.033</td> <td>    4.445</td> <td> 0.000</td> <td>    0.083</td> <td>    0.215</td>\n",
       "</tr>\n",
       "<tr>\n",
       "  <th>WHEEZING</th>              <td>    0.0600</td> <td>    0.035</td> <td>    1.711</td> <td> 0.088</td> <td>   -0.009</td> <td>    0.129</td>\n",
       "</tr>\n",
       "<tr>\n",
       "  <th>ALCOHOL CONSUMING</th>     <td>    0.1942</td> <td>    0.040</td> <td>    4.858</td> <td> 0.000</td> <td>    0.116</td> <td>    0.273</td>\n",
       "</tr>\n",
       "<tr>\n",
       "  <th>COUGHING</th>              <td>    0.1058</td> <td>    0.038</td> <td>    2.785</td> <td> 0.006</td> <td>    0.031</td> <td>    0.181</td>\n",
       "</tr>\n",
       "<tr>\n",
       "  <th>SHORTNESS OF BREATH</th>   <td>    0.0445</td> <td>    0.039</td> <td>    1.135</td> <td> 0.257</td> <td>   -0.033</td> <td>    0.122</td>\n",
       "</tr>\n",
       "<tr>\n",
       "  <th>SWALLOWING DIFFICULTY</th> <td>    0.0997</td> <td>    0.038</td> <td>    2.604</td> <td> 0.010</td> <td>    0.024</td> <td>    0.175</td>\n",
       "</tr>\n",
       "<tr>\n",
       "  <th>CHEST PAIN</th>            <td>    0.0276</td> <td>    0.034</td> <td>    0.802</td> <td> 0.423</td> <td>   -0.040</td> <td>    0.095</td>\n",
       "</tr>\n",
       "<tr>\n",
       "  <th>GENDER_M</th>              <td>    0.0011</td> <td>    0.037</td> <td>    0.029</td> <td> 0.977</td> <td>   -0.072</td> <td>    0.074</td>\n",
       "</tr>\n",
       "</table>\n",
       "<table class=\"simpletable\">\n",
       "<tr>\n",
       "  <th>Omnibus:</th>       <td>31.020</td> <th>  Durbin-Watson:     </th> <td>   1.743</td>\n",
       "</tr>\n",
       "<tr>\n",
       "  <th>Prob(Omnibus):</th> <td> 0.000</td> <th>  Jarque-Bera (JB):  </th> <td>  39.103</td>\n",
       "</tr>\n",
       "<tr>\n",
       "  <th>Skew:</th>          <td>-0.744</td> <th>  Prob(JB):          </th> <td>3.23e-09</td>\n",
       "</tr>\n",
       "<tr>\n",
       "  <th>Kurtosis:</th>      <td> 3.908</td> <th>  Cond. No.          </th> <td>    829.</td>\n",
       "</tr>\n",
       "</table><br/><br/>Notes:<br/>[1] Standard Errors assume that the covariance matrix of the errors is correctly specified."
      ],
      "text/plain": [
       "<class 'statsmodels.iolib.summary.Summary'>\n",
       "\"\"\"\n",
       "                            OLS Regression Results                            \n",
       "==============================================================================\n",
       "Dep. Variable:            LUNG_CANCER   R-squared:                       0.400\n",
       "Model:                            OLS   Adj. R-squared:                  0.369\n",
       "Method:                 Least Squares   F-statistic:                     13.01\n",
       "Date:                Fri, 02 Jun 2023   Prob (F-statistic):           7.00e-25\n",
       "Time:                        12:43:30   Log-Likelihood:                -18.971\n",
       "No. Observations:                 309   AIC:                             69.94\n",
       "Df Residuals:                     293   BIC:                             129.7\n",
       "Df Model:                          15                                         \n",
       "Covariance Type:            nonrobust                                         \n",
       "=========================================================================================\n",
       "                            coef    std err          t      P>|t|      [0.025      0.975]\n",
       "-----------------------------------------------------------------------------------------\n",
       "const                    -1.2123      0.195     -6.231      0.000      -1.595      -0.829\n",
       "AGE                       0.0014      0.002      0.756      0.450      -0.002       0.005\n",
       "SMOKING                   0.0732      0.032      2.266      0.024       0.010       0.137\n",
       "YELLOW_FINGERS            0.1198      0.041      2.940      0.004       0.040       0.200\n",
       "ANXIETY                   0.0769      0.043      1.797      0.073      -0.007       0.161\n",
       "PEER_PRESSURE             0.0882      0.036      2.434      0.016       0.017       0.160\n",
       "CHRONIC DISEASE           0.0914      0.033      2.803      0.005       0.027       0.156\n",
       "FATIGUE                   0.1503      0.039      3.885      0.000       0.074       0.226\n",
       "ALLERGY                   0.1488      0.033      4.445      0.000       0.083       0.215\n",
       "WHEEZING                  0.0600      0.035      1.711      0.088      -0.009       0.129\n",
       "ALCOHOL CONSUMING         0.1942      0.040      4.858      0.000       0.116       0.273\n",
       "COUGHING                  0.1058      0.038      2.785      0.006       0.031       0.181\n",
       "SHORTNESS OF BREATH       0.0445      0.039      1.135      0.257      -0.033       0.122\n",
       "SWALLOWING DIFFICULTY     0.0997      0.038      2.604      0.010       0.024       0.175\n",
       "CHEST PAIN                0.0276      0.034      0.802      0.423      -0.040       0.095\n",
       "GENDER_M                  0.0011      0.037      0.029      0.977      -0.072       0.074\n",
       "==============================================================================\n",
       "Omnibus:                       31.020   Durbin-Watson:                   1.743\n",
       "Prob(Omnibus):                  0.000   Jarque-Bera (JB):               39.103\n",
       "Skew:                          -0.744   Prob(JB):                     3.23e-09\n",
       "Kurtosis:                       3.908   Cond. No.                         829.\n",
       "==============================================================================\n",
       "\n",
       "Notes:\n",
       "[1] Standard Errors assume that the covariance matrix of the errors is correctly specified.\n",
       "\"\"\""
      ]
     },
     "execution_count": 28,
     "metadata": {},
     "output_type": "execute_result"
    }
   ],
   "source": [
    "ln_multi.summary()"
   ]
  },
  {
   "cell_type": "code",
   "execution_count": 29,
   "id": "96211898",
   "metadata": {},
   "outputs": [],
   "source": [
    "ln3=LinearRegression()"
   ]
  },
  {
   "cell_type": "code",
   "execution_count": 30,
   "id": "5702fb53",
   "metadata": {},
   "outputs": [
    {
     "data": {
      "text/plain": [
       "LinearRegression()"
      ]
     },
     "execution_count": 30,
     "metadata": {},
     "output_type": "execute_result"
    }
   ],
   "source": [
    "ln3.fit(x_multi,y_multi)"
   ]
  },
  {
   "cell_type": "code",
   "execution_count": 31,
   "id": "52e2f219",
   "metadata": {},
   "outputs": [
    {
     "name": "stdout",
     "output_type": "stream",
     "text": [
      "-1.2123157998478722 [0.00142584 0.07321144 0.11975483 0.07688335 0.08823294 0.09143248\n",
      " 0.15031483 0.14884071 0.06000699 0.19418246 0.10580074 0.04454605\n",
      " 0.09966124 0.02763119 0.00107879]\n"
     ]
    }
   ],
   "source": [
    "print(ln3.intercept_,ln3.coef_)"
   ]
  },
  {
   "cell_type": "code",
   "execution_count": 32,
   "id": "46c8f2c3",
   "metadata": {},
   "outputs": [],
   "source": [
    "from sklearn.model_selection import train_test_split"
   ]
  },
  {
   "cell_type": "code",
   "execution_count": 33,
   "id": "b38d265a",
   "metadata": {},
   "outputs": [],
   "source": [
    "x_train,x_test,y_train,y_test = train_test_split(x_multi,y_multi,test_size=0.2,random_state=0)"
   ]
  },
  {
   "cell_type": "code",
   "execution_count": 34,
   "id": "91844763",
   "metadata": {},
   "outputs": [
    {
     "name": "stdout",
     "output_type": "stream",
     "text": [
      "(247, 15) (62, 15) (247,) (62,)\n"
     ]
    }
   ],
   "source": [
    "print(x_train.shape,x_test.shape,y_train.shape,y_test.shape)"
   ]
  },
  {
   "cell_type": "code",
   "execution_count": 35,
   "id": "b1edf143",
   "metadata": {},
   "outputs": [],
   "source": [
    "ln_a= LinearRegression()"
   ]
  },
  {
   "cell_type": "code",
   "execution_count": 36,
   "id": "20d13672",
   "metadata": {},
   "outputs": [
    {
     "data": {
      "text/plain": [
       "LinearRegression()"
      ]
     },
     "execution_count": 36,
     "metadata": {},
     "output_type": "execute_result"
    }
   ],
   "source": [
    "ln_a.fit(x_train,y_train)"
   ]
  },
  {
   "cell_type": "code",
   "execution_count": 37,
   "id": "361e9220",
   "metadata": {},
   "outputs": [],
   "source": [
    "y_test_a=ln_a.predict(x_test)"
   ]
  },
  {
   "cell_type": "code",
   "execution_count": 38,
   "id": "50792c9a",
   "metadata": {},
   "outputs": [],
   "source": [
    "y_train_a=ln_a.predict(x_train)"
   ]
  },
  {
   "cell_type": "code",
   "execution_count": 39,
   "id": "9ec9c2cb",
   "metadata": {},
   "outputs": [],
   "source": [
    "from sklearn.metrics import r2_score"
   ]
  },
  {
   "cell_type": "code",
   "execution_count": 40,
   "id": "9ac926ae",
   "metadata": {},
   "outputs": [
    {
     "data": {
      "text/plain": [
       "0.3790790963256525"
      ]
     },
     "execution_count": 40,
     "metadata": {},
     "output_type": "execute_result"
    }
   ],
   "source": [
    "r2_score(y_train,y_train_a)"
   ]
  },
  {
   "cell_type": "code",
   "execution_count": 41,
   "id": "4f2f51ca",
   "metadata": {},
   "outputs": [
    {
     "data": {
      "text/plain": [
       "0.3934695663951797"
      ]
     },
     "execution_count": 41,
     "metadata": {},
     "output_type": "execute_result"
    }
   ],
   "source": [
    "r2_score(y_test,y_test_a)"
   ]
  },
  {
   "cell_type": "code",
   "execution_count": 42,
   "id": "12a9abd3",
   "metadata": {},
   "outputs": [],
   "source": [
    "from sklearn import preprocessing"
   ]
  },
  {
   "cell_type": "code",
   "execution_count": 43,
   "id": "98195f65",
   "metadata": {},
   "outputs": [],
   "source": [
    "scaler=preprocessing.StandardScaler().fit(x_train)"
   ]
  },
  {
   "cell_type": "code",
   "execution_count": 44,
   "id": "affe0055",
   "metadata": {},
   "outputs": [],
   "source": [
    "x_test_s=scaler.transform(x_test)"
   ]
  },
  {
   "cell_type": "code",
   "execution_count": 45,
   "id": "4fdb26bd",
   "metadata": {},
   "outputs": [],
   "source": [
    "x_train_s=scaler.transform(x_train)"
   ]
  },
  {
   "cell_type": "code",
   "execution_count": 46,
   "id": "8307c63d",
   "metadata": {},
   "outputs": [],
   "source": [
    "from sklearn.linear_model import Ridge"
   ]
  },
  {
   "cell_type": "code",
   "execution_count": 47,
   "id": "9e4c22ca",
   "metadata": {},
   "outputs": [
    {
     "data": {
      "text/plain": [
       "Ridge(alpha=0.5)"
      ]
     },
     "execution_count": 47,
     "metadata": {},
     "output_type": "execute_result"
    }
   ],
   "source": [
    "ln_r=Ridge(alpha=0.5)\n",
    "ln_r.fit(x_train_s,y_train)"
   ]
  },
  {
   "cell_type": "code",
   "execution_count": 48,
   "id": "4c96addb",
   "metadata": {},
   "outputs": [
    {
     "data": {
      "text/plain": [
       "0.39363166405705596"
      ]
     },
     "execution_count": 48,
     "metadata": {},
     "output_type": "execute_result"
    }
   ],
   "source": [
    "r2_score(y_test,ln_r.predict(x_test_s))"
   ]
  },
  {
   "cell_type": "code",
   "execution_count": 49,
   "id": "b6d2dc35",
   "metadata": {},
   "outputs": [],
   "source": [
    "from sklearn.model_selection import validation_curve"
   ]
  },
  {
   "cell_type": "code",
   "execution_count": 50,
   "id": "b28b43e8",
   "metadata": {},
   "outputs": [],
   "source": [
    "param_range=np.logspace(-2,8,100)"
   ]
  },
  {
   "cell_type": "code",
   "execution_count": 51,
   "id": "cdc15d31",
   "metadata": {},
   "outputs": [
    {
     "data": {
      "text/plain": [
       "array([1.00000000e-02, 1.26185688e-02, 1.59228279e-02, 2.00923300e-02,\n",
       "       2.53536449e-02, 3.19926714e-02, 4.03701726e-02, 5.09413801e-02,\n",
       "       6.42807312e-02, 8.11130831e-02, 1.02353102e-01, 1.29154967e-01,\n",
       "       1.62975083e-01, 2.05651231e-01, 2.59502421e-01, 3.27454916e-01,\n",
       "       4.13201240e-01, 5.21400829e-01, 6.57933225e-01, 8.30217568e-01,\n",
       "       1.04761575e+00, 1.32194115e+00, 1.66810054e+00, 2.10490414e+00,\n",
       "       2.65608778e+00, 3.35160265e+00, 4.22924287e+00, 5.33669923e+00,\n",
       "       6.73415066e+00, 8.49753436e+00, 1.07226722e+01, 1.35304777e+01,\n",
       "       1.70735265e+01, 2.15443469e+01, 2.71858824e+01, 3.43046929e+01,\n",
       "       4.32876128e+01, 5.46227722e+01, 6.89261210e+01, 8.69749003e+01,\n",
       "       1.09749877e+02, 1.38488637e+02, 1.74752840e+02, 2.20513074e+02,\n",
       "       2.78255940e+02, 3.51119173e+02, 4.43062146e+02, 5.59081018e+02,\n",
       "       7.05480231e+02, 8.90215085e+02, 1.12332403e+03, 1.41747416e+03,\n",
       "       1.78864953e+03, 2.25701972e+03, 2.84803587e+03, 3.59381366e+03,\n",
       "       4.53487851e+03, 5.72236766e+03, 7.22080902e+03, 9.11162756e+03,\n",
       "       1.14975700e+04, 1.45082878e+04, 1.83073828e+04, 2.31012970e+04,\n",
       "       2.91505306e+04, 3.67837977e+04, 4.64158883e+04, 5.85702082e+04,\n",
       "       7.39072203e+04, 9.32603347e+04, 1.17681195e+05, 1.48496826e+05,\n",
       "       1.87381742e+05, 2.36448941e+05, 2.98364724e+05, 3.76493581e+05,\n",
       "       4.75081016e+05, 5.99484250e+05, 7.56463328e+05, 9.54548457e+05,\n",
       "       1.20450354e+06, 1.51991108e+06, 1.91791026e+06, 2.42012826e+06,\n",
       "       3.05385551e+06, 3.85352859e+06, 4.86260158e+06, 6.13590727e+06,\n",
       "       7.74263683e+06, 9.77009957e+06, 1.23284674e+07, 1.55567614e+07,\n",
       "       1.96304065e+07, 2.47707636e+07, 3.12571585e+07, 3.94420606e+07,\n",
       "       4.97702356e+07, 6.28029144e+07, 7.92482898e+07, 1.00000000e+08])"
      ]
     },
     "execution_count": 51,
     "metadata": {},
     "output_type": "execute_result"
    }
   ],
   "source": [
    "param_range"
   ]
  },
  {
   "cell_type": "code",
   "execution_count": 52,
   "id": "97e37e54",
   "metadata": {},
   "outputs": [],
   "source": [
    "train_scores,test_scores=validation_curve(Ridge(),x_train_s,y_train,\n",
    "                                         param_name=\"alpha\",\n",
    "                                         param_range=param_range,\n",
    "                                         scoring=\"r2\")"
   ]
  },
  {
   "cell_type": "code",
   "execution_count": 53,
   "id": "98112971",
   "metadata": {},
   "outputs": [
    {
     "name": "stdout",
     "output_type": "stream",
     "text": [
      "[[3.91288861e-01 3.40217036e-01 4.23755198e-01 3.88896335e-01\n",
      "  4.11236854e-01]\n",
      " [3.91288861e-01 3.40217035e-01 4.23755198e-01 3.88896334e-01\n",
      "  4.11236853e-01]\n",
      " [3.91288860e-01 3.40217034e-01 4.23755196e-01 3.88896333e-01\n",
      "  4.11236852e-01]\n",
      " [3.91288859e-01 3.40217032e-01 4.23755194e-01 3.88896331e-01\n",
      "  4.11236850e-01]\n",
      " [3.91288857e-01 3.40217030e-01 4.23755190e-01 3.88896329e-01\n",
      "  4.11236846e-01]\n",
      " [3.91288854e-01 3.40217025e-01 4.23755185e-01 3.88896324e-01\n",
      "  4.11236840e-01]\n",
      " [3.91288849e-01 3.40217017e-01 4.23755176e-01 3.88896318e-01\n",
      "  4.11236831e-01]\n",
      " [3.91288841e-01 3.40217006e-01 4.23755162e-01 3.88896307e-01\n",
      "  4.11236816e-01]\n",
      " [3.91288828e-01 3.40216987e-01 4.23755139e-01 3.88896290e-01\n",
      "  4.11236793e-01]\n",
      " [3.91288807e-01 3.40216957e-01 4.23755103e-01 3.88896262e-01\n",
      "  4.11236756e-01]\n",
      " [3.91288775e-01 3.40216910e-01 4.23755046e-01 3.88896219e-01\n",
      "  4.11236696e-01]\n",
      " [3.91288724e-01 3.40216834e-01 4.23754954e-01 3.88896150e-01\n",
      "  4.11236602e-01]\n",
      " [3.91288642e-01 3.40216714e-01 4.23754809e-01 3.88896040e-01\n",
      "  4.11236452e-01]\n",
      " [3.91288511e-01 3.40216523e-01 4.23754578e-01 3.88895865e-01\n",
      "  4.11236213e-01]\n",
      " [3.91288304e-01 3.40216219e-01 4.23754210e-01 3.88895587e-01\n",
      "  4.11235833e-01]\n",
      " [3.91287974e-01 3.40215736e-01 4.23753626e-01 3.88895145e-01\n",
      "  4.11235229e-01]\n",
      " [3.91287450e-01 3.40214968e-01 4.23752697e-01 3.88894442e-01\n",
      "  4.11234270e-01]\n",
      " [3.91286616e-01 3.40213749e-01 4.23751223e-01 3.88893325e-01\n",
      "  4.11232747e-01]\n",
      " [3.91285293e-01 3.40211814e-01 4.23748883e-01 3.88891551e-01\n",
      "  4.11230329e-01]\n",
      " [3.91283194e-01 3.40208747e-01 4.23745173e-01 3.88888737e-01\n",
      "  4.11226496e-01]\n",
      " [3.91279865e-01 3.40203890e-01 4.23739297e-01 3.88884275e-01\n",
      "  4.11220425e-01]\n",
      " [3.91274592e-01 3.40196208e-01 4.23730004e-01 3.88877208e-01\n",
      "  4.11210822e-01]\n",
      " [3.91266251e-01 3.40184081e-01 4.23715330e-01 3.88866032e-01\n",
      "  4.11195658e-01]\n",
      " [3.91253080e-01 3.40164978e-01 4.23692210e-01 3.88848389e-01\n",
      "  4.11171766e-01]\n",
      " [3.91232326e-01 3.40134966e-01 4.23655881e-01 3.88820597e-01\n",
      "  4.11134220e-01]\n",
      " [3.91199709e-01 3.40087974e-01 4.23598984e-01 3.88776935e-01\n",
      "  4.11075410e-01]\n",
      " [3.91148613e-01 3.40014699e-01 4.23510243e-01 3.88708575e-01\n",
      "  4.10983668e-01]\n",
      " [3.91068889e-01 3.39901020e-01 4.23372536e-01 3.88601994e-01\n",
      "  4.10841264e-01]\n",
      " [3.90945107e-01 3.39725746e-01 4.23160168e-01 3.88436680e-01\n",
      "  4.10621566e-01]\n",
      " [3.90754062e-01 3.39457520e-01 4.22835131e-01 3.88181890e-01\n",
      "  4.10285118e-01]\n",
      " [3.90461324e-01 3.39050722e-01 4.22342180e-01 3.87792218e-01\n",
      "  4.09774440e-01]\n",
      " [3.90016614e-01 3.38440314e-01 4.21602692e-01 3.87201803e-01\n",
      "  4.09007475e-01]\n",
      " [3.89347899e-01 3.37535780e-01 4.20507592e-01 3.86317180e-01\n",
      "  4.07869873e-01]\n",
      " [3.88354266e-01 3.36214672e-01 4.18910061e-01 3.85009178e-01\n",
      "  4.06206789e-01]\n",
      " [3.86898001e-01 3.34316750e-01 4.16619390e-01 3.83104864e-01\n",
      "  4.03815509e-01]\n",
      " [3.84796783e-01 3.31640264e-01 4.13397928e-01 3.80381364e-01\n",
      "  4.00440999e-01]\n",
      " [3.81817580e-01 3.27942384e-01 4.08963410e-01 3.76564221e-01\n",
      "  3.95777116e-01]\n",
      " [3.77674555e-01 3.22946001e-01 4.02998697e-01 3.71333491e-01\n",
      "  3.89476513e-01]\n",
      " [3.72034019e-01 3.16354870e-01 3.95169991e-01 3.64340590e-01\n",
      "  3.81171805e-01]\n",
      " [3.64529960e-01 3.07878263e-01 3.85153258e-01 3.55237582e-01\n",
      "  3.70509214e-01]\n",
      " [3.54793442e-01 2.97264977e-01 3.72667405e-01 3.43718209e-01\n",
      "  3.57193688e-01]\n",
      " [3.42497526e-01 2.84344455e-01 3.57512168e-01 3.29566751e-01\n",
      "  3.41041380e-01]\n",
      " [3.27415340e-01 2.69070006e-01 3.39608109e-01 3.12707584e-01\n",
      "  3.22031908e-01]\n",
      " [3.09482706e-01 2.51555857e-01 3.19034425e-01 2.93245772e-01\n",
      "  3.00349389e-01]\n",
      " [2.88850317e-01 2.32097430e-01 2.96057039e-01 2.71488261e-01\n",
      "  2.76399674e-01]\n",
      " [2.65907637e-01 2.11164886e-01 2.71136548e-01 2.47937042e-01\n",
      "  2.50793427e-01]\n",
      " [2.41265127e-01 1.89365308e-01 2.44906429e-01 2.23250722e-01\n",
      "  2.24292077e-01]\n",
      " [2.15693017e-01 1.67377957e-01 2.18118705e-01 1.98178642e-01\n",
      "  1.97724633e-01]\n",
      " [1.90028997e-01 1.45876141e-01 1.91564962e-01 1.73479556e-01\n",
      "  1.71893120e-01]\n",
      " [1.65077221e-01 1.25453688e-01 1.65989825e-01 1.49841683e-01\n",
      "  1.47488036e-01]\n",
      " [1.41522115e-01 1.06571667e-01 1.42016638e-01 1.27820211e-01\n",
      "  1.25030853e-01]\n",
      " [1.19873255e-01 8.95332956e-02 1.20100005e-01 1.07802337e-01\n",
      "  1.04850805e-01]\n",
      " [1.00446259e-01 7.44860930e-02 1.00510352e-01 9.00015113e-02\n",
      "  8.70930035e-02]\n",
      " [8.33746097e-02 6.14439571e-02 8.33464738e-02 7.44753490e-02\n",
      "  7.17482501e-02]\n",
      " [6.86416675e-02 5.03195737e-02 6.85665365e-02 6.11578840e-02\n",
      "  5.86931003e-02]\n",
      " [5.61213443e-02 4.09586446e-02 5.60269811e-02 4.98967483e-02\n",
      "  4.77305642e-02]\n",
      " [4.56182696e-02 3.31702399e-02 4.55208091e-02 4.04881551e-02\n",
      "  3.86253174e-02]\n",
      " [3.69019080e-02 2.67505374e-02 3.68100361e-02 3.27056288e-02\n",
      "  3.11307119e-02]\n",
      " [2.97323692e-02 2.14994606e-02 2.96501815e-02 2.63210990e-02\n",
      "  2.50073600e-02]\n",
      " [2.38779467e-02 1.72310511e-02 2.38068327e-02 2.11187586e-02\n",
      "  2.00344595e-02]\n",
      " [1.91256589e-02 1.37789548e-02 1.90655027e-02 1.69029879e-02\n",
      "  1.60155540e-02]\n",
      " [1.52864901e-02 1.09984475e-02 1.52364106e-02 1.35018928e-02\n",
      "  1.27804091e-02]\n",
      " [1.21969680e-02 8.76622405e-03 1.21557596e-02 1.07678879e-02\n",
      "  1.01844162e-02]\n",
      " [9.71843238e-03 6.97888483e-03 9.68481527e-03 8.57646910e-03\n",
      "  8.10658510e-03]\n",
      " [7.73500128e-03 5.55077651e-03 7.70775506e-03 6.82401627e-03\n",
      "  6.44686469e-03]\n",
      " [6.15093243e-03 4.41161638e-03 6.12895907e-03 5.42519022e-03\n",
      "  5.12326834e-03]\n",
      " [4.88782398e-03 3.50415925e-03 4.87017054e-03 4.31028027e-03\n",
      "  4.06908773e-03]\n",
      " [3.88191878e-03 2.78204838e-03 3.86777779e-03 3.42270578e-03\n",
      "  3.23034700e-03]\n",
      " [3.08165066e-03 2.20791484e-03 3.07034925e-03 2.71677350e-03\n",
      "  2.56356306e-03]\n",
      " [2.44549165e-03 1.75174255e-03 2.43647580e-03 2.15572843e-03\n",
      "  2.03382629e-03]\n",
      " [1.94011049e-03 1.38948944e-03 1.93292807e-03 1.71009746e-03\n",
      "  1.61318605e-03]\n",
      " [1.53882583e-03 1.10194133e-03 1.53311032e-03 1.35630484e-03\n",
      "  1.27931143e-03]\n",
      " [1.22032429e-03 8.73769374e-04 1.21578003e-03 1.07552877e-03\n",
      "  1.01439146e-03]\n",
      " [9.67608725e-04 6.92761429e-04 9.63998174e-04 8.52765938e-04\n",
      "  8.04239302e-04]\n",
      " [7.67141877e-04 5.49199030e-04 7.64274732e-04 6.76071318e-04\n",
      "  6.37566763e-04]\n",
      " [6.08153285e-04 4.35354916e-04 6.05877449e-04 5.35943950e-04\n",
      "  5.05399552e-04]\n",
      " [4.82080822e-04 3.45089288e-04 4.80274954e-04 4.24832606e-04\n",
      "  4.00607711e-04]\n",
      " [3.82122327e-04 2.73526340e-04 3.80689759e-04 3.36739296e-04\n",
      "  3.17529550e-04]\n",
      " [3.02876626e-04 2.16795718e-04 3.01740430e-04 2.66902050e-04\n",
      "  2.51671158e-04]\n",
      " [2.40056721e-04 1.71826229e-04 2.39155733e-04 2.11541643e-04\n",
      "  1.99466711e-04]\n",
      " [1.90261057e-04 1.36181490e-04 1.89546681e-04 1.67659676e-04\n",
      "  1.58087539e-04]\n",
      " [1.50791330e-04 1.07929129e-04 1.50224973e-04 1.32877816e-04\n",
      "  1.25290202e-04]\n",
      " [1.19507524e-04 8.55367790e-05 1.19058555e-04 1.05309923e-04\n",
      "  9.92957009e-05]\n",
      " [9.47126779e-05 6.77894433e-05 9.43567885e-05 8.34604119e-05\n",
      "  7.86935104e-05]\n",
      " [7.50613234e-05 5.37238643e-05 7.47792312e-05 6.61435237e-05\n",
      "  6.23653750e-05]\n",
      " [5.94867910e-05 4.25764306e-05 5.92632027e-05 5.24192284e-05\n",
      "  4.94248207e-05]\n",
      " [4.71435055e-05 3.37418385e-05 4.69662936e-05 4.15423577e-05\n",
      "  3.91691590e-05]\n",
      " [3.73612013e-05 2.67402982e-05 3.72207500e-05 3.29222459e-05\n",
      "  3.10414123e-05]\n",
      " [2.96086026e-05 2.11915230e-05 2.94972887e-05 2.60907174e-05\n",
      "  2.46001173e-05]\n",
      " [2.34646186e-05 1.67941043e-05 2.33763988e-05 2.06766990e-05\n",
      "  1.94953788e-05]\n",
      " [1.85955021e-05 1.33091564e-05 1.85255859e-05 1.63860883e-05\n",
      "  1.54498840e-05]\n",
      " [1.47367386e-05 1.05473517e-05 1.46813291e-05 1.29857940e-05\n",
      "  1.22438504e-05]\n",
      " [1.16786895e-05 8.35864157e-06 1.16347771e-05 1.02910820e-05\n",
      "  9.70309319e-06]\n",
      " [9.25520953e-06 6.62410923e-06 9.22040883e-06 8.15554563e-06\n",
      "  7.68956755e-06]\n",
      " [7.33462531e-06 5.24951133e-06 7.30704582e-06 6.46315502e-06\n",
      "  6.09387096e-06]\n",
      " [5.81258399e-06 4.16015928e-06 5.79072738e-06 5.12195527e-06\n",
      "  4.82930120e-06]\n",
      " [4.60638526e-06 3.29686220e-06 4.58906406e-06 4.05907165e-06\n",
      "  3.82714657e-06]\n",
      " [3.65048898e-06 2.61271138e-06 3.63676209e-06 3.21675096e-06\n",
      "  3.03295320e-06]\n",
      " [2.89295476e-06 2.07053190e-06 2.88207635e-06 2.54922394e-06\n",
      "  2.40356669e-06]\n",
      " [2.29262011e-06 1.64086288e-06 2.28399911e-06 2.02021878e-06\n",
      "  1.90478747e-06]]\n",
      "[[ 2.04552161e-01  3.98331618e-01  1.52338444e-02  1.81501353e-01\n",
      "   1.62317487e-01]\n",
      " [ 2.04550761e-01  3.98329615e-01  1.52449001e-02  1.81508700e-01\n",
      "   1.62325294e-01]\n",
      " [ 2.04548996e-01  3.98327086e-01  1.52588494e-02  1.81517970e-01\n",
      "   1.62335145e-01]\n",
      " [ 2.04546768e-01  3.98323895e-01  1.52764492e-02  1.81529666e-01\n",
      "   1.62347574e-01]\n",
      " [ 2.04543957e-01  3.98319868e-01  1.52986540e-02  1.81544423e-01\n",
      "   1.62363256e-01]\n",
      " [ 2.04540409e-01  3.98314787e-01  1.53266676e-02  1.81563042e-01\n",
      "   1.62383039e-01]\n",
      " [ 2.04535933e-01  3.98308373e-01  1.53620076e-02  1.81586530e-01\n",
      "   1.62407997e-01]\n",
      " [ 2.04530284e-01  3.98300279e-01  1.54065873e-02  1.81616161e-01\n",
      "   1.62439479e-01]\n",
      " [ 2.04523157e-01  3.98290063e-01  1.54628175e-02  1.81653537e-01\n",
      "   1.62479190e-01]\n",
      " [ 2.04514163e-01  3.98277169e-01  1.55337354e-02  1.81700681e-01\n",
      "   1.62529274e-01]\n",
      " [ 2.04502814e-01  3.98260893e-01  1.56231654e-02  1.81760135e-01\n",
      "   1.62592433e-01]\n",
      " [ 2.04488494e-01  3.98240346e-01  1.57359207e-02  1.81835106e-01\n",
      "   1.62672065e-01]\n",
      " [ 2.04470424e-01  3.98214405e-01  1.58780546e-02  1.81929625e-01\n",
      "   1.62772448e-01]\n",
      " [ 2.04447624e-01  3.98181649e-01  1.60571732e-02  1.82048760e-01\n",
      "   1.62898954e-01]\n",
      " [ 2.04418854e-01  3.98140281e-01  1.62828234e-02  1.82198880e-01\n",
      "   1.63058328e-01]\n",
      " [ 2.04382553e-01  3.98088025e-01  1.65669708e-02  1.82387973e-01\n",
      "   1.63259024e-01]\n",
      " [ 2.04336749e-01  3.98021998e-01  1.69245864e-02  1.82626046e-01\n",
      "   1.63511623e-01]\n",
      " [ 2.04278958e-01  3.97938545e-01  1.73743588e-02  1.82925611e-01\n",
      "   1.63829332e-01]\n",
      " [ 2.04206042e-01  3.97833020e-01  1.79395503e-02  1.83302272e-01\n",
      "   1.64228598e-01]\n",
      " [ 2.04114051e-01  3.97699522e-01  1.86490115e-02  1.83775429e-01\n",
      "   1.64729822e-01]\n",
      " [ 2.03997999e-01  3.97530530e-01  1.95383570e-02  1.84369107e-01\n",
      "   1.65358200e-01]\n",
      " [ 2.03851610e-01  3.97316449e-01  2.06512917e-02  1.85112906e-01\n",
      "   1.66144666e-01]\n",
      " [ 2.03666980e-01  3.97045009e-01  2.20410404e-02  1.86043054e-01\n",
      "   1.67126916e-01]\n",
      " [ 2.03434166e-01  3.96700483e-01  2.37717878e-02  1.87203527e-01\n",
      "   1.68350450e-01]\n",
      " [ 2.03140685e-01  3.96262667e-01  2.59199517e-02  1.88647113e-01\n",
      "   1.69869500e-01]\n",
      " [ 2.02770891e-01  3.95705549e-01  2.85749992e-02  1.90436277e-01\n",
      "   1.71747659e-01]\n",
      " [ 2.02305244e-01  3.94995588e-01  3.18393551e-02  1.92643525e-01\n",
      "   1.74057887e-01]\n",
      " [ 2.01719448e-01  3.94089500e-01  3.58267474e-02  1.95350842e-01\n",
      "   1.76881437e-01]\n",
      " [ 2.00983497e-01  3.92931472e-01  4.06581105e-02  1.98647582e-01\n",
      "   1.80305081e-01]\n",
      " [ 2.00060667e-01  3.91449757e-01  4.64539690e-02  2.02625941e-01\n",
      "   1.84415843e-01]\n",
      " [ 1.98906583e-01  3.89552683e-01  5.33221601e-02  2.07372985e-01\n",
      "   1.89292376e-01]\n",
      " [ 1.97468523e-01  3.87124296e-01  6.13399966e-02  2.12958052e-01\n",
      "   1.94992178e-01]\n",
      " [ 1.95685217e-01  3.84020118e-01  7.05307353e-02  2.19414511e-01\n",
      "   2.01534232e-01]\n",
      " [ 1.93487413e-01  3.80063872e-01  8.08357024e-02  2.26715478e-01\n",
      "   2.08877453e-01]\n",
      " [ 1.90799426e-01  3.75046435e-01  9.20856413e-02  2.34744296e-01\n",
      "   2.16896618e-01]\n",
      " [ 1.87541639e-01  3.68728587e-01  1.03977400e-01  2.43262651e-01\n",
      "   2.25359060e-01]\n",
      " [ 1.83633553e-01  3.60849200e-01  1.16063981e-01  2.51881791e-01\n",
      "   2.33907044e-01]\n",
      " [ 1.78996589e-01  3.51140128e-01  1.27765854e-01  2.60045059e-01\n",
      "   2.42051818e-01]\n",
      " [ 1.73555853e-01  3.39348269e-01  1.38408112e-01  2.67031674e-01\n",
      "   2.49185332e-01]\n",
      " [ 1.67240778e-01  3.25264138e-01  1.47281763e-01  2.71991219e-01\n",
      "   2.54614219e-01]\n",
      " [ 1.59986202e-01  3.08755059e-01  1.53720274e-01  2.74014489e-01\n",
      "   2.57617885e-01]\n",
      " [ 1.51737074e-01  2.89799706e-01  1.57177796e-01  2.72238632e-01\n",
      "   2.57528297e-01]\n",
      " [ 1.42460226e-01  2.68519090e-01  1.57295494e-01  2.65973983e-01\n",
      "   2.53823394e-01]\n",
      " [ 1.32164064e-01  2.45197231e-01  1.53946285e-01  2.54829242e-01\n",
      "   2.46219193e-01]\n",
      " [ 1.20922043e-01  2.20283672e-01  1.47252917e-01  2.38805278e-01\n",
      "   2.34739906e-01]\n",
      " [ 1.08891040e-01  1.94371340e-01  1.37577352e-01  2.18330213e-01\n",
      "   2.19744507e-01]\n",
      " [ 9.63147781e-02  1.68148317e-01  1.25481457e-01  1.94221227e-01\n",
      "   2.01895987e-01]\n",
      " [ 8.35069308e-02  1.42329884e-01  1.11662517e-01  1.67578377e-01\n",
      "   1.82075285e-01]\n",
      " [ 7.08164183e-02  1.17584275e-01  9.68726533e-02  1.39635027e-01\n",
      "   1.61259521e-01]\n",
      " [ 5.85843089e-02  9.44682346e-02  8.18364301e-02  1.11600297e-01\n",
      "   1.40394750e-01]\n",
      " [ 4.71041389e-02  7.33850930e-02  6.71819995e-02  8.45273906e-02\n",
      "   1.20292237e-01]\n",
      " [ 3.65947962e-02  5.45705698e-02  5.33968790e-02  5.92294845e-02\n",
      "   1.01565831e-01]\n",
      " [ 2.71896517e-02  3.81035639e-02  4.08118169e-02  3.62486679e-02\n",
      "   8.46132143e-02]\n",
      " [ 1.89403561e-02  2.39339706e-02  2.96088894e-02  1.58695698e-02\n",
      "   6.96322412e-02]\n",
      " [ 1.18305723e-02  1.19181471e-02  1.98456518e-02 -1.83799812e-03\n",
      "   5.66583616e-02]\n",
      " [ 5.79422657e-03  1.85418584e-03  1.14864250e-02 -1.69638111e-02\n",
      "   4.56096642e-02]\n",
      " [ 7.33869793e-04 -6.48796500e-03  4.43357725e-03 -2.97022518e-02\n",
      "   3.63298020e-02]\n",
      " [-3.46358365e-03 -1.33436639e-02 -1.44558725e-03 -4.03053162e-02\n",
      "   2.86234676e-02]\n",
      " [-6.91489590e-03 -1.89380891e-02 -6.29817741e-03 -4.90467629e-02\n",
      "   2.22826742e-02]\n",
      " [-9.73236922e-03 -2.34770225e-02 -1.02713591e-02 -5.61974049e-02\n",
      "   1.71043518e-02]\n",
      " [-1.20189701e-02 -2.71424046e-02 -1.35033816e-02 -6.20098634e-02\n",
      "   1.29008481e-02]\n",
      " [-1.38659328e-02 -3.00911883e-02 -1.61187241e-02 -6.67105181e-02\n",
      "   9.50518824e-03]\n",
      " [-1.53520781e-02 -3.24562672e-02 -1.82261317e-02 -7.04964670e-02\n",
      "   6.77278292e-03]\n",
      " [-1.65442147e-02 -3.43485622e-02 -1.99185123e-02 -7.35356880e-02\n",
      "   4.58092438e-03]\n",
      " [-1.74981474e-02 -3.58596309e-02 -2.12739243e-02 -7.59690506e-02\n",
      "   2.82704773e-03]\n",
      " [-1.82599653e-02 -3.70643966e-02 -2.23571168e-02 -7.79132410e-02\n",
      "   1.42641666e-03]\n",
      " [-1.88673999e-02 -3.80237556e-02 -2.32212712e-02 -7.94639960e-02\n",
      "   3.09650695e-04]\n",
      " [-1.93511284e-02 -3.87869406e-02 -2.39097347e-02 -8.06992841e-02\n",
      "  -5.79662192e-04]\n",
      " [-1.97359584e-02 -3.93935882e-02 -2.44576285e-02 -8.16822365e-02\n",
      "  -1.28714026e-03]\n",
      " [-2.00418660e-02 -3.98755043e-02 -2.48932757e-02 -8.24637391e-02\n",
      "  -1.84951598e-03]\n",
      " [-2.02848830e-02 -4.02581442e-02 -2.52394334e-02 -8.30846615e-02\n",
      "  -2.29626785e-03]\n",
      " [-2.04778419e-02 -4.05618392e-02 -2.55143339e-02 -8.35777367e-02\n",
      "  -2.65099047e-03]\n",
      " [-2.06309927e-02 -4.08028015e-02 -2.57325507e-02 -8.39691230e-02\n",
      "  -2.93252973e-03]\n",
      " [-2.07525096e-02 -4.09939418e-02 -2.59057122e-02 -8.42796880e-02\n",
      "  -3.15591384e-03]\n",
      " [-2.08489023e-02 -4.11455316e-02 -2.60430834e-02 -8.45260560e-02\n",
      "  -3.33311114e-03]\n",
      " [-2.09253502e-02 -4.12657359e-02 -2.61520380e-02 -8.47214558e-02\n",
      "  -3.47364337e-03]\n",
      " [-2.09859706e-02 -4.13610409e-02 -2.62384395e-02 -8.48764058e-02\n",
      "  -3.58507963e-03]\n",
      " [-2.10340342e-02 -4.14365969e-02 -2.63069469e-02 -8.49992633e-02\n",
      "  -3.67343300e-03]\n",
      " [-2.10721383e-02 -4.14964915e-02 -2.63612603e-02 -8.50966648e-02\n",
      "  -3.74347794e-03]\n",
      " [-2.11023442e-02 -4.15439683e-02 -2.64043168e-02 -8.51738784e-02\n",
      "  -3.79900395e-03]\n",
      " [-2.11262876e-02 -4.15815998e-02 -2.64384472e-02 -8.52350843e-02\n",
      "  -3.84301779e-03]\n",
      " [-2.11452659e-02 -4.16114265e-02 -2.64655005e-02 -8.52835987e-02\n",
      "  -3.87790456e-03]\n",
      " [-2.11603081e-02 -4.16350665e-02 -2.64869433e-02 -8.53220515e-02\n",
      "  -3.90555584e-03]\n",
      " [-2.11722303e-02 -4.16538026e-02 -2.65039385e-02 -8.53525286e-02\n",
      "  -3.92747159e-03]\n",
      " [-2.11816793e-02 -4.16686516e-02 -2.65174084e-02 -8.53766836e-02\n",
      "  -3.94484107e-03]\n",
      " [-2.11891680e-02 -4.16804200e-02 -2.65280838e-02 -8.53958275e-02\n",
      "  -3.95860711e-03]\n",
      " [-2.11951030e-02 -4.16897466e-02 -2.65365445e-02 -8.54109996e-02\n",
      "  -3.96951710e-03]\n",
      " [-2.11998066e-02 -4.16971381e-02 -2.65432498e-02 -8.54230239e-02\n",
      "  -3.97816348e-03]\n",
      " [-2.12035343e-02 -4.17029958e-02 -2.65485638e-02 -8.54325533e-02\n",
      "  -3.98501584e-03]\n",
      " [-2.12064885e-02 -4.17076381e-02 -2.65527752e-02 -8.54401054e-02\n",
      "  -3.99044638e-03]\n",
      " [-2.12088298e-02 -4.17113171e-02 -2.65561128e-02 -8.54460905e-02\n",
      "  -3.99475009e-03]\n",
      " [-2.12106852e-02 -4.17142327e-02 -2.65587578e-02 -8.54508337e-02\n",
      "  -3.99816076e-03]\n",
      " [-2.12121556e-02 -4.17165433e-02 -2.65608539e-02 -8.54545926e-02\n",
      "  -4.00086371e-03]\n",
      " [-2.12133209e-02 -4.17183744e-02 -2.65625151e-02 -8.54575715e-02\n",
      "  -4.00300577e-03]\n",
      " [-2.12142443e-02 -4.17198256e-02 -2.65638316e-02 -8.54599323e-02\n",
      "  -4.00470333e-03]\n",
      " [-2.12149762e-02 -4.17209756e-02 -2.65648749e-02 -8.54618032e-02\n",
      "  -4.00604863e-03]\n",
      " [-2.12155561e-02 -4.17218870e-02 -2.65657017e-02 -8.54632859e-02\n",
      "  -4.00711476e-03]\n",
      " [-2.12160158e-02 -4.17226092e-02 -2.65663569e-02 -8.54644608e-02\n",
      "  -4.00795966e-03]\n",
      " [-2.12163800e-02 -4.17231816e-02 -2.65668762e-02 -8.54653920e-02\n",
      "  -4.00862922e-03]\n",
      " [-2.12166687e-02 -4.17236352e-02 -2.65672877e-02 -8.54661299e-02\n",
      "  -4.00915985e-03]]\n"
     ]
    }
   ],
   "source": [
    "print(train_scores)\n",
    "print(test_scores)"
   ]
  },
  {
   "cell_type": "code",
   "execution_count": 54,
   "id": "d7ba3563",
   "metadata": {},
   "outputs": [],
   "source": [
    "train_mean=np.mean(train_scores,axis=1)"
   ]
  },
  {
   "cell_type": "code",
   "execution_count": 55,
   "id": "ffad19a1",
   "metadata": {},
   "outputs": [],
   "source": [
    "test_mean=np.mean(test_scores,axis=1)"
   ]
  },
  {
   "cell_type": "code",
   "execution_count": 56,
   "id": "39545204",
   "metadata": {},
   "outputs": [
    {
     "data": {
      "text/plain": [
       "array([3.91078857e-01, 3.91078856e-01, 3.91078855e-01, 3.91078853e-01,\n",
       "       3.91078850e-01, 3.91078846e-01, 3.91078838e-01, 3.91078826e-01,\n",
       "       3.91078807e-01, 3.91078777e-01, 3.91078729e-01, 3.91078653e-01,\n",
       "       3.91078531e-01, 3.91078338e-01, 3.91078031e-01, 3.91077542e-01,\n",
       "       3.91076765e-01, 3.91075532e-01, 3.91073574e-01, 3.91070469e-01,\n",
       "       3.91065550e-01, 3.91057767e-01, 3.91045470e-01, 3.91026085e-01,\n",
       "       3.90995598e-01, 3.90947802e-01, 3.90873160e-01, 3.90757141e-01,\n",
       "       3.90577853e-01, 3.90302744e-01, 3.89884177e-01, 3.89253779e-01,\n",
       "       3.88315665e-01, 3.86938993e-01, 3.84950903e-01, 3.82131468e-01,\n",
       "       3.78212942e-01, 3.72885852e-01, 3.65814255e-01, 3.56661655e-01,\n",
       "       3.45127544e-01, 3.30992456e-01, 3.14166589e-01, 2.94733630e-01,\n",
       "       2.72978544e-01, 2.49387908e-01, 2.24615932e-01, 1.99418591e-01,\n",
       "       1.74568555e-01, 1.50770091e-01, 1.28592297e-01, 1.08431939e-01,\n",
       "       9.05074438e-02, 7.48777279e-02, 6.14757524e-02, 5.01468565e-02,\n",
       "       4.06845582e-02, 3.28597645e-02, 2.64420941e-02, 2.12138097e-02,\n",
       "       1.69777317e-02, 1.35607300e-02, 1.08142512e-02, 8.61303734e-03,\n",
       "       6.85288276e-03, 5.44799329e-03, 4.32830436e-03, 3.43695955e-03,\n",
       "       2.72805026e-03, 2.16465294e-03, 1.71716230e-03, 1.36189875e-03,\n",
       "       1.07995879e-03, 8.56274714e-04, 6.78850744e-04, 5.38145831e-04,\n",
       "       4.26577076e-04, 3.38121454e-04, 2.67997196e-04, 2.12409407e-04,\n",
       "       1.68347289e-04, 1.33422690e-04, 1.05741696e-04, 8.38025664e-05,\n",
       "       6.64146635e-05, 5.26340947e-05, 4.17126309e-05, 3.30571815e-05,\n",
       "       2.61976498e-05, 2.07614399e-05, 1.64532433e-05, 1.30390128e-05,\n",
       "       1.03332567e-05, 8.18896816e-06, 6.48964169e-06, 5.14294542e-06,\n",
       "       4.07570595e-06, 3.22993332e-06, 2.55967073e-06, 2.02849767e-06])"
      ]
     },
     "execution_count": 56,
     "metadata": {},
     "output_type": "execute_result"
    }
   ],
   "source": [
    "train_mean"
   ]
  },
  {
   "cell_type": "code",
   "execution_count": 57,
   "id": "d2fd74cf",
   "metadata": {},
   "outputs": [
    {
     "data": {
      "text/plain": [
       "0.3910788569718782"
      ]
     },
     "execution_count": 57,
     "metadata": {},
     "output_type": "execute_result"
    }
   ],
   "source": [
    "max(train_mean)"
   ]
  },
  {
   "cell_type": "code",
   "execution_count": 58,
   "id": "9d6bbd59",
   "metadata": {},
   "outputs": [
    {
     "data": {
      "text/plain": [
       "<seaborn.axisgrid.JointGrid at 0x121fd3c89a0>"
      ]
     },
     "execution_count": 58,
     "metadata": {},
     "output_type": "execute_result"
    },
    {
     "data": {
      "image/png": "[encoded data removed]",
      "text/plain": [
       "<Figure size 600x600 with 3 Axes>"
      ]
     },
     "metadata": {},
     "output_type": "display_data"
    }
   ],
   "source": [
    "sns.jointplot(x=np.log(param_range),y=test_mean)"
   ]
  },
  {
   "cell_type": "code",
   "execution_count": 59,
   "id": "f01624d2",
   "metadata": {},
   "outputs": [
    {
     "data": {
      "text/plain": [
       "(array([38], dtype=int64),)"
      ]
     },
     "execution_count": 59,
     "metadata": {},
     "output_type": "execute_result"
    }
   ],
   "source": [
    "np.where(test_mean==max(test_mean))"
   ]
  },
  {
   "cell_type": "code",
   "execution_count": 60,
   "id": "c29957ed",
   "metadata": {},
   "outputs": [
    {
     "data": {
      "text/plain": [
       "68.92612104349695"
      ]
     },
     "execution_count": 60,
     "metadata": {},
     "output_type": "execute_result"
    }
   ],
   "source": [
    "param_range[38]"
   ]
  },
  {
   "cell_type": "code",
   "execution_count": 61,
   "id": "2d27450e",
   "metadata": {},
   "outputs": [],
   "source": [
    "ln_r_best=Ridge(alpha=param_range[38])"
   ]
  },
  {
   "cell_type": "code",
   "execution_count": 62,
   "id": "d82e022f",
   "metadata": {},
   "outputs": [
    {
     "data": {
      "text/plain": [
       "Ridge(alpha=68.92612104349695)"
      ]
     },
     "execution_count": 62,
     "metadata": {},
     "output_type": "execute_result"
    }
   ],
   "source": [
    "ln_r_best.fit(x_train_s,y_train)"
   ]
  },
  {
   "cell_type": "code",
   "execution_count": 63,
   "id": "850d8f5f",
   "metadata": {},
   "outputs": [
    {
     "data": {
      "text/plain": [
       "0.38654538451015896"
      ]
     },
     "execution_count": 63,
     "metadata": {},
     "output_type": "execute_result"
    }
   ],
   "source": [
    "r2_score(y_test,ln_r_best.predict(x_test_s))"
   ]
  },
  {
   "cell_type": "code",
   "execution_count": 64,
   "id": "82657afb",
   "metadata": {},
   "outputs": [
    {
     "data": {
      "text/plain": [
       "0.3615722292306406"
      ]
     },
     "execution_count": 64,
     "metadata": {},
     "output_type": "execute_result"
    }
   ],
   "source": [
    "r2_score(y_train,ln_r_best.predict(x_train_s))"
   ]
  },
  {
   "cell_type": "code",
   "execution_count": 65,
   "id": "d60a1d7a",
   "metadata": {},
   "outputs": [],
   "source": [
    "from sklearn.linear_model import Lasso"
   ]
  },
  {
   "cell_type": "code",
   "execution_count": 66,
   "id": "74f2ff3b",
   "metadata": {},
   "outputs": [],
   "source": [
    "ln_l=Lasso(alpha=0.4)"
   ]
  },
  {
   "cell_type": "code",
   "execution_count": 67,
   "id": "1db337f0",
   "metadata": {},
   "outputs": [],
   "source": [
    "x=df[['SMOKING']]"
   ]
  },
  {
   "cell_type": "code",
   "execution_count": 68,
   "id": "3315819a",
   "metadata": {},
   "outputs": [],
   "source": [
    "x=df.loc[:,df.columns!='LUNG_CANCER']"
   ]
  },
  {
   "cell_type": "code",
   "execution_count": 69,
   "id": "a7ca0192",
   "metadata": {},
   "outputs": [],
   "source": [
    "y=df['LUNG_CANCER']"
   ]
  },
  {
   "cell_type": "code",
   "execution_count": null,
   "id": "3104024b",
   "metadata": {},
   "outputs": [],
   "source": []
  },
  {
   "cell_type": "code",
   "execution_count": null,
   "id": "8067329b",
   "metadata": {},
   "outputs": [],
   "source": []
  },
  {
   "cell_type": "code",
   "execution_count": null,
   "id": "a054b902",
   "metadata": {},
   "outputs": [],
   "source": []
  },
  {
   "cell_type": "code",
   "execution_count": null,
   "id": "d2672535",
   "metadata": {},
   "outputs": [],
   "source": []
  },
  {
   "cell_type": "code",
   "execution_count": 70,
   "id": "7b0304b5",
   "metadata": {},
   "outputs": [],
   "source": [
    "from sklearn.linear_model import LogisticRegression"
   ]
  },
  {
   "cell_type": "code",
   "execution_count": null,
   "id": "61052ed6",
   "metadata": {},
   "outputs": [],
   "source": []
  },
  {
   "cell_type": "code",
   "execution_count": 71,
   "id": "60016aee",
   "metadata": {},
   "outputs": [],
   "source": [
    "clf_lr=LogisticRegression()"
   ]
  },
  {
   "cell_type": "code",
   "execution_count": null,
   "id": "5f54ff26",
   "metadata": {},
   "outputs": [],
   "source": []
  },
  {
   "cell_type": "code",
   "execution_count": 72,
   "id": "0f9f9a7b",
   "metadata": {},
   "outputs": [
    {
     "name": "stderr",
     "output_type": "stream",
     "text": [
      "C:\\Users\\LENOVO\\anaconda3\\lib\\site-packages\\sklearn\\linear_model\\_logistic.py:814: ConvergenceWarning: lbfgs failed to converge (status=1):\n",
      "STOP: TOTAL NO. of ITERATIONS REACHED LIMIT.\n",
      "\n",
      "Increase the number of iterations (max_iter) or scale the data as shown in:\n",
      "    https://scikit-learn.org/stable/modules/preprocessing.html\n",
      "Please also refer to the documentation for alternative solver options:\n",
      "    https://scikit-learn.org/stable/modules/linear_model.html#logistic-regression\n",
      "  n_iter_i = _check_optimize_result(\n"
     ]
    },
    {
     "data": {
      "text/plain": [
       "LogisticRegression()"
      ]
     },
     "execution_count": 72,
     "metadata": {},
     "output_type": "execute_result"
    }
   ],
   "source": [
    "clf_lr.fit(x,y)"
   ]
  },
  {
   "cell_type": "code",
   "execution_count": null,
   "id": "50ba8d2c",
   "metadata": {},
   "outputs": [],
   "source": []
  },
  {
   "cell_type": "code",
   "execution_count": null,
   "id": "8416d899",
   "metadata": {},
   "outputs": [],
   "source": []
  },
  {
   "cell_type": "code",
   "execution_count": 73,
   "id": "8cf7993d",
   "metadata": {},
   "outputs": [
    {
     "data": {
      "text/plain": [
       "array([[ 0.02172291,  0.88250738,  1.00999136,  0.61780514,  1.10664229,\n",
       "         1.52654207,  1.55302097,  1.32653351,  0.66609031,  1.26004241,\n",
       "         1.52180597, -0.00876269,  1.37793422,  0.41742025, -0.24314511]])"
      ]
     },
     "execution_count": 73,
     "metadata": {},
     "output_type": "execute_result"
    }
   ],
   "source": [
    "clf_lr.coef_"
   ]
  },
  {
   "cell_type": "code",
   "execution_count": null,
   "id": "c92e9e0b",
   "metadata": {},
   "outputs": [],
   "source": []
  },
  {
   "cell_type": "code",
   "execution_count": 74,
   "id": "b5d57aa0",
   "metadata": {},
   "outputs": [
    {
     "data": {
      "text/plain": [
       "array([-18.47026138])"
      ]
     },
     "execution_count": 74,
     "metadata": {},
     "output_type": "execute_result"
    }
   ],
   "source": [
    "clf_lr.intercept_"
   ]
  },
  {
   "cell_type": "code",
   "execution_count": null,
   "id": "ad1bffa7",
   "metadata": {},
   "outputs": [],
   "source": []
  },
  {
   "cell_type": "code",
   "execution_count": null,
   "id": "543c8830",
   "metadata": {},
   "outputs": [],
   "source": []
  },
  {
   "cell_type": "code",
   "execution_count": null,
   "id": "0e87ff45",
   "metadata": {},
   "outputs": [],
   "source": []
  },
  {
   "cell_type": "code",
   "execution_count": 75,
   "id": "c5a620f1",
   "metadata": {},
   "outputs": [],
   "source": [
    "x_cons=sn.add_constant(x)"
   ]
  },
  {
   "cell_type": "code",
   "execution_count": null,
   "id": "c17eeedf",
   "metadata": {},
   "outputs": [],
   "source": []
  },
  {
   "cell_type": "code",
   "execution_count": 76,
   "id": "e86dc44d",
   "metadata": {},
   "outputs": [
    {
     "data": {
      "text/html": [
       "<div>\n",
       "<style scoped>\n",
       "    .dataframe tbody tr th:only-of-type {\n",
       "        vertical-align: middle;\n",
       "    }\n",
       "\n",
       "    .dataframe tbody tr th {\n",
       "        vertical-align: top;\n",
       "    }\n",
       "\n",
       "    .dataframe thead th {\n",
       "        text-align: right;\n",
       "    }\n",
       "</style>\n",
       "<table border=\"1\" class=\"dataframe\">\n",
       "  <thead>\n",
       "    <tr style=\"text-align: right;\">\n",
       "      <th></th>\n",
       "      <th>const</th>\n",
       "      <th>AGE</th>\n",
       "      <th>SMOKING</th>\n",
       "      <th>YELLOW_FINGERS</th>\n",
       "      <th>ANXIETY</th>\n",
       "      <th>PEER_PRESSURE</th>\n",
       "      <th>CHRONIC DISEASE</th>\n",
       "      <th>FATIGUE</th>\n",
       "      <th>ALLERGY</th>\n",
       "      <th>WHEEZING</th>\n",
       "      <th>ALCOHOL CONSUMING</th>\n",
       "      <th>COUGHING</th>\n",
       "      <th>SHORTNESS OF BREATH</th>\n",
       "      <th>SWALLOWING DIFFICULTY</th>\n",
       "      <th>CHEST PAIN</th>\n",
       "      <th>GENDER_M</th>\n",
       "    </tr>\n",
       "  </thead>\n",
       "  <tbody>\n",
       "    <tr>\n",
       "      <th>0</th>\n",
       "      <td>1.0</td>\n",
       "      <td>69</td>\n",
       "      <td>1</td>\n",
       "      <td>2</td>\n",
       "      <td>2</td>\n",
       "      <td>1</td>\n",
       "      <td>1</td>\n",
       "      <td>2</td>\n",
       "      <td>1</td>\n",
       "      <td>2</td>\n",
       "      <td>2</td>\n",
       "      <td>2</td>\n",
       "      <td>2</td>\n",
       "      <td>2</td>\n",
       "      <td>2</td>\n",
       "      <td>1</td>\n",
       "    </tr>\n",
       "    <tr>\n",
       "      <th>1</th>\n",
       "      <td>1.0</td>\n",
       "      <td>74</td>\n",
       "      <td>2</td>\n",
       "      <td>1</td>\n",
       "      <td>1</td>\n",
       "      <td>1</td>\n",
       "      <td>2</td>\n",
       "      <td>2</td>\n",
       "      <td>2</td>\n",
       "      <td>1</td>\n",
       "      <td>1</td>\n",
       "      <td>1</td>\n",
       "      <td>2</td>\n",
       "      <td>2</td>\n",
       "      <td>2</td>\n",
       "      <td>1</td>\n",
       "    </tr>\n",
       "    <tr>\n",
       "      <th>2</th>\n",
       "      <td>1.0</td>\n",
       "      <td>59</td>\n",
       "      <td>1</td>\n",
       "      <td>1</td>\n",
       "      <td>1</td>\n",
       "      <td>2</td>\n",
       "      <td>1</td>\n",
       "      <td>2</td>\n",
       "      <td>1</td>\n",
       "      <td>2</td>\n",
       "      <td>1</td>\n",
       "      <td>2</td>\n",
       "      <td>2</td>\n",
       "      <td>1</td>\n",
       "      <td>2</td>\n",
       "      <td>0</td>\n",
       "    </tr>\n",
       "    <tr>\n",
       "      <th>3</th>\n",
       "      <td>1.0</td>\n",
       "      <td>63</td>\n",
       "      <td>2</td>\n",
       "      <td>2</td>\n",
       "      <td>2</td>\n",
       "      <td>1</td>\n",
       "      <td>1</td>\n",
       "      <td>1</td>\n",
       "      <td>1</td>\n",
       "      <td>1</td>\n",
       "      <td>2</td>\n",
       "      <td>1</td>\n",
       "      <td>1</td>\n",
       "      <td>2</td>\n",
       "      <td>2</td>\n",
       "      <td>1</td>\n",
       "    </tr>\n",
       "    <tr>\n",
       "      <th>4</th>\n",
       "      <td>1.0</td>\n",
       "      <td>63</td>\n",
       "      <td>1</td>\n",
       "      <td>2</td>\n",
       "      <td>1</td>\n",
       "      <td>1</td>\n",
       "      <td>1</td>\n",
       "      <td>1</td>\n",
       "      <td>1</td>\n",
       "      <td>2</td>\n",
       "      <td>1</td>\n",
       "      <td>2</td>\n",
       "      <td>2</td>\n",
       "      <td>1</td>\n",
       "      <td>1</td>\n",
       "      <td>0</td>\n",
       "    </tr>\n",
       "  </tbody>\n",
       "</table>\n",
       "</div>"
      ],
      "text/plain": [
       "   const  AGE  SMOKING  YELLOW_FINGERS  ANXIETY  PEER_PRESSURE  \\\n",
       "0    1.0   69        1               2        2              1   \n",
       "1    1.0   74        2               1        1              1   \n",
       "2    1.0   59        1               1        1              2   \n",
       "3    1.0   63        2               2        2              1   \n",
       "4    1.0   63        1               2        1              1   \n",
       "\n",
       "   CHRONIC DISEASE  FATIGUE   ALLERGY   WHEEZING  ALCOHOL CONSUMING  COUGHING  \\\n",
       "0                1         2         1         2                  2         2   \n",
       "1                2         2         2         1                  1         1   \n",
       "2                1         2         1         2                  1         2   \n",
       "3                1         1         1         1                  2         1   \n",
       "4                1         1         1         2                  1         2   \n",
       "\n",
       "   SHORTNESS OF BREATH  SWALLOWING DIFFICULTY  CHEST PAIN  GENDER_M  \n",
       "0                    2                      2           2         1  \n",
       "1                    2                      2           2         1  \n",
       "2                    2                      1           2         0  \n",
       "3                    1                      2           2         1  \n",
       "4                    2                      1           1         0  "
      ]
     },
     "execution_count": 76,
     "metadata": {},
     "output_type": "execute_result"
    }
   ],
   "source": [
    "x_cons.head()"
   ]
  },
  {
   "cell_type": "code",
   "execution_count": null,
   "id": "1dc87239",
   "metadata": {},
   "outputs": [],
   "source": []
  },
  {
   "cell_type": "code",
   "execution_count": 77,
   "id": "63e59fde",
   "metadata": {},
   "outputs": [],
   "source": [
    "import statsmodels.discrete.discrete_model as sm"
   ]
  },
  {
   "cell_type": "code",
   "execution_count": null,
   "id": "78d6c1f9",
   "metadata": {},
   "outputs": [],
   "source": []
  },
  {
   "cell_type": "code",
   "execution_count": 78,
   "id": "a2d752a5",
   "metadata": {},
   "outputs": [
    {
     "name": "stdout",
     "output_type": "stream",
     "text": [
      "Optimization terminated successfully.\n",
      "         Current function value: 0.258351\n",
      "         Iterations 8\n"
     ]
    }
   ],
   "source": [
    "logit=sm.Logit(y,x).fit()"
   ]
  },
  {
   "cell_type": "code",
   "execution_count": null,
   "id": "bc0fd8fa",
   "metadata": {},
   "outputs": [],
   "source": []
  },
  {
   "cell_type": "code",
   "execution_count": 79,
   "id": "4a2fbd94",
   "metadata": {},
   "outputs": [
    {
     "data": {
      "text/html": [
       "<table class=\"simpletable\">\n",
       "<caption>Logit Regression Results</caption>\n",
       "<tr>\n",
       "  <th>Dep. Variable:</th>      <td>LUNG_CANCER</td>   <th>  No. Observations:  </th>  <td>   309</td>  \n",
       "</tr>\n",
       "<tr>\n",
       "  <th>Model:</th>                 <td>Logit</td>      <th>  Df Residuals:      </th>  <td>   294</td>  \n",
       "</tr>\n",
       "<tr>\n",
       "  <th>Method:</th>                 <td>MLE</td>       <th>  Df Model:          </th>  <td>    14</td>  \n",
       "</tr>\n",
       "<tr>\n",
       "  <th>Date:</th>            <td>Fri, 02 Jun 2023</td> <th>  Pseudo R-squ.:     </th>  <td>0.3186</td>  \n",
       "</tr>\n",
       "<tr>\n",
       "  <th>Time:</th>                <td>12:43:32</td>     <th>  Log-Likelihood:    </th> <td> -79.830</td> \n",
       "</tr>\n",
       "<tr>\n",
       "  <th>converged:</th>             <td>True</td>       <th>  LL-Null:           </th> <td> -117.15</td> \n",
       "</tr>\n",
       "<tr>\n",
       "  <th>Covariance Type:</th>     <td>nonrobust</td>    <th>  LLR p-value:       </th> <td>2.756e-10</td>\n",
       "</tr>\n",
       "</table>\n",
       "<table class=\"simpletable\">\n",
       "<tr>\n",
       "            <td></td>               <th>coef</th>     <th>std err</th>      <th>z</th>      <th>P>|z|</th>  <th>[0.025</th>    <th>0.975]</th>  \n",
       "</tr>\n",
       "<tr>\n",
       "  <th>AGE</th>                   <td>   -0.1193</td> <td>    0.029</td> <td>   -4.082</td> <td> 0.000</td> <td>   -0.177</td> <td>   -0.062</td>\n",
       "</tr>\n",
       "<tr>\n",
       "  <th>SMOKING</th>               <td>   -0.1344</td> <td>    0.450</td> <td>   -0.299</td> <td> 0.765</td> <td>   -1.016</td> <td>    0.748</td>\n",
       "</tr>\n",
       "<tr>\n",
       "  <th>YELLOW_FINGERS</th>        <td>    0.2809</td> <td>    0.545</td> <td>    0.516</td> <td> 0.606</td> <td>   -0.786</td> <td>    1.348</td>\n",
       "</tr>\n",
       "<tr>\n",
       "  <th>ANXIETY</th>               <td>   -0.0588</td> <td>    0.584</td> <td>   -0.101</td> <td> 0.920</td> <td>   -1.203</td> <td>    1.086</td>\n",
       "</tr>\n",
       "<tr>\n",
       "  <th>PEER_PRESSURE</th>         <td>    0.6660</td> <td>    0.476</td> <td>    1.400</td> <td> 0.161</td> <td>   -0.266</td> <td>    1.598</td>\n",
       "</tr>\n",
       "<tr>\n",
       "  <th>CHRONIC DISEASE</th>       <td>    0.5263</td> <td>    0.476</td> <td>    1.107</td> <td> 0.268</td> <td>   -0.406</td> <td>    1.458</td>\n",
       "</tr>\n",
       "<tr>\n",
       "  <th>FATIGUE </th>              <td>    1.0503</td> <td>    0.502</td> <td>    2.091</td> <td> 0.037</td> <td>    0.066</td> <td>    2.035</td>\n",
       "</tr>\n",
       "<tr>\n",
       "  <th>ALLERGY </th>              <td>    1.6880</td> <td>    0.540</td> <td>    3.125</td> <td> 0.002</td> <td>    0.629</td> <td>    2.747</td>\n",
       "</tr>\n",
       "<tr>\n",
       "  <th>WHEEZING</th>              <td>    0.4213</td> <td>    0.536</td> <td>    0.786</td> <td> 0.432</td> <td>   -0.629</td> <td>    1.472</td>\n",
       "</tr>\n",
       "<tr>\n",
       "  <th>ALCOHOL CONSUMING</th>     <td>    0.9654</td> <td>    0.557</td> <td>    1.733</td> <td> 0.083</td> <td>   -0.127</td> <td>    2.057</td>\n",
       "</tr>\n",
       "<tr>\n",
       "  <th>COUGHING</th>              <td>    1.1750</td> <td>    0.619</td> <td>    1.898</td> <td> 0.058</td> <td>   -0.039</td> <td>    2.389</td>\n",
       "</tr>\n",
       "<tr>\n",
       "  <th>SHORTNESS OF BREATH</th>   <td>   -0.8807</td> <td>    0.578</td> <td>   -1.524</td> <td> 0.128</td> <td>   -2.014</td> <td>    0.252</td>\n",
       "</tr>\n",
       "<tr>\n",
       "  <th>SWALLOWING DIFFICULTY</th> <td>    1.4471</td> <td>    0.595</td> <td>    2.432</td> <td> 0.015</td> <td>    0.281</td> <td>    2.613</td>\n",
       "</tr>\n",
       "<tr>\n",
       "  <th>CHEST PAIN</th>            <td>   -0.1917</td> <td>    0.480</td> <td>   -0.399</td> <td> 0.690</td> <td>   -1.133</td> <td>    0.750</td>\n",
       "</tr>\n",
       "<tr>\n",
       "  <th>GENDER_M</th>              <td>   -0.3800</td> <td>    0.510</td> <td>   -0.745</td> <td> 0.456</td> <td>   -1.380</td> <td>    0.620</td>\n",
       "</tr>\n",
       "</table>"
      ],
      "text/plain": [
       "<class 'statsmodels.iolib.summary.Summary'>\n",
       "\"\"\"\n",
       "                           Logit Regression Results                           \n",
       "==============================================================================\n",
       "Dep. Variable:            LUNG_CANCER   No. Observations:                  309\n",
       "Model:                          Logit   Df Residuals:                      294\n",
       "Method:                           MLE   Df Model:                           14\n",
       "Date:                Fri, 02 Jun 2023   Pseudo R-squ.:                  0.3186\n",
       "Time:                        12:43:32   Log-Likelihood:                -79.830\n",
       "converged:                       True   LL-Null:                       -117.15\n",
       "Covariance Type:            nonrobust   LLR p-value:                 2.756e-10\n",
       "=========================================================================================\n",
       "                            coef    std err          z      P>|z|      [0.025      0.975]\n",
       "-----------------------------------------------------------------------------------------\n",
       "AGE                      -0.1193      0.029     -4.082      0.000      -0.177      -0.062\n",
       "SMOKING                  -0.1344      0.450     -0.299      0.765      -1.016       0.748\n",
       "YELLOW_FINGERS            0.2809      0.545      0.516      0.606      -0.786       1.348\n",
       "ANXIETY                  -0.0588      0.584     -0.101      0.920      -1.203       1.086\n",
       "PEER_PRESSURE             0.6660      0.476      1.400      0.161      -0.266       1.598\n",
       "CHRONIC DISEASE           0.5263      0.476      1.107      0.268      -0.406       1.458\n",
       "FATIGUE                   1.0503      0.502      2.091      0.037       0.066       2.035\n",
       "ALLERGY                   1.6880      0.540      3.125      0.002       0.629       2.747\n",
       "WHEEZING                  0.4213      0.536      0.786      0.432      -0.629       1.472\n",
       "ALCOHOL CONSUMING         0.9654      0.557      1.733      0.083      -0.127       2.057\n",
       "COUGHING                  1.1750      0.619      1.898      0.058      -0.039       2.389\n",
       "SHORTNESS OF BREATH      -0.8807      0.578     -1.524      0.128      -2.014       0.252\n",
       "SWALLOWING DIFFICULTY     1.4471      0.595      2.432      0.015       0.281       2.613\n",
       "CHEST PAIN               -0.1917      0.480     -0.399      0.690      -1.133       0.750\n",
       "GENDER_M                 -0.3800      0.510     -0.745      0.456      -1.380       0.620\n",
       "=========================================================================================\n",
       "\"\"\""
      ]
     },
     "execution_count": 79,
     "metadata": {},
     "output_type": "execute_result"
    }
   ],
   "source": [
    "logit.summary()"
   ]
  },
  {
   "cell_type": "code",
   "execution_count": 80,
   "id": "19c536a5",
   "metadata": {},
   "outputs": [
    {
     "data": {
      "text/plain": [
       "array([[1.14483456e-02, 9.88551654e-01],\n",
       "       [3.81674245e-02, 9.61832576e-01],\n",
       "       [2.09957635e-01, 7.90042365e-01],\n",
       "       [1.85667548e-01, 8.14332452e-01],\n",
       "       [6.58140745e-01, 3.41859255e-01],\n",
       "       [1.77798125e-02, 9.82220188e-01],\n",
       "       [1.22831803e-01, 8.77168197e-01],\n",
       "       [2.27349933e-02, 9.77265007e-01],\n",
       "       [6.64228777e-01, 3.35771223e-01],\n",
       "       [5.37343635e-03, 9.94626564e-01],\n",
       "       [1.71609467e-03, 9.98283905e-01],\n",
       "       [1.24819734e-02, 9.87518027e-01],\n",
       "       [8.14957091e-01, 1.85042909e-01],\n",
       "       [3.15918705e-02, 9.68408129e-01],\n",
       "       [1.07412541e-01, 8.92587459e-01],\n",
       "       [1.46035428e-03, 9.98539646e-01],\n",
       "       [2.26305399e-02, 9.77369460e-01],\n",
       "       [1.83202545e-02, 9.81679745e-01],\n",
       "       [1.12728369e-02, 9.88727163e-01],\n",
       "       [6.93554547e-01, 3.06445453e-01],\n",
       "       [2.16937040e-02, 9.78306296e-01],\n",
       "       [2.17877014e-02, 9.78212299e-01],\n",
       "       [3.72072912e-01, 6.27927088e-01],\n",
       "       [3.02894070e-02, 9.69710593e-01],\n",
       "       [4.00846378e-04, 9.99599154e-01],\n",
       "       [1.24746447e-02, 9.87525355e-01],\n",
       "       [1.04680730e-02, 9.89531927e-01],\n",
       "       [2.14288771e-01, 7.85711229e-01],\n",
       "       [2.44064964e-02, 9.75593504e-01],\n",
       "       [1.49171329e-01, 8.50828671e-01],\n",
       "       [8.90000487e-01, 1.09999513e-01],\n",
       "       [8.08719905e-02, 9.19128009e-01],\n",
       "       [5.89010112e-01, 4.10989888e-01],\n",
       "       [1.12427191e-01, 8.87572809e-01],\n",
       "       [6.79403186e-01, 3.20596814e-01],\n",
       "       [1.86186680e-01, 8.13813320e-01],\n",
       "       [2.72767039e-01, 7.27232961e-01],\n",
       "       [6.06924126e-01, 3.93075874e-01],\n",
       "       [6.80387427e-01, 3.19612573e-01],\n",
       "       [3.08141196e-02, 9.69185880e-01],\n",
       "       [2.68127822e-02, 9.73187218e-01],\n",
       "       [3.90539605e-02, 9.60946039e-01],\n",
       "       [1.47724205e-02, 9.85227579e-01],\n",
       "       [5.32895706e-02, 9.46710429e-01],\n",
       "       [6.73699541e-03, 9.93263005e-01],\n",
       "       [3.22444787e-04, 9.99677555e-01],\n",
       "       [1.89846118e-02, 9.81015388e-01],\n",
       "       [2.54003684e-03, 9.97459963e-01],\n",
       "       [2.12642542e-03, 9.97873575e-01],\n",
       "       [4.11304946e-01, 5.88695054e-01],\n",
       "       [2.06315439e-02, 9.79368456e-01],\n",
       "       [2.97005751e-02, 9.70299425e-01],\n",
       "       [2.30045225e-03, 9.97699548e-01],\n",
       "       [7.17968852e-04, 9.99282031e-01],\n",
       "       [4.82025541e-03, 9.95179745e-01],\n",
       "       [6.82372140e-03, 9.93176279e-01],\n",
       "       [1.47295348e-01, 8.52704652e-01],\n",
       "       [2.78831046e-02, 9.72116895e-01],\n",
       "       [3.86414313e-02, 9.61358569e-01],\n",
       "       [3.23639263e-03, 9.96763607e-01],\n",
       "       [3.97152097e-04, 9.99602848e-01],\n",
       "       [6.81290968e-01, 3.18709032e-01],\n",
       "       [1.08906802e-02, 9.89109320e-01],\n",
       "       [4.56765517e-02, 9.54323448e-01],\n",
       "       [6.66335389e-03, 9.93336646e-01],\n",
       "       [9.02536379e-04, 9.99097464e-01],\n",
       "       [1.76981816e-02, 9.82301818e-01],\n",
       "       [1.35569868e-01, 8.64430132e-01],\n",
       "       [8.82462255e-03, 9.91175377e-01],\n",
       "       [5.43884966e-03, 9.94561150e-01],\n",
       "       [1.76328519e-02, 9.82367148e-01],\n",
       "       [7.04715601e-03, 9.92952844e-01],\n",
       "       [1.38941652e-02, 9.86105835e-01],\n",
       "       [4.89003187e-01, 5.10996813e-01],\n",
       "       [2.96578316e-02, 9.70342168e-01],\n",
       "       [1.88302921e-01, 8.11697079e-01],\n",
       "       [5.24114242e-04, 9.99475886e-01],\n",
       "       [3.29484378e-02, 9.67051562e-01],\n",
       "       [1.47960705e-02, 9.85203929e-01],\n",
       "       [7.75640739e-03, 9.92243593e-01],\n",
       "       [9.17473249e-01, 8.25267509e-02],\n",
       "       [1.75321744e-02, 9.82467826e-01],\n",
       "       [1.78662021e-03, 9.98213380e-01],\n",
       "       [3.62752036e-02, 9.63724796e-01],\n",
       "       [3.36584780e-02, 9.66341522e-01],\n",
       "       [9.17503298e-02, 9.08249670e-01],\n",
       "       [2.53510550e-02, 9.74648945e-01],\n",
       "       [1.77518730e-01, 8.22481270e-01],\n",
       "       [5.96614263e-02, 9.40338574e-01],\n",
       "       [2.24051734e-03, 9.97759483e-01],\n",
       "       [2.76425549e-01, 7.23574451e-01],\n",
       "       [6.49976004e-02, 9.35002400e-01],\n",
       "       [9.15870737e-03, 9.90841293e-01],\n",
       "       [1.54129736e-03, 9.98458703e-01],\n",
       "       [4.30394230e-03, 9.95696058e-01],\n",
       "       [1.26711211e-01, 8.73288789e-01],\n",
       "       [4.14969485e-02, 9.58503052e-01],\n",
       "       [3.57081492e-01, 6.42918508e-01],\n",
       "       [1.15646910e-02, 9.88435309e-01],\n",
       "       [3.29484378e-02, 9.67051562e-01],\n",
       "       [1.88302921e-01, 8.11697079e-01],\n",
       "       [4.70195731e-04, 9.99529804e-01],\n",
       "       [2.78387899e-02, 9.72161210e-01],\n",
       "       [1.64657103e-02, 9.83534290e-01],\n",
       "       [7.92539258e-03, 9.92074607e-01],\n",
       "       [6.98151951e-01, 3.01848049e-01],\n",
       "       [1.50963584e-02, 9.84903642e-01],\n",
       "       [1.86580423e-03, 9.98134196e-01],\n",
       "       [7.01401741e-02, 9.29859826e-01],\n",
       "       [1.45507806e-01, 8.54492194e-01],\n",
       "       [1.44936690e-02, 9.85506331e-01],\n",
       "       [1.33110941e-02, 9.86688906e-01],\n",
       "       [1.79360374e-01, 8.20639626e-01],\n",
       "       [1.95723170e-01, 8.04276830e-01],\n",
       "       [8.67840197e-02, 9.13215980e-01],\n",
       "       [1.89543956e-02, 9.81045604e-01],\n",
       "       [1.11600364e-01, 8.88399636e-01],\n",
       "       [2.27349933e-02, 9.77265007e-01],\n",
       "       [9.12668566e-03, 9.90873314e-01],\n",
       "       [4.22831247e-02, 9.57716875e-01],\n",
       "       [7.07655762e-03, 9.92923442e-01],\n",
       "       [1.48159239e-02, 9.85184076e-01],\n",
       "       [4.12537420e-01, 5.87462580e-01],\n",
       "       [1.39063871e-03, 9.98609361e-01],\n",
       "       [1.86474896e-01, 8.13525104e-01],\n",
       "       [1.00288999e-02, 9.89971100e-01],\n",
       "       [1.25191561e-01, 8.74808439e-01],\n",
       "       [1.79336367e-02, 9.82066363e-01],\n",
       "       [1.61717504e-02, 9.83828250e-01],\n",
       "       [6.84243887e-01, 3.15756113e-01],\n",
       "       [8.05928550e-02, 9.19407145e-01],\n",
       "       [2.32207972e-02, 9.76779203e-01],\n",
       "       [1.99048677e-01, 8.00951323e-01],\n",
       "       [2.15885704e-02, 9.78411430e-01],\n",
       "       [1.23781846e-03, 9.98762182e-01],\n",
       "       [4.60455824e-02, 9.53954418e-01],\n",
       "       [1.41569996e-01, 8.58430004e-01],\n",
       "       [2.21694467e-01, 7.78305533e-01],\n",
       "       [2.38945651e-02, 9.76105435e-01],\n",
       "       [1.28431521e-01, 8.71568479e-01],\n",
       "       [4.52924761e-03, 9.95470752e-01],\n",
       "       [5.72746392e-02, 9.42725361e-01],\n",
       "       [2.14189357e-02, 9.78581064e-01],\n",
       "       [2.87676537e-04, 9.99712323e-01],\n",
       "       [4.51828470e-02, 9.54817153e-01],\n",
       "       [7.20080120e-03, 9.92799199e-01],\n",
       "       [7.21236800e-03, 9.92787632e-01],\n",
       "       [1.28558109e-02, 9.87144189e-01],\n",
       "       [2.45202820e-02, 9.75479718e-01],\n",
       "       [1.32561778e-01, 8.67438222e-01],\n",
       "       [2.73854811e-02, 9.72614519e-01],\n",
       "       [3.98774071e-02, 9.60122593e-01],\n",
       "       [1.57515132e-02, 9.84248487e-01],\n",
       "       [8.24968949e-01, 1.75031051e-01],\n",
       "       [3.31089538e-01, 6.68910462e-01],\n",
       "       [1.50039193e-01, 8.49960807e-01],\n",
       "       [6.45289093e-01, 3.54710907e-01],\n",
       "       [6.35971329e-01, 3.64028671e-01],\n",
       "       [2.88004995e-03, 9.97119950e-01],\n",
       "       [3.69967388e-01, 6.30032612e-01],\n",
       "       [2.10750757e-02, 9.78924924e-01],\n",
       "       [3.03330323e-02, 9.69666968e-01],\n",
       "       [1.52371069e-03, 9.98476289e-01],\n",
       "       [4.75294041e-04, 9.99524706e-01],\n",
       "       [3.26537842e-03, 9.96734622e-01],\n",
       "       [5.38116207e-03, 9.94618838e-01],\n",
       "       [1.52836152e-01, 8.47163848e-01],\n",
       "       [3.51447422e-02, 9.64855258e-01],\n",
       "       [4.11364707e-02, 9.58863529e-01],\n",
       "       [4.28791973e-03, 9.95712080e-01],\n",
       "       [5.62123116e-04, 9.99437877e-01],\n",
       "       [6.95271174e-01, 3.04728826e-01],\n",
       "       [1.47046644e-02, 9.85295336e-01],\n",
       "       [4.47389359e-02, 9.55261064e-01],\n",
       "       [6.95717110e-03, 9.93042829e-01],\n",
       "       [1.17100217e-03, 9.98828998e-01],\n",
       "       [1.31180989e-02, 9.86881901e-01],\n",
       "       [1.40742397e-01, 8.59257603e-01],\n",
       "       [1.21824460e-02, 9.87817554e-01],\n",
       "       [6.19131925e-03, 9.93808681e-01],\n",
       "       [1.96162302e-02, 9.80383770e-01],\n",
       "       [5.92965258e-03, 9.94070347e-01],\n",
       "       [1.27525891e-02, 9.87247411e-01],\n",
       "       [4.29731576e-01, 5.70268424e-01],\n",
       "       [2.35022890e-02, 9.76497711e-01],\n",
       "       [1.33101417e-01, 8.66898583e-01],\n",
       "       [1.02904273e-01, 8.97095727e-01],\n",
       "       [8.61230119e-01, 1.38769881e-01],\n",
       "       [2.49806546e-01, 7.50193454e-01],\n",
       "       [1.95806317e-01, 8.04193683e-01],\n",
       "       [6.53451180e-01, 3.46548820e-01],\n",
       "       [6.42491206e-02, 9.35750879e-01],\n",
       "       [2.61406966e-01, 7.38593034e-01],\n",
       "       [7.66604641e-01, 2.33395359e-01],\n",
       "       [2.90484135e-02, 9.70951586e-01],\n",
       "       [7.67069439e-02, 9.23293056e-01],\n",
       "       [2.64469578e-02, 9.73553042e-01],\n",
       "       [1.87234492e-01, 8.12765508e-01],\n",
       "       [4.75839539e-02, 9.52416046e-01],\n",
       "       [2.24051734e-03, 9.97759483e-01],\n",
       "       [2.72101821e-01, 7.27898179e-01],\n",
       "       [8.11184574e-02, 9.18881543e-01],\n",
       "       [5.69897640e-03, 9.94301024e-01],\n",
       "       [1.35320437e-03, 9.98646796e-01],\n",
       "       [2.19950513e-03, 9.97800495e-01],\n",
       "       [1.21981148e-01, 8.78018852e-01],\n",
       "       [3.36672725e-02, 9.66332727e-01],\n",
       "       [6.42239336e-01, 3.57760664e-01],\n",
       "       [1.08429785e-02, 9.89157021e-01],\n",
       "       [3.36476581e-02, 9.66352342e-01],\n",
       "       [2.01944762e-01, 7.98055238e-01],\n",
       "       [5.12857500e-04, 9.99487142e-01],\n",
       "       [3.15918705e-02, 9.68408129e-01],\n",
       "       [1.57767056e-02, 9.84223294e-01],\n",
       "       [1.00431116e-02, 9.89956888e-01],\n",
       "       [6.88918321e-01, 3.11081679e-01],\n",
       "       [1.32760619e-02, 9.86723938e-01],\n",
       "       [2.03483448e-03, 9.97965166e-01],\n",
       "       [4.56198427e-02, 9.54380157e-01],\n",
       "       [2.50534005e-02, 9.74946600e-01],\n",
       "       [2.81833593e-03, 9.97181664e-01],\n",
       "       [4.06055429e-01, 5.93944571e-01],\n",
       "       [1.31737476e-02, 9.86826252e-01],\n",
       "       [2.97005751e-02, 9.70299425e-01],\n",
       "       [1.93419160e-03, 9.98065808e-01],\n",
       "       [5.77863248e-04, 9.99422137e-01],\n",
       "       [3.63866062e-03, 9.96361339e-01],\n",
       "       [4.52663943e-03, 9.95473361e-01],\n",
       "       [1.67435415e-01, 8.32564585e-01],\n",
       "       [3.90196534e-02, 9.60980347e-01],\n",
       "       [2.00861776e-02, 9.79913822e-01],\n",
       "       [3.60637330e-03, 9.96393627e-01],\n",
       "       [4.72495044e-04, 9.99527505e-01],\n",
       "       [7.30795621e-01, 2.69204379e-01],\n",
       "       [9.36879472e-03, 9.90631205e-01],\n",
       "       [4.96172648e-02, 9.50382735e-01],\n",
       "       [8.44671877e-03, 9.91553281e-01],\n",
       "       [1.30517896e-03, 9.98694821e-01],\n",
       "       [2.59466324e-02, 9.74053368e-01],\n",
       "       [1.72366043e-02, 9.82763396e-01],\n",
       "       [2.42067391e-01, 7.57932609e-01],\n",
       "       [3.09340033e-02, 9.69065997e-01],\n",
       "       [1.72650491e-02, 9.82734951e-01],\n",
       "       [1.23247706e-02, 9.87675229e-01],\n",
       "       [1.21735816e-01, 8.78264184e-01],\n",
       "       [6.08204290e-01, 3.91795710e-01],\n",
       "       [1.66392920e-02, 9.83360708e-01],\n",
       "       [1.19015086e-01, 8.80984914e-01],\n",
       "       [3.13511482e-03, 9.96864885e-01],\n",
       "       [7.16129261e-01, 2.83870739e-01],\n",
       "       [1.96714407e-02, 9.80328559e-01],\n",
       "       [2.81496491e-04, 9.99718504e-01],\n",
       "       [1.13319794e-02, 9.88668021e-01],\n",
       "       [6.89676640e-03, 9.93103234e-01],\n",
       "       [4.38860127e-03, 9.95611399e-01],\n",
       "       [8.18525980e-03, 9.91814740e-01],\n",
       "       [3.02894070e-02, 9.69710593e-01],\n",
       "       [1.18278629e-01, 8.81721371e-01],\n",
       "       [2.57021207e-02, 9.74297879e-01],\n",
       "       [4.33405249e-02, 9.56659475e-01],\n",
       "       [2.16873906e-02, 9.78312609e-01],\n",
       "       [6.94702947e-02, 9.30529705e-01],\n",
       "       [6.38331117e-01, 3.61668883e-01],\n",
       "       [1.93625854e-02, 9.80637415e-01],\n",
       "       [8.65192598e-02, 9.13480740e-01],\n",
       "       [1.87734673e-02, 9.81226533e-01],\n",
       "       [7.24040750e-01, 2.75959250e-01],\n",
       "       [4.61894123e-03, 9.95381059e-01],\n",
       "       [1.95453004e-03, 9.98045470e-01],\n",
       "       [1.79576233e-02, 9.82042377e-01],\n",
       "       [7.79940314e-01, 2.20059686e-01],\n",
       "       [2.84327632e-02, 9.71567237e-01],\n",
       "       [1.18278629e-01, 8.81721371e-01],\n",
       "       [1.15031688e-03, 9.98849683e-01],\n",
       "       [3.38026449e-02, 9.66197355e-01],\n",
       "       [1.57767056e-02, 9.84223294e-01],\n",
       "       [1.28220379e-02, 9.87177962e-01],\n",
       "       [5.62667321e-01, 4.37332679e-01],\n",
       "       [1.07116185e-02, 9.89288381e-01],\n",
       "       [2.42268999e-02, 9.75773100e-01],\n",
       "       [2.06065818e-01, 7.93934182e-01],\n",
       "       [5.22573055e-01, 4.77426945e-01],\n",
       "       [7.37580007e-01, 2.62419993e-01],\n",
       "       [1.38860189e-02, 9.86113981e-01],\n",
       "       [1.79336367e-02, 9.82066363e-01],\n",
       "       [1.61717504e-02, 9.83828250e-01],\n",
       "       [6.84243887e-01, 3.15756113e-01],\n",
       "       [8.05928550e-02, 9.19407145e-01],\n",
       "       [2.32207972e-02, 9.76779203e-01],\n",
       "       [1.99048677e-01, 8.00951323e-01],\n",
       "       [2.15885704e-02, 9.78411430e-01],\n",
       "       [1.23781846e-03, 9.98762182e-01],\n",
       "       [4.60455824e-02, 9.53954418e-01],\n",
       "       [1.41569996e-01, 8.58430004e-01],\n",
       "       [2.21694467e-01, 7.78305533e-01],\n",
       "       [2.38945651e-02, 9.76105435e-01],\n",
       "       [1.28431521e-01, 8.71568479e-01],\n",
       "       [4.52924761e-03, 9.95470752e-01],\n",
       "       [5.72746392e-02, 9.42725361e-01],\n",
       "       [2.14189357e-02, 9.78581064e-01],\n",
       "       [2.87676537e-04, 9.99712323e-01],\n",
       "       [4.51828470e-02, 9.54817153e-01],\n",
       "       [7.20080120e-03, 9.92799199e-01],\n",
       "       [7.21236800e-03, 9.92787632e-01],\n",
       "       [1.28558109e-02, 9.87144189e-01],\n",
       "       [2.45202820e-02, 9.75479718e-01],\n",
       "       [1.32561778e-01, 8.67438222e-01],\n",
       "       [2.73854811e-02, 9.72614519e-01],\n",
       "       [3.98774071e-02, 9.60122593e-01]])"
      ]
     },
     "execution_count": 80,
     "metadata": {},
     "output_type": "execute_result"
    }
   ],
   "source": [
    "clf_lr.predict_proba(x)"
   ]
  },
  {
   "cell_type": "code",
   "execution_count": 81,
   "id": "23765314",
   "metadata": {},
   "outputs": [],
   "source": [
    "y_pred =clf_lr.predict(x)"
   ]
  },
  {
   "cell_type": "code",
   "execution_count": 82,
   "id": "f484862f",
   "metadata": {},
   "outputs": [
    {
     "data": {
      "text/plain": [
       "array([1, 1, 1, 1, 0, 1, 1, 1, 0, 1, 1, 1, 0, 1, 1, 1, 1, 1, 1, 0, 1, 1,\n",
       "       1, 1, 1, 1, 1, 1, 1, 1, 0, 1, 0, 1, 0, 1, 1, 0, 0, 1, 1, 1, 1, 1,\n",
       "       1, 1, 1, 1, 1, 1, 1, 1, 1, 1, 1, 1, 1, 1, 1, 1, 1, 0, 1, 1, 1, 1,\n",
       "       1, 1, 1, 1, 1, 1, 1, 1, 1, 1, 1, 1, 1, 1, 0, 1, 1, 1, 1, 1, 1, 1,\n",
       "       1, 1, 1, 1, 1, 1, 1, 1, 1, 1, 1, 1, 1, 1, 1, 1, 1, 0, 1, 1, 1, 1,\n",
       "       1, 1, 1, 1, 1, 1, 1, 1, 1, 1, 1, 1, 1, 1, 1, 1, 1, 1, 1, 0, 1, 1,\n",
       "       1, 1, 1, 1, 1, 1, 1, 1, 1, 1, 1, 1, 1, 1, 1, 1, 1, 1, 1, 1, 1, 0,\n",
       "       1, 1, 0, 0, 1, 1, 1, 1, 1, 1, 1, 1, 1, 1, 1, 1, 1, 0, 1, 1, 1, 1,\n",
       "       1, 1, 1, 1, 1, 1, 1, 1, 1, 1, 1, 0, 1, 1, 0, 1, 1, 0, 1, 1, 1, 1,\n",
       "       1, 1, 1, 1, 1, 1, 1, 1, 1, 0, 1, 1, 1, 1, 1, 1, 1, 0, 1, 1, 1, 1,\n",
       "       1, 1, 1, 1, 1, 1, 1, 1, 1, 1, 1, 1, 1, 0, 1, 1, 1, 1, 1, 1, 1, 1,\n",
       "       1, 1, 1, 0, 1, 1, 1, 0, 1, 1, 1, 1, 1, 1, 1, 1, 1, 1, 1, 1, 0, 1,\n",
       "       1, 1, 0, 1, 1, 1, 0, 1, 1, 1, 1, 1, 1, 0, 1, 1, 1, 0, 0, 1, 1, 1,\n",
       "       0, 1, 1, 1, 1, 1, 1, 1, 1, 1, 1, 1, 1, 1, 1, 1, 1, 1, 1, 1, 1, 1,\n",
       "       1], dtype=int64)"
      ]
     },
     "execution_count": 82,
     "metadata": {},
     "output_type": "execute_result"
    }
   ],
   "source": [
    "y_pred"
   ]
  },
  {
   "cell_type": "code",
   "execution_count": 83,
   "id": "b7513440",
   "metadata": {},
   "outputs": [],
   "source": [
    "y_pred_03=(clf_lr.predict_proba(x)[:,1]>0.3)"
   ]
  },
  {
   "cell_type": "code",
   "execution_count": 84,
   "id": "9e3efba8",
   "metadata": {},
   "outputs": [
    {
     "data": {
      "text/plain": [
       "array([ True,  True,  True,  True,  True,  True,  True,  True,  True,\n",
       "        True,  True,  True, False,  True,  True,  True,  True,  True,\n",
       "        True,  True,  True,  True,  True,  True,  True,  True,  True,\n",
       "        True,  True,  True, False,  True,  True,  True,  True,  True,\n",
       "        True,  True,  True,  True,  True,  True,  True,  True,  True,\n",
       "        True,  True,  True,  True,  True,  True,  True,  True,  True,\n",
       "        True,  True,  True,  True,  True,  True,  True,  True,  True,\n",
       "        True,  True,  True,  True,  True,  True,  True,  True,  True,\n",
       "        True,  True,  True,  True,  True,  True,  True,  True, False,\n",
       "        True,  True,  True,  True,  True,  True,  True,  True,  True,\n",
       "        True,  True,  True,  True,  True,  True,  True,  True,  True,\n",
       "        True,  True,  True,  True,  True,  True,  True,  True,  True,\n",
       "        True,  True,  True,  True,  True,  True,  True,  True,  True,\n",
       "        True,  True,  True,  True,  True,  True,  True,  True,  True,\n",
       "        True,  True,  True,  True,  True,  True,  True,  True,  True,\n",
       "        True,  True,  True,  True,  True,  True,  True,  True,  True,\n",
       "        True,  True,  True,  True,  True,  True,  True,  True,  True,\n",
       "       False,  True,  True,  True,  True,  True,  True,  True,  True,\n",
       "        True,  True,  True,  True,  True,  True,  True,  True,  True,\n",
       "        True,  True,  True,  True,  True,  True,  True,  True,  True,\n",
       "        True,  True,  True,  True,  True,  True,  True, False,  True,\n",
       "        True,  True,  True,  True, False,  True,  True,  True,  True,\n",
       "        True,  True,  True,  True,  True,  True,  True,  True,  True,\n",
       "        True,  True,  True,  True,  True,  True,  True,  True,  True,\n",
       "        True,  True,  True,  True,  True,  True,  True,  True,  True,\n",
       "        True,  True,  True,  True,  True,  True,  True,  True, False,\n",
       "        True,  True,  True,  True,  True,  True,  True,  True,  True,\n",
       "        True,  True,  True,  True,  True,  True, False,  True,  True,\n",
       "        True,  True,  True,  True,  True,  True,  True,  True,  True,\n",
       "        True,  True,  True,  True,  True, False,  True,  True,  True,\n",
       "       False,  True,  True,  True,  True,  True,  True,  True,  True,\n",
       "        True,  True,  True, False,  True,  True,  True,  True,  True,\n",
       "        True,  True,  True,  True,  True,  True,  True,  True,  True,\n",
       "        True,  True,  True,  True,  True,  True,  True,  True,  True,\n",
       "        True,  True,  True])"
      ]
     },
     "execution_count": 84,
     "metadata": {},
     "output_type": "execute_result"
    }
   ],
   "source": [
    "y_pred_03"
   ]
  },
  {
   "cell_type": "code",
   "execution_count": 85,
   "id": "5ec2828b",
   "metadata": {},
   "outputs": [
    {
     "data": {
      "text/plain": [
       "array([[ 26,  13],\n",
       "       [  6, 264]], dtype=int64)"
      ]
     },
     "execution_count": 85,
     "metadata": {},
     "output_type": "execute_result"
    }
   ],
   "source": [
    "from sklearn.metrics import confusion_matrix\n",
    "confusion_matrix(y,y_pred)"
   ]
  },
  {
   "cell_type": "code",
   "execution_count": 86,
   "id": "12840494",
   "metadata": {},
   "outputs": [
    {
     "data": {
      "text/plain": [
       "array([[  8,  31],\n",
       "       [  3, 267]], dtype=int64)"
      ]
     },
     "execution_count": 86,
     "metadata": {},
     "output_type": "execute_result"
    }
   ],
   "source": [
    "confusion_matrix(y,y_pred_03)"
   ]
  },
  {
   "cell_type": "code",
   "execution_count": 87,
   "id": "b72c3e38",
   "metadata": {},
   "outputs": [],
   "source": [
    "from sklearn.metrics import precision_score,recall_score"
   ]
  },
  {
   "cell_type": "code",
   "execution_count": 88,
   "id": "104d675b",
   "metadata": {},
   "outputs": [
    {
     "data": {
      "text/plain": [
       "0.9530685920577617"
      ]
     },
     "execution_count": 88,
     "metadata": {},
     "output_type": "execute_result"
    }
   ],
   "source": [
    "precision_score(y,y_pred)"
   ]
  },
  {
   "cell_type": "code",
   "execution_count": 89,
   "id": "bdd1d201",
   "metadata": {},
   "outputs": [
    {
     "data": {
      "text/plain": [
       "0.9777777777777777"
      ]
     },
     "execution_count": 89,
     "metadata": {},
     "output_type": "execute_result"
    }
   ],
   "source": [
    "recall_score(y,y_pred)"
   ]
  },
  {
   "cell_type": "code",
   "execution_count": 90,
   "id": "56549088",
   "metadata": {},
   "outputs": [],
   "source": [
    "from sklearn.metrics import roc_auc_score"
   ]
  },
  {
   "cell_type": "code",
   "execution_count": 91,
   "id": "9eddbea8",
   "metadata": {},
   "outputs": [
    {
     "data": {
      "text/plain": [
       "0.8222222222222223"
      ]
     },
     "execution_count": 91,
     "metadata": {},
     "output_type": "execute_result"
    }
   ],
   "source": [
    "roc_auc_score(y,y_pred)"
   ]
  },
  {
   "cell_type": "code",
   "execution_count": 92,
   "id": "8e0c708d",
   "metadata": {},
   "outputs": [],
   "source": [
    "from sklearn.discriminant_analysis import LinearDiscriminantAnalysis"
   ]
  },
  {
   "cell_type": "code",
   "execution_count": 93,
   "id": "45ce7af0",
   "metadata": {},
   "outputs": [
    {
     "data": {
      "text/plain": [
       "LinearDiscriminantAnalysis()"
      ]
     },
     "execution_count": 93,
     "metadata": {},
     "output_type": "execute_result"
    }
   ],
   "source": [
    "clf_lda = LinearDiscriminantAnalysis()\n",
    "clf_lda.fit(x,y)"
   ]
  },
  {
   "cell_type": "code",
   "execution_count": 94,
   "id": "4fe96a8a",
   "metadata": {},
   "outputs": [],
   "source": [
    "y_pred_lda= clf_lda.predict(x)"
   ]
  },
  {
   "cell_type": "code",
   "execution_count": 95,
   "id": "b9d3111c",
   "metadata": {},
   "outputs": [
    {
     "data": {
      "text/plain": [
       "array([[ 28,  11],\n",
       "       [  9, 261]], dtype=int64)"
      ]
     },
     "execution_count": 95,
     "metadata": {},
     "output_type": "execute_result"
    }
   ],
   "source": [
    "confusion_matrix(y,y_pred_lda)"
   ]
  },
  {
   "cell_type": "code",
   "execution_count": 96,
   "id": "b3e4d3e4",
   "metadata": {},
   "outputs": [],
   "source": [
    "from sklearn.model_selection import train_test_split"
   ]
  },
  {
   "cell_type": "code",
   "execution_count": 97,
   "id": "c82ed31c",
   "metadata": {},
   "outputs": [],
   "source": [
    "x_train,x_test,y_train,y_test=train_test_split(x_multi,y_multi,test_size=0.2,random_state=0)"
   ]
  },
  {
   "cell_type": "code",
   "execution_count": 98,
   "id": "1e58a1b5",
   "metadata": {},
   "outputs": [
    {
     "name": "stdout",
     "output_type": "stream",
     "text": [
      "(247, 15) (62, 15) (62,) (247,)\n"
     ]
    }
   ],
   "source": [
    "print(x_train.shape,x_test.shape,y_test.shape,y_train.shape)"
   ]
  },
  {
   "cell_type": "code",
   "execution_count": 99,
   "id": "88f321f6",
   "metadata": {},
   "outputs": [],
   "source": [
    "ln_a=LinearRegression()"
   ]
  },
  {
   "cell_type": "code",
   "execution_count": 100,
   "id": "9b47fb5d",
   "metadata": {},
   "outputs": [
    {
     "data": {
      "text/plain": [
       "LinearRegression()"
      ]
     },
     "execution_count": 100,
     "metadata": {},
     "output_type": "execute_result"
    }
   ],
   "source": [
    "ln_a.fit(x_train,y_train)"
   ]
  },
  {
   "cell_type": "code",
   "execution_count": 101,
   "id": "4bc90b09",
   "metadata": {},
   "outputs": [],
   "source": [
    "y_test_a=ln_a.predict(x_test)"
   ]
  },
  {
   "cell_type": "code",
   "execution_count": 102,
   "id": "e9539d02",
   "metadata": {},
   "outputs": [],
   "source": [
    "y_train_a=ln_a.predict(x_train)"
   ]
  },
  {
   "cell_type": "code",
   "execution_count": 103,
   "id": "c8f8c888",
   "metadata": {},
   "outputs": [],
   "source": [
    "from sklearn.metrics import r2_score"
   ]
  },
  {
   "cell_type": "code",
   "execution_count": 104,
   "id": "404be6c2",
   "metadata": {},
   "outputs": [
    {
     "data": {
      "text/plain": [
       "0.3934695663951797"
      ]
     },
     "execution_count": 104,
     "metadata": {},
     "output_type": "execute_result"
    }
   ],
   "source": [
    "r2_score(y_test,y_test_a)"
   ]
  },
  {
   "cell_type": "code",
   "execution_count": 105,
   "id": "2777977e",
   "metadata": {},
   "outputs": [
    {
     "data": {
      "text/plain": [
       "0.3790790963256525"
      ]
     },
     "execution_count": 105,
     "metadata": {},
     "output_type": "execute_result"
    }
   ],
   "source": [
    "r2_score(y_train,y_train_a)"
   ]
  },
  {
   "cell_type": "code",
   "execution_count": null,
   "id": "d16e7a8a",
   "metadata": {},
   "outputs": [],
   "source": []
  },
  {
   "cell_type": "code",
   "execution_count": 124,
   "id": "90c355f5",
   "metadata": {},
   "outputs": [
    {
     "data": {
      "text/plain": [
       "array([[-1.48758009,  0.88146379,  0.85990501, ...,  1.06269015,\n",
       "        -1.12519112, -1.02875329],\n",
       "       [ 1.14051184,  0.88146379,  0.85990501, ...,  1.06269015,\n",
       "         0.88873791,  0.97205035],\n",
       "       [-0.48640221,  0.88146379, -1.16291915, ..., -0.94100807,\n",
       "        -1.12519112,  0.97205035],\n",
       "       ...,\n",
       "       [-1.48758009,  0.88146379,  0.85990501, ...,  1.06269015,\n",
       "        -1.12519112, -1.02875329],\n",
       "       [ 0.13933397,  0.88146379,  0.85990501, ...,  1.06269015,\n",
       "         0.88873791, -1.02875329],\n",
       "       [-0.86184391, -1.13447655,  0.85990501, ..., -0.94100807,\n",
       "        -1.12519112,  0.97205035]])"
      ]
     },
     "execution_count": 124,
     "metadata": {},
     "output_type": "execute_result"
    }
   ],
   "source": [
    "x_train_z"
   ]
  },
  {
   "cell_type": "code",
   "execution_count": null,
   "id": "0bd66117",
   "metadata": {},
   "outputs": [],
   "source": []
  },
  {
   "cell_type": "code",
   "execution_count": null,
   "id": "bde424a4",
   "metadata": {},
   "outputs": [],
   "source": []
  },
  {
   "cell_type": "code",
   "execution_count": null,
   "id": "efbb2517",
   "metadata": {},
   "outputs": [],
   "source": []
  },
  {
   "cell_type": "code",
   "execution_count": 107,
   "id": "02a0d8ab",
   "metadata": {},
   "outputs": [],
   "source": [
    "from sklearn import preprocessing\n"
   ]
  },
  {
   "cell_type": "code",
   "execution_count": 108,
   "id": "419726a6",
   "metadata": {},
   "outputs": [],
   "source": [
    "from sklearn.preprocessing import StandardScaler"
   ]
  },
  {
   "cell_type": "code",
   "execution_count": null,
   "id": "265f9d2e",
   "metadata": {},
   "outputs": [],
   "source": []
  },
  {
   "cell_type": "code",
   "execution_count": 109,
   "id": "55e1a57c",
   "metadata": {},
   "outputs": [],
   "source": [
    "scaler=preprocessing.StandardScaler().fit(x_train)\n",
    "x_train_z=scaler.transform(x_train)"
   ]
  },
  {
   "cell_type": "code",
   "execution_count": null,
   "id": "b9a7d488",
   "metadata": {},
   "outputs": [],
   "source": []
  },
  {
   "cell_type": "code",
   "execution_count": null,
   "id": "d8d45995",
   "metadata": {},
   "outputs": [],
   "source": []
  },
  {
   "cell_type": "code",
   "execution_count": 110,
   "id": "7e5f54eb",
   "metadata": {},
   "outputs": [],
   "source": [
    "scaler=preprocessing.StandardScaler().fit(x_test)\n",
    "x_test_z=scaler.transform(x_test)"
   ]
  },
  {
   "cell_type": "code",
   "execution_count": null,
   "id": "f76e10f9",
   "metadata": {},
   "outputs": [],
   "source": []
  },
  {
   "cell_type": "code",
   "execution_count": 125,
   "id": "b2f9a758",
   "metadata": {},
   "outputs": [
    {
     "data": {
      "text/plain": [
       "KNeighborsClassifier(n_neighbors=3)"
      ]
     },
     "execution_count": 125,
     "metadata": {},
     "output_type": "execute_result"
    }
   ],
   "source": [
    "from sklearn.neighbors import KNeighborsClassifier\n",
    "clf_knn_1=KNeighborsClassifier(n_neighbors=3 )\n",
    "clf_knn_1.fit(x_train_z,y_train)\n",
    "\n"
   ]
  },
  {
   "cell_type": "code",
   "execution_count": null,
   "id": "1b894f04",
   "metadata": {},
   "outputs": [],
   "source": []
  },
  {
   "cell_type": "code",
   "execution_count": null,
   "id": "ff7b2c55",
   "metadata": {},
   "outputs": [],
   "source": []
  },
  {
   "cell_type": "code",
   "execution_count": null,
   "id": "2d43f746",
   "metadata": {},
   "outputs": [],
   "source": []
  },
  {
   "cell_type": "code",
   "execution_count": 126,
   "id": "0767aed4",
   "metadata": {},
   "outputs": [
    {
     "name": "stderr",
     "output_type": "stream",
     "text": [
      "C:\\Users\\LENOVO\\anaconda3\\lib\\site-packages\\sklearn\\neighbors\\_classification.py:228: FutureWarning: Unlike other reduction functions (e.g. `skew`, `kurtosis`), the default behavior of `mode` typically preserves the axis it acts along. In SciPy 1.11.0, this behavior will change: the default value of `keepdims` will become False, the `axis` over which the statistic is taken will be eliminated, and the value None will no longer be accepted. Set `keepdims` to True or False to avoid this warning.\n",
      "  mode, _ = stats.mode(_y[neigh_ind, k], axis=1)\n"
     ]
    },
    {
     "data": {
      "text/plain": [
       "array([[ 4,  6],\n",
       "       [ 1, 51]], dtype=int64)"
      ]
     },
     "execution_count": 126,
     "metadata": {},
     "output_type": "execute_result"
    }
   ],
   "source": [
    "confusion_matrix(y_test,clf_knn_1.predict(x_test_z))"
   ]
  },
  {
   "cell_type": "code",
   "execution_count": null,
   "id": "4b4a5382",
   "metadata": {},
   "outputs": [],
   "source": []
  },
  {
   "cell_type": "code",
   "execution_count": null,
   "id": "c59876b8",
   "metadata": {},
   "outputs": [],
   "source": []
  },
  {
   "cell_type": "code",
   "execution_count": 127,
   "id": "f96cafb5",
   "metadata": {},
   "outputs": [],
   "source": [
    "from sklearn.metrics import accuracy_score\n"
   ]
  },
  {
   "cell_type": "code",
   "execution_count": null,
   "id": "59fa0690",
   "metadata": {},
   "outputs": [],
   "source": []
  },
  {
   "cell_type": "code",
   "execution_count": null,
   "id": "d659a8bb",
   "metadata": {},
   "outputs": [],
   "source": []
  },
  {
   "cell_type": "code",
   "execution_count": null,
   "id": "ab82126a",
   "metadata": {},
   "outputs": [],
   "source": []
  },
  {
   "cell_type": "code",
   "execution_count": 128,
   "id": "2fa078b2",
   "metadata": {},
   "outputs": [
    {
     "name": "stderr",
     "output_type": "stream",
     "text": [
      "C:\\Users\\LENOVO\\anaconda3\\lib\\site-packages\\sklearn\\neighbors\\_classification.py:228: FutureWarning: Unlike other reduction functions (e.g. `skew`, `kurtosis`), the default behavior of `mode` typically preserves the axis it acts along. In SciPy 1.11.0, this behavior will change: the default value of `keepdims` will become False, the `axis` over which the statistic is taken will be eliminated, and the value None will no longer be accepted. Set `keepdims` to True or False to avoid this warning.\n",
      "  mode, _ = stats.mode(_y[neigh_ind, k], axis=1)\n"
     ]
    },
    {
     "data": {
      "text/plain": [
       "0.8870967741935484"
      ]
     },
     "execution_count": 128,
     "metadata": {},
     "output_type": "execute_result"
    }
   ],
   "source": [
    "accuracy_score(y_test, clf_knn_1.predict(x_test_z))"
   ]
  },
  {
   "cell_type": "code",
   "execution_count": null,
   "id": "a9107838",
   "metadata": {},
   "outputs": [],
   "source": []
  },
  {
   "cell_type": "code",
   "execution_count": 129,
   "id": "3b1c22a9",
   "metadata": {},
   "outputs": [],
   "source": [
    "from sklearn.model_selection import GridSearchCV"
   ]
  },
  {
   "cell_type": "code",
   "execution_count": null,
   "id": "e00a7d88",
   "metadata": {},
   "outputs": [],
   "source": []
  },
  {
   "cell_type": "code",
   "execution_count": 130,
   "id": "b11ac961",
   "metadata": {},
   "outputs": [],
   "source": [
    "params={'n_neighbors': [1,2,3,4,5,6,7,8,9,10]}"
   ]
  },
  {
   "cell_type": "code",
   "execution_count": null,
   "id": "ae26877f",
   "metadata": {},
   "outputs": [],
   "source": []
  },
  {
   "cell_type": "code",
   "execution_count": null,
   "id": "a73d8c47",
   "metadata": {},
   "outputs": [],
   "source": []
  },
  {
   "cell_type": "code",
   "execution_count": 131,
   "id": "85d50351",
   "metadata": {},
   "outputs": [],
   "source": [
    "grid_search_cv = GridSearchCV(KNeighborsClassifier(),params)"
   ]
  },
  {
   "cell_type": "code",
   "execution_count": null,
   "id": "5ea6af95",
   "metadata": {},
   "outputs": [],
   "source": []
  },
  {
   "cell_type": "code",
   "execution_count": null,
   "id": "c3acf8b6",
   "metadata": {},
   "outputs": [],
   "source": []
  },
  {
   "cell_type": "code",
   "execution_count": 132,
   "id": "2ee8cd97",
   "metadata": {},
   "outputs": [
    {
     "name": "stderr",
     "output_type": "stream",
     "text": [
      "C:\\Users\\LENOVO\\anaconda3\\lib\\site-packages\\sklearn\\neighbors\\_classification.py:228: FutureWarning: Unlike other reduction functions (e.g. `skew`, `kurtosis`), the default behavior of `mode` typically preserves the axis it acts along. In SciPy 1.11.0, this behavior will change: the default value of `keepdims` will become False, the `axis` over which the statistic is taken will be eliminated, and the value None will no longer be accepted. Set `keepdims` to True or False to avoid this warning.\n",
      "  mode, _ = stats.mode(_y[neigh_ind, k], axis=1)\n",
      "C:\\Users\\LENOVO\\anaconda3\\lib\\site-packages\\sklearn\\neighbors\\_classification.py:228: FutureWarning: Unlike other reduction functions (e.g. `skew`, `kurtosis`), the default behavior of `mode` typically preserves the axis it acts along. In SciPy 1.11.0, this behavior will change: the default value of `keepdims` will become False, the `axis` over which the statistic is taken will be eliminated, and the value None will no longer be accepted. Set `keepdims` to True or False to avoid this warning.\n",
      "  mode, _ = stats.mode(_y[neigh_ind, k], axis=1)\n",
      "C:\\Users\\LENOVO\\anaconda3\\lib\\site-packages\\sklearn\\neighbors\\_classification.py:228: FutureWarning: Unlike other reduction functions (e.g. `skew`, `kurtosis`), the default behavior of `mode` typically preserves the axis it acts along. In SciPy 1.11.0, this behavior will change: the default value of `keepdims` will become False, the `axis` over which the statistic is taken will be eliminated, and the value None will no longer be accepted. Set `keepdims` to True or False to avoid this warning.\n",
      "  mode, _ = stats.mode(_y[neigh_ind, k], axis=1)\n",
      "C:\\Users\\LENOVO\\anaconda3\\lib\\site-packages\\sklearn\\neighbors\\_classification.py:228: FutureWarning: Unlike other reduction functions (e.g. `skew`, `kurtosis`), the default behavior of `mode` typically preserves the axis it acts along. In SciPy 1.11.0, this behavior will change: the default value of `keepdims` will become False, the `axis` over which the statistic is taken will be eliminated, and the value None will no longer be accepted. Set `keepdims` to True or False to avoid this warning.\n",
      "  mode, _ = stats.mode(_y[neigh_ind, k], axis=1)\n",
      "C:\\Users\\LENOVO\\anaconda3\\lib\\site-packages\\sklearn\\neighbors\\_classification.py:228: FutureWarning: Unlike other reduction functions (e.g. `skew`, `kurtosis`), the default behavior of `mode` typically preserves the axis it acts along. In SciPy 1.11.0, this behavior will change: the default value of `keepdims` will become False, the `axis` over which the statistic is taken will be eliminated, and the value None will no longer be accepted. Set `keepdims` to True or False to avoid this warning.\n",
      "  mode, _ = stats.mode(_y[neigh_ind, k], axis=1)\n",
      "C:\\Users\\LENOVO\\anaconda3\\lib\\site-packages\\sklearn\\neighbors\\_classification.py:228: FutureWarning: Unlike other reduction functions (e.g. `skew`, `kurtosis`), the default behavior of `mode` typically preserves the axis it acts along. In SciPy 1.11.0, this behavior will change: the default value of `keepdims` will become False, the `axis` over which the statistic is taken will be eliminated, and the value None will no longer be accepted. Set `keepdims` to True or False to avoid this warning.\n",
      "  mode, _ = stats.mode(_y[neigh_ind, k], axis=1)\n",
      "C:\\Users\\LENOVO\\anaconda3\\lib\\site-packages\\sklearn\\neighbors\\_classification.py:228: FutureWarning: Unlike other reduction functions (e.g. `skew`, `kurtosis`), the default behavior of `mode` typically preserves the axis it acts along. In SciPy 1.11.0, this behavior will change: the default value of `keepdims` will become False, the `axis` over which the statistic is taken will be eliminated, and the value None will no longer be accepted. Set `keepdims` to True or False to avoid this warning.\n",
      "  mode, _ = stats.mode(_y[neigh_ind, k], axis=1)\n",
      "C:\\Users\\LENOVO\\anaconda3\\lib\\site-packages\\sklearn\\neighbors\\_classification.py:228: FutureWarning: Unlike other reduction functions (e.g. `skew`, `kurtosis`), the default behavior of `mode` typically preserves the axis it acts along. In SciPy 1.11.0, this behavior will change: the default value of `keepdims` will become False, the `axis` over which the statistic is taken will be eliminated, and the value None will no longer be accepted. Set `keepdims` to True or False to avoid this warning.\n",
      "  mode, _ = stats.mode(_y[neigh_ind, k], axis=1)\n",
      "C:\\Users\\LENOVO\\anaconda3\\lib\\site-packages\\sklearn\\neighbors\\_classification.py:228: FutureWarning: Unlike other reduction functions (e.g. `skew`, `kurtosis`), the default behavior of `mode` typically preserves the axis it acts along. In SciPy 1.11.0, this behavior will change: the default value of `keepdims` will become False, the `axis` over which the statistic is taken will be eliminated, and the value None will no longer be accepted. Set `keepdims` to True or False to avoid this warning.\n",
      "  mode, _ = stats.mode(_y[neigh_ind, k], axis=1)\n",
      "C:\\Users\\LENOVO\\anaconda3\\lib\\site-packages\\sklearn\\neighbors\\_classification.py:228: FutureWarning: Unlike other reduction functions (e.g. `skew`, `kurtosis`), the default behavior of `mode` typically preserves the axis it acts along. In SciPy 1.11.0, this behavior will change: the default value of `keepdims` will become False, the `axis` over which the statistic is taken will be eliminated, and the value None will no longer be accepted. Set `keepdims` to True or False to avoid this warning.\n",
      "  mode, _ = stats.mode(_y[neigh_ind, k], axis=1)\n",
      "C:\\Users\\LENOVO\\anaconda3\\lib\\site-packages\\sklearn\\neighbors\\_classification.py:228: FutureWarning: Unlike other reduction functions (e.g. `skew`, `kurtosis`), the default behavior of `mode` typically preserves the axis it acts along. In SciPy 1.11.0, this behavior will change: the default value of `keepdims` will become False, the `axis` over which the statistic is taken will be eliminated, and the value None will no longer be accepted. Set `keepdims` to True or False to avoid this warning.\n",
      "  mode, _ = stats.mode(_y[neigh_ind, k], axis=1)\n",
      "C:\\Users\\LENOVO\\anaconda3\\lib\\site-packages\\sklearn\\neighbors\\_classification.py:228: FutureWarning: Unlike other reduction functions (e.g. `skew`, `kurtosis`), the default behavior of `mode` typically preserves the axis it acts along. In SciPy 1.11.0, this behavior will change: the default value of `keepdims` will become False, the `axis` over which the statistic is taken will be eliminated, and the value None will no longer be accepted. Set `keepdims` to True or False to avoid this warning.\n",
      "  mode, _ = stats.mode(_y[neigh_ind, k], axis=1)\n",
      "C:\\Users\\LENOVO\\anaconda3\\lib\\site-packages\\sklearn\\neighbors\\_classification.py:228: FutureWarning: Unlike other reduction functions (e.g. `skew`, `kurtosis`), the default behavior of `mode` typically preserves the axis it acts along. In SciPy 1.11.0, this behavior will change: the default value of `keepdims` will become False, the `axis` over which the statistic is taken will be eliminated, and the value None will no longer be accepted. Set `keepdims` to True or False to avoid this warning.\n",
      "  mode, _ = stats.mode(_y[neigh_ind, k], axis=1)\n",
      "C:\\Users\\LENOVO\\anaconda3\\lib\\site-packages\\sklearn\\neighbors\\_classification.py:228: FutureWarning: Unlike other reduction functions (e.g. `skew`, `kurtosis`), the default behavior of `mode` typically preserves the axis it acts along. In SciPy 1.11.0, this behavior will change: the default value of `keepdims` will become False, the `axis` over which the statistic is taken will be eliminated, and the value None will no longer be accepted. Set `keepdims` to True or False to avoid this warning.\n",
      "  mode, _ = stats.mode(_y[neigh_ind, k], axis=1)\n",
      "C:\\Users\\LENOVO\\anaconda3\\lib\\site-packages\\sklearn\\neighbors\\_classification.py:228: FutureWarning: Unlike other reduction functions (e.g. `skew`, `kurtosis`), the default behavior of `mode` typically preserves the axis it acts along. In SciPy 1.11.0, this behavior will change: the default value of `keepdims` will become False, the `axis` over which the statistic is taken will be eliminated, and the value None will no longer be accepted. Set `keepdims` to True or False to avoid this warning.\n",
      "  mode, _ = stats.mode(_y[neigh_ind, k], axis=1)\n",
      "C:\\Users\\LENOVO\\anaconda3\\lib\\site-packages\\sklearn\\neighbors\\_classification.py:228: FutureWarning: Unlike other reduction functions (e.g. `skew`, `kurtosis`), the default behavior of `mode` typically preserves the axis it acts along. In SciPy 1.11.0, this behavior will change: the default value of `keepdims` will become False, the `axis` over which the statistic is taken will be eliminated, and the value None will no longer be accepted. Set `keepdims` to True or False to avoid this warning.\n",
      "  mode, _ = stats.mode(_y[neigh_ind, k], axis=1)\n",
      "C:\\Users\\LENOVO\\anaconda3\\lib\\site-packages\\sklearn\\neighbors\\_classification.py:228: FutureWarning: Unlike other reduction functions (e.g. `skew`, `kurtosis`), the default behavior of `mode` typically preserves the axis it acts along. In SciPy 1.11.0, this behavior will change: the default value of `keepdims` will become False, the `axis` over which the statistic is taken will be eliminated, and the value None will no longer be accepted. Set `keepdims` to True or False to avoid this warning.\n",
      "  mode, _ = stats.mode(_y[neigh_ind, k], axis=1)\n",
      "C:\\Users\\LENOVO\\anaconda3\\lib\\site-packages\\sklearn\\neighbors\\_classification.py:228: FutureWarning: Unlike other reduction functions (e.g. `skew`, `kurtosis`), the default behavior of `mode` typically preserves the axis it acts along. In SciPy 1.11.0, this behavior will change: the default value of `keepdims` will become False, the `axis` over which the statistic is taken will be eliminated, and the value None will no longer be accepted. Set `keepdims` to True or False to avoid this warning.\n",
      "  mode, _ = stats.mode(_y[neigh_ind, k], axis=1)\n",
      "C:\\Users\\LENOVO\\anaconda3\\lib\\site-packages\\sklearn\\neighbors\\_classification.py:228: FutureWarning: Unlike other reduction functions (e.g. `skew`, `kurtosis`), the default behavior of `mode` typically preserves the axis it acts along. In SciPy 1.11.0, this behavior will change: the default value of `keepdims` will become False, the `axis` over which the statistic is taken will be eliminated, and the value None will no longer be accepted. Set `keepdims` to True or False to avoid this warning.\n",
      "  mode, _ = stats.mode(_y[neigh_ind, k], axis=1)\n",
      "C:\\Users\\LENOVO\\anaconda3\\lib\\site-packages\\sklearn\\neighbors\\_classification.py:228: FutureWarning: Unlike other reduction functions (e.g. `skew`, `kurtosis`), the default behavior of `mode` typically preserves the axis it acts along. In SciPy 1.11.0, this behavior will change: the default value of `keepdims` will become False, the `axis` over which the statistic is taken will be eliminated, and the value None will no longer be accepted. Set `keepdims` to True or False to avoid this warning.\n",
      "  mode, _ = stats.mode(_y[neigh_ind, k], axis=1)\n",
      "C:\\Users\\LENOVO\\anaconda3\\lib\\site-packages\\sklearn\\neighbors\\_classification.py:228: FutureWarning: Unlike other reduction functions (e.g. `skew`, `kurtosis`), the default behavior of `mode` typically preserves the axis it acts along. In SciPy 1.11.0, this behavior will change: the default value of `keepdims` will become False, the `axis` over which the statistic is taken will be eliminated, and the value None will no longer be accepted. Set `keepdims` to True or False to avoid this warning.\n",
      "  mode, _ = stats.mode(_y[neigh_ind, k], axis=1)\n",
      "C:\\Users\\LENOVO\\anaconda3\\lib\\site-packages\\sklearn\\neighbors\\_classification.py:228: FutureWarning: Unlike other reduction functions (e.g. `skew`, `kurtosis`), the default behavior of `mode` typically preserves the axis it acts along. In SciPy 1.11.0, this behavior will change: the default value of `keepdims` will become False, the `axis` over which the statistic is taken will be eliminated, and the value None will no longer be accepted. Set `keepdims` to True or False to avoid this warning.\n",
      "  mode, _ = stats.mode(_y[neigh_ind, k], axis=1)\n",
      "C:\\Users\\LENOVO\\anaconda3\\lib\\site-packages\\sklearn\\neighbors\\_classification.py:228: FutureWarning: Unlike other reduction functions (e.g. `skew`, `kurtosis`), the default behavior of `mode` typically preserves the axis it acts along. In SciPy 1.11.0, this behavior will change: the default value of `keepdims` will become False, the `axis` over which the statistic is taken will be eliminated, and the value None will no longer be accepted. Set `keepdims` to True or False to avoid this warning.\n",
      "  mode, _ = stats.mode(_y[neigh_ind, k], axis=1)\n",
      "C:\\Users\\LENOVO\\anaconda3\\lib\\site-packages\\sklearn\\neighbors\\_classification.py:228: FutureWarning: Unlike other reduction functions (e.g. `skew`, `kurtosis`), the default behavior of `mode` typically preserves the axis it acts along. In SciPy 1.11.0, this behavior will change: the default value of `keepdims` will become False, the `axis` over which the statistic is taken will be eliminated, and the value None will no longer be accepted. Set `keepdims` to True or False to avoid this warning.\n",
      "  mode, _ = stats.mode(_y[neigh_ind, k], axis=1)\n",
      "C:\\Users\\LENOVO\\anaconda3\\lib\\site-packages\\sklearn\\neighbors\\_classification.py:228: FutureWarning: Unlike other reduction functions (e.g. `skew`, `kurtosis`), the default behavior of `mode` typically preserves the axis it acts along. In SciPy 1.11.0, this behavior will change: the default value of `keepdims` will become False, the `axis` over which the statistic is taken will be eliminated, and the value None will no longer be accepted. Set `keepdims` to True or False to avoid this warning.\n",
      "  mode, _ = stats.mode(_y[neigh_ind, k], axis=1)\n",
      "C:\\Users\\LENOVO\\anaconda3\\lib\\site-packages\\sklearn\\neighbors\\_classification.py:228: FutureWarning: Unlike other reduction functions (e.g. `skew`, `kurtosis`), the default behavior of `mode` typically preserves the axis it acts along. In SciPy 1.11.0, this behavior will change: the default value of `keepdims` will become False, the `axis` over which the statistic is taken will be eliminated, and the value None will no longer be accepted. Set `keepdims` to True or False to avoid this warning.\n",
      "  mode, _ = stats.mode(_y[neigh_ind, k], axis=1)\n",
      "C:\\Users\\LENOVO\\anaconda3\\lib\\site-packages\\sklearn\\neighbors\\_classification.py:228: FutureWarning: Unlike other reduction functions (e.g. `skew`, `kurtosis`), the default behavior of `mode` typically preserves the axis it acts along. In SciPy 1.11.0, this behavior will change: the default value of `keepdims` will become False, the `axis` over which the statistic is taken will be eliminated, and the value None will no longer be accepted. Set `keepdims` to True or False to avoid this warning.\n",
      "  mode, _ = stats.mode(_y[neigh_ind, k], axis=1)\n",
      "C:\\Users\\LENOVO\\anaconda3\\lib\\site-packages\\sklearn\\neighbors\\_classification.py:228: FutureWarning: Unlike other reduction functions (e.g. `skew`, `kurtosis`), the default behavior of `mode` typically preserves the axis it acts along. In SciPy 1.11.0, this behavior will change: the default value of `keepdims` will become False, the `axis` over which the statistic is taken will be eliminated, and the value None will no longer be accepted. Set `keepdims` to True or False to avoid this warning.\n",
      "  mode, _ = stats.mode(_y[neigh_ind, k], axis=1)\n",
      "C:\\Users\\LENOVO\\anaconda3\\lib\\site-packages\\sklearn\\neighbors\\_classification.py:228: FutureWarning: Unlike other reduction functions (e.g. `skew`, `kurtosis`), the default behavior of `mode` typically preserves the axis it acts along. In SciPy 1.11.0, this behavior will change: the default value of `keepdims` will become False, the `axis` over which the statistic is taken will be eliminated, and the value None will no longer be accepted. Set `keepdims` to True or False to avoid this warning.\n",
      "  mode, _ = stats.mode(_y[neigh_ind, k], axis=1)\n",
      "C:\\Users\\LENOVO\\anaconda3\\lib\\site-packages\\sklearn\\neighbors\\_classification.py:228: FutureWarning: Unlike other reduction functions (e.g. `skew`, `kurtosis`), the default behavior of `mode` typically preserves the axis it acts along. In SciPy 1.11.0, this behavior will change: the default value of `keepdims` will become False, the `axis` over which the statistic is taken will be eliminated, and the value None will no longer be accepted. Set `keepdims` to True or False to avoid this warning.\n",
      "  mode, _ = stats.mode(_y[neigh_ind, k], axis=1)\n",
      "C:\\Users\\LENOVO\\anaconda3\\lib\\site-packages\\sklearn\\neighbors\\_classification.py:228: FutureWarning: Unlike other reduction functions (e.g. `skew`, `kurtosis`), the default behavior of `mode` typically preserves the axis it acts along. In SciPy 1.11.0, this behavior will change: the default value of `keepdims` will become False, the `axis` over which the statistic is taken will be eliminated, and the value None will no longer be accepted. Set `keepdims` to True or False to avoid this warning.\n",
      "  mode, _ = stats.mode(_y[neigh_ind, k], axis=1)\n",
      "C:\\Users\\LENOVO\\anaconda3\\lib\\site-packages\\sklearn\\neighbors\\_classification.py:228: FutureWarning: Unlike other reduction functions (e.g. `skew`, `kurtosis`), the default behavior of `mode` typically preserves the axis it acts along. In SciPy 1.11.0, this behavior will change: the default value of `keepdims` will become False, the `axis` over which the statistic is taken will be eliminated, and the value None will no longer be accepted. Set `keepdims` to True or False to avoid this warning.\n",
      "  mode, _ = stats.mode(_y[neigh_ind, k], axis=1)\n",
      "C:\\Users\\LENOVO\\anaconda3\\lib\\site-packages\\sklearn\\neighbors\\_classification.py:228: FutureWarning: Unlike other reduction functions (e.g. `skew`, `kurtosis`), the default behavior of `mode` typically preserves the axis it acts along. In SciPy 1.11.0, this behavior will change: the default value of `keepdims` will become False, the `axis` over which the statistic is taken will be eliminated, and the value None will no longer be accepted. Set `keepdims` to True or False to avoid this warning.\n",
      "  mode, _ = stats.mode(_y[neigh_ind, k], axis=1)\n",
      "C:\\Users\\LENOVO\\anaconda3\\lib\\site-packages\\sklearn\\neighbors\\_classification.py:228: FutureWarning: Unlike other reduction functions (e.g. `skew`, `kurtosis`), the default behavior of `mode` typically preserves the axis it acts along. In SciPy 1.11.0, this behavior will change: the default value of `keepdims` will become False, the `axis` over which the statistic is taken will be eliminated, and the value None will no longer be accepted. Set `keepdims` to True or False to avoid this warning.\n",
      "  mode, _ = stats.mode(_y[neigh_ind, k], axis=1)\n",
      "C:\\Users\\LENOVO\\anaconda3\\lib\\site-packages\\sklearn\\neighbors\\_classification.py:228: FutureWarning: Unlike other reduction functions (e.g. `skew`, `kurtosis`), the default behavior of `mode` typically preserves the axis it acts along. In SciPy 1.11.0, this behavior will change: the default value of `keepdims` will become False, the `axis` over which the statistic is taken will be eliminated, and the value None will no longer be accepted. Set `keepdims` to True or False to avoid this warning.\n",
      "  mode, _ = stats.mode(_y[neigh_ind, k], axis=1)\n",
      "C:\\Users\\LENOVO\\anaconda3\\lib\\site-packages\\sklearn\\neighbors\\_classification.py:228: FutureWarning: Unlike other reduction functions (e.g. `skew`, `kurtosis`), the default behavior of `mode` typically preserves the axis it acts along. In SciPy 1.11.0, this behavior will change: the default value of `keepdims` will become False, the `axis` over which the statistic is taken will be eliminated, and the value None will no longer be accepted. Set `keepdims` to True or False to avoid this warning.\n",
      "  mode, _ = stats.mode(_y[neigh_ind, k], axis=1)\n",
      "C:\\Users\\LENOVO\\anaconda3\\lib\\site-packages\\sklearn\\neighbors\\_classification.py:228: FutureWarning: Unlike other reduction functions (e.g. `skew`, `kurtosis`), the default behavior of `mode` typically preserves the axis it acts along. In SciPy 1.11.0, this behavior will change: the default value of `keepdims` will become False, the `axis` over which the statistic is taken will be eliminated, and the value None will no longer be accepted. Set `keepdims` to True or False to avoid this warning.\n",
      "  mode, _ = stats.mode(_y[neigh_ind, k], axis=1)\n",
      "C:\\Users\\LENOVO\\anaconda3\\lib\\site-packages\\sklearn\\neighbors\\_classification.py:228: FutureWarning: Unlike other reduction functions (e.g. `skew`, `kurtosis`), the default behavior of `mode` typically preserves the axis it acts along. In SciPy 1.11.0, this behavior will change: the default value of `keepdims` will become False, the `axis` over which the statistic is taken will be eliminated, and the value None will no longer be accepted. Set `keepdims` to True or False to avoid this warning.\n",
      "  mode, _ = stats.mode(_y[neigh_ind, k], axis=1)\n",
      "C:\\Users\\LENOVO\\anaconda3\\lib\\site-packages\\sklearn\\neighbors\\_classification.py:228: FutureWarning: Unlike other reduction functions (e.g. `skew`, `kurtosis`), the default behavior of `mode` typically preserves the axis it acts along. In SciPy 1.11.0, this behavior will change: the default value of `keepdims` will become False, the `axis` over which the statistic is taken will be eliminated, and the value None will no longer be accepted. Set `keepdims` to True or False to avoid this warning.\n",
      "  mode, _ = stats.mode(_y[neigh_ind, k], axis=1)\n",
      "C:\\Users\\LENOVO\\anaconda3\\lib\\site-packages\\sklearn\\neighbors\\_classification.py:228: FutureWarning: Unlike other reduction functions (e.g. `skew`, `kurtosis`), the default behavior of `mode` typically preserves the axis it acts along. In SciPy 1.11.0, this behavior will change: the default value of `keepdims` will become False, the `axis` over which the statistic is taken will be eliminated, and the value None will no longer be accepted. Set `keepdims` to True or False to avoid this warning.\n",
      "  mode, _ = stats.mode(_y[neigh_ind, k], axis=1)\n",
      "C:\\Users\\LENOVO\\anaconda3\\lib\\site-packages\\sklearn\\neighbors\\_classification.py:228: FutureWarning: Unlike other reduction functions (e.g. `skew`, `kurtosis`), the default behavior of `mode` typically preserves the axis it acts along. In SciPy 1.11.0, this behavior will change: the default value of `keepdims` will become False, the `axis` over which the statistic is taken will be eliminated, and the value None will no longer be accepted. Set `keepdims` to True or False to avoid this warning.\n",
      "  mode, _ = stats.mode(_y[neigh_ind, k], axis=1)\n",
      "C:\\Users\\LENOVO\\anaconda3\\lib\\site-packages\\sklearn\\neighbors\\_classification.py:228: FutureWarning: Unlike other reduction functions (e.g. `skew`, `kurtosis`), the default behavior of `mode` typically preserves the axis it acts along. In SciPy 1.11.0, this behavior will change: the default value of `keepdims` will become False, the `axis` over which the statistic is taken will be eliminated, and the value None will no longer be accepted. Set `keepdims` to True or False to avoid this warning.\n",
      "  mode, _ = stats.mode(_y[neigh_ind, k], axis=1)\n",
      "C:\\Users\\LENOVO\\anaconda3\\lib\\site-packages\\sklearn\\neighbors\\_classification.py:228: FutureWarning: Unlike other reduction functions (e.g. `skew`, `kurtosis`), the default behavior of `mode` typically preserves the axis it acts along. In SciPy 1.11.0, this behavior will change: the default value of `keepdims` will become False, the `axis` over which the statistic is taken will be eliminated, and the value None will no longer be accepted. Set `keepdims` to True or False to avoid this warning.\n",
      "  mode, _ = stats.mode(_y[neigh_ind, k], axis=1)\n",
      "C:\\Users\\LENOVO\\anaconda3\\lib\\site-packages\\sklearn\\neighbors\\_classification.py:228: FutureWarning: Unlike other reduction functions (e.g. `skew`, `kurtosis`), the default behavior of `mode` typically preserves the axis it acts along. In SciPy 1.11.0, this behavior will change: the default value of `keepdims` will become False, the `axis` over which the statistic is taken will be eliminated, and the value None will no longer be accepted. Set `keepdims` to True or False to avoid this warning.\n",
      "  mode, _ = stats.mode(_y[neigh_ind, k], axis=1)\n",
      "C:\\Users\\LENOVO\\anaconda3\\lib\\site-packages\\sklearn\\neighbors\\_classification.py:228: FutureWarning: Unlike other reduction functions (e.g. `skew`, `kurtosis`), the default behavior of `mode` typically preserves the axis it acts along. In SciPy 1.11.0, this behavior will change: the default value of `keepdims` will become False, the `axis` over which the statistic is taken will be eliminated, and the value None will no longer be accepted. Set `keepdims` to True or False to avoid this warning.\n",
      "  mode, _ = stats.mode(_y[neigh_ind, k], axis=1)\n",
      "C:\\Users\\LENOVO\\anaconda3\\lib\\site-packages\\sklearn\\neighbors\\_classification.py:228: FutureWarning: Unlike other reduction functions (e.g. `skew`, `kurtosis`), the default behavior of `mode` typically preserves the axis it acts along. In SciPy 1.11.0, this behavior will change: the default value of `keepdims` will become False, the `axis` over which the statistic is taken will be eliminated, and the value None will no longer be accepted. Set `keepdims` to True or False to avoid this warning.\n",
      "  mode, _ = stats.mode(_y[neigh_ind, k], axis=1)\n",
      "C:\\Users\\LENOVO\\anaconda3\\lib\\site-packages\\sklearn\\neighbors\\_classification.py:228: FutureWarning: Unlike other reduction functions (e.g. `skew`, `kurtosis`), the default behavior of `mode` typically preserves the axis it acts along. In SciPy 1.11.0, this behavior will change: the default value of `keepdims` will become False, the `axis` over which the statistic is taken will be eliminated, and the value None will no longer be accepted. Set `keepdims` to True or False to avoid this warning.\n",
      "  mode, _ = stats.mode(_y[neigh_ind, k], axis=1)\n",
      "C:\\Users\\LENOVO\\anaconda3\\lib\\site-packages\\sklearn\\neighbors\\_classification.py:228: FutureWarning: Unlike other reduction functions (e.g. `skew`, `kurtosis`), the default behavior of `mode` typically preserves the axis it acts along. In SciPy 1.11.0, this behavior will change: the default value of `keepdims` will become False, the `axis` over which the statistic is taken will be eliminated, and the value None will no longer be accepted. Set `keepdims` to True or False to avoid this warning.\n",
      "  mode, _ = stats.mode(_y[neigh_ind, k], axis=1)\n",
      "C:\\Users\\LENOVO\\anaconda3\\lib\\site-packages\\sklearn\\neighbors\\_classification.py:228: FutureWarning: Unlike other reduction functions (e.g. `skew`, `kurtosis`), the default behavior of `mode` typically preserves the axis it acts along. In SciPy 1.11.0, this behavior will change: the default value of `keepdims` will become False, the `axis` over which the statistic is taken will be eliminated, and the value None will no longer be accepted. Set `keepdims` to True or False to avoid this warning.\n",
      "  mode, _ = stats.mode(_y[neigh_ind, k], axis=1)\n",
      "C:\\Users\\LENOVO\\anaconda3\\lib\\site-packages\\sklearn\\neighbors\\_classification.py:228: FutureWarning: Unlike other reduction functions (e.g. `skew`, `kurtosis`), the default behavior of `mode` typically preserves the axis it acts along. In SciPy 1.11.0, this behavior will change: the default value of `keepdims` will become False, the `axis` over which the statistic is taken will be eliminated, and the value None will no longer be accepted. Set `keepdims` to True or False to avoid this warning.\n",
      "  mode, _ = stats.mode(_y[neigh_ind, k], axis=1)\n"
     ]
    },
    {
     "data": {
      "text/plain": [
       "GridSearchCV(estimator=KNeighborsClassifier(),\n",
       "             param_grid={'n_neighbors': [1, 2, 3, 4, 5, 6, 7, 8, 9, 10]})"
      ]
     },
     "execution_count": 132,
     "metadata": {},
     "output_type": "execute_result"
    }
   ],
   "source": [
    "grid_search_cv.fit(x_train_z,y_train)"
   ]
  },
  {
   "cell_type": "code",
   "execution_count": null,
   "id": "f75ea4ed",
   "metadata": {},
   "outputs": [],
   "source": []
  },
  {
   "cell_type": "code",
   "execution_count": 133,
   "id": "a72ac848",
   "metadata": {},
   "outputs": [
    {
     "data": {
      "text/plain": [
       "{'n_neighbors': 8}"
      ]
     },
     "execution_count": 133,
     "metadata": {},
     "output_type": "execute_result"
    }
   ],
   "source": [
    "grid_search_cv.best_params_"
   ]
  },
  {
   "cell_type": "code",
   "execution_count": null,
   "id": "87ceb535",
   "metadata": {},
   "outputs": [],
   "source": []
  },
  {
   "cell_type": "code",
   "execution_count": 134,
   "id": "0fdf06c4",
   "metadata": {},
   "outputs": [],
   "source": [
    "optimised_KNN=grid_search_cv.best_estimator_"
   ]
  },
  {
   "cell_type": "code",
   "execution_count": null,
   "id": "4d0d8d67",
   "metadata": {},
   "outputs": [],
   "source": []
  },
  {
   "cell_type": "code",
   "execution_count": 136,
   "id": "031d8808",
   "metadata": {},
   "outputs": [
    {
     "name": "stderr",
     "output_type": "stream",
     "text": [
      "C:\\Users\\LENOVO\\anaconda3\\lib\\site-packages\\sklearn\\neighbors\\_classification.py:228: FutureWarning: Unlike other reduction functions (e.g. `skew`, `kurtosis`), the default behavior of `mode` typically preserves the axis it acts along. In SciPy 1.11.0, this behavior will change: the default value of `keepdims` will become False, the `axis` over which the statistic is taken will be eliminated, and the value None will no longer be accepted. Set `keepdims` to True or False to avoid this warning.\n",
      "  mode, _ = stats.mode(_y[neigh_ind, k], axis=1)\n"
     ]
    }
   ],
   "source": [
    "y_test_pred=optimised_KNN.predict(x_test_z)"
   ]
  },
  {
   "cell_type": "code",
   "execution_count": null,
   "id": "a300273e",
   "metadata": {},
   "outputs": [],
   "source": []
  },
  {
   "cell_type": "code",
   "execution_count": null,
   "id": "9ce81269",
   "metadata": {},
   "outputs": [],
   "source": []
  },
  {
   "cell_type": "code",
   "execution_count": 137,
   "id": "b67629ad",
   "metadata": {},
   "outputs": [
    {
     "data": {
      "text/plain": [
       "array([[ 5,  5],\n",
       "       [ 1, 51]], dtype=int64)"
      ]
     },
     "execution_count": 137,
     "metadata": {},
     "output_type": "execute_result"
    }
   ],
   "source": [
    "confusion_matrix(y_test,y_test_pred)"
   ]
  },
  {
   "cell_type": "code",
   "execution_count": null,
   "id": "e5ac5c21",
   "metadata": {},
   "outputs": [],
   "source": []
  },
  {
   "cell_type": "code",
   "execution_count": 138,
   "id": "9859fb3a",
   "metadata": {},
   "outputs": [
    {
     "data": {
      "text/plain": [
       "0.9032258064516129"
      ]
     },
     "execution_count": 138,
     "metadata": {},
     "output_type": "execute_result"
    }
   ],
   "source": [
    "accuracy_score(y_test,y_test_pred)"
   ]
  },
  {
   "cell_type": "code",
   "execution_count": null,
   "id": "0fe8c999",
   "metadata": {},
   "outputs": [],
   "source": []
  },
  {
   "cell_type": "code",
   "execution_count": null,
   "id": "553a0b95",
   "metadata": {},
   "outputs": [],
   "source": []
  },
  {
   "cell_type": "code",
   "execution_count": null,
   "id": "1f9daca0",
   "metadata": {},
   "outputs": [],
   "source": []
  },
  {
   "cell_type": "code",
   "execution_count": null,
   "id": "29c562d6",
   "metadata": {},
   "outputs": [],
   "source": []
  },
  {
   "cell_type": "code",
   "execution_count": null,
   "id": "10fa12e4",
   "metadata": {},
   "outputs": [],
   "source": []
  },
  {
   "cell_type": "code",
   "execution_count": null,
   "id": "116678d1",
   "metadata": {},
   "outputs": [],
   "source": []
  },
  {
   "cell_type": "code",
   "execution_count": null,
   "id": "4d7db6ee",
   "metadata": {},
   "outputs": [],
   "source": []
  },
  {
   "cell_type": "code",
   "execution_count": null,
   "id": "23a23f58",
   "metadata": {},
   "outputs": [],
   "source": []
  },
  {
   "cell_type": "code",
   "execution_count": null,
   "id": "fdc34d1c",
   "metadata": {},
   "outputs": [],
   "source": []
  },
  {
   "cell_type": "code",
   "execution_count": null,
   "id": "c89c00af",
   "metadata": {},
   "outputs": [],
   "source": []
  },
  {
   "cell_type": "code",
   "execution_count": null,
   "id": "2c51e5e7",
   "metadata": {},
   "outputs": [],
   "source": []
  },
  {
   "cell_type": "code",
   "execution_count": null,
   "id": "21afcf54",
   "metadata": {},
   "outputs": [],
   "source": []
  }
 ],
 "metadata": {
  "kernelspec": {
   "display_name": "Python 3 (ipykernel)",
   "language": "python",
   "name": "python3"
  },
  "language_info": {
   "codemirror_mode": {
    "name": "ipython",
    "version": 3
   },
   "file_extension": ".py",
   "mimetype": "text/x-python",
   "name": "python",
   "nbconvert_exporter": "python",
   "pygments_lexer": "ipython3",
   "version": "3.11.5"
  }
 },
 "nbformat": 4,
 "nbformat_minor": 5
}
